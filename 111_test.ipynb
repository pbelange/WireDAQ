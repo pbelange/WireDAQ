{
 "cells": [
  {
   "cell_type": "code",
   "execution_count": 1,
   "metadata": {},
   "outputs": [],
   "source": [
    "from bokeh.plotting import output_notebook, show\n",
    "from bokeh.layouts import column"
   ]
  },
  {
   "cell_type": "code",
   "execution_count": 35,
   "metadata": {},
   "outputs": [
    {
     "data": {
      "text/html": [
       "<style>\n",
       "        .bk-notebook-logo {\n",
       "            display: block;\n",
       "            width: 20px;\n",
       "            height: 20px;\n",
       "            background-image: url(data:image/png;base64,iVBORw0KGgoAAAANSUhEUgAAABQAAAAUCAYAAACNiR0NAAAABHNCSVQICAgIfAhkiAAAAAlwSFlzAAALEgAACxIB0t1+/AAAABx0RVh0U29mdHdhcmUAQWRvYmUgRmlyZXdvcmtzIENTNui8sowAAAOkSURBVDiNjZRtaJVlGMd/1/08zzln5zjP1LWcU9N0NkN8m2CYjpgQYQXqSs0I84OLIC0hkEKoPtiH3gmKoiJDU7QpLgoLjLIQCpEsNJ1vqUOdO7ppbuec5+V+rj4ctwzd8IIbbi6u+8f1539dt3A78eXC7QizUF7gyV1fD1Yqg4JWz84yffhm0qkFqBogB9rM8tZdtwVsPUhWhGcFJngGeWrPzHm5oaMmkfEg1usvLFyc8jLRqDOMru7AyC8saQr7GG7f5fvDeH7Ej8CM66nIF+8yngt6HWaKh7k49Soy9nXurCi1o3qUbS3zWfrYeQDTB/Qj6kX6Ybhw4B+bOYoLKCC9H3Nu/leUTZ1JdRWkkn2ldcCamzrcf47KKXdAJllSlxAOkRgyHsGC/zRday5Qld9DyoM4/q/rUoy/CXh3jzOu3bHUVZeU+DEn8FInkPBFlu3+nW3Nw0mk6vCDiWg8CeJaxEwuHS3+z5RgY+YBR6V1Z1nxSOfoaPa4LASWxxdNp+VWTk7+4vzaou8v8PN+xo+KY2xsw6une2frhw05CTYOmQvsEhjhWjn0bmXPjpE1+kplmmkP3suftwTubK9Vq22qKmrBhpY4jvd5afdRA3wGjFAgcnTK2s4hY0/GPNIb0nErGMCRxWOOX64Z8RAC4oCXdklmEvcL8o0BfkNK4lUg9HTl+oPlQxdNo3Mg4Nv175e/1LDGzZen30MEjRUtmXSfiTVu1kK8W4txyV6BMKlbgk3lMwYCiusNy9fVfvvwMxv8Ynl6vxoByANLTWplvuj/nF9m2+PDtt1eiHPBr1oIfhCChQMBw6Aw0UulqTKZdfVvfG7VcfIqLG9bcldL/+pdWTLxLUy8Qq38heUIjh4XlzZxzQm19lLFlr8vdQ97rjZVOLf8nclzckbcD4wxXMidpX30sFd37Fv/GtwwhzhxGVAprjbg0gCAEeIgwCZyTV2Z1REEW8O4py0wsjeloKoMr6iCY6dP92H6Vw/oTyICIthibxjm/DfN9lVz8IqtqKYLUXfoKVMVQVVJOElGjrnnUt9T9wbgp8AyYKaGlqingHZU/uG2NTZSVqwHQTWkx9hxjkpWDaCg6Ckj5qebgBVbT3V3NNXMSiWSDdGV3hrtzla7J+duwPOToIg42ChPQOQjspnSlp1V+Gjdged7+8UN5CRAV7a5EdFNwCjEaBR27b3W890TE7g24NAP/mMDXRWrGoFPQI9ls/MWO2dWFAar/xcOIImbbpA3zgAAAABJRU5ErkJggg==);\n",
       "        }\n",
       "    </style>\n",
       "    <div>\n",
       "        <a href=\"https://bokeh.org\" target=\"_blank\" class=\"bk-notebook-logo\"></a>\n",
       "        <span id=\"ff5407f8-1059-452c-b708-0b2fe125e55c\">Loading BokehJS ...</span>\n",
       "    </div>\n"
      ]
     },
     "metadata": {},
     "output_type": "display_data"
    },
    {
     "data": {
      "application/javascript": "(function(root) {\n  function now() {\n    return new Date();\n  }\n\n  const force = true;\n\n  if (typeof root._bokeh_onload_callbacks === \"undefined\" || force === true) {\n    root._bokeh_onload_callbacks = [];\n    root._bokeh_is_loading = undefined;\n  }\n\nconst JS_MIME_TYPE = 'application/javascript';\n  const HTML_MIME_TYPE = 'text/html';\n  const EXEC_MIME_TYPE = 'application/vnd.bokehjs_exec.v0+json';\n  const CLASS_NAME = 'output_bokeh rendered_html';\n\n  /**\n   * Render data to the DOM node\n   */\n  function render(props, node) {\n    const script = document.createElement(\"script\");\n    node.appendChild(script);\n  }\n\n  /**\n   * Handle when an output is cleared or removed\n   */\n  function handleClearOutput(event, handle) {\n    const cell = handle.cell;\n\n    const id = cell.output_area._bokeh_element_id;\n    const server_id = cell.output_area._bokeh_server_id;\n    // Clean up Bokeh references\n    if (id != null && id in Bokeh.index) {\n      Bokeh.index[id].model.document.clear();\n      delete Bokeh.index[id];\n    }\n\n    if (server_id !== undefined) {\n      // Clean up Bokeh references\n      const cmd_clean = \"from bokeh.io.state import curstate; print(curstate().uuid_to_server['\" + server_id + \"'].get_sessions()[0].document.roots[0]._id)\";\n      cell.notebook.kernel.execute(cmd_clean, {\n        iopub: {\n          output: function(msg) {\n            const id = msg.content.text.trim();\n            if (id in Bokeh.index) {\n              Bokeh.index[id].model.document.clear();\n              delete Bokeh.index[id];\n            }\n          }\n        }\n      });\n      // Destroy server and session\n      const cmd_destroy = \"import bokeh.io.notebook as ion; ion.destroy_server('\" + server_id + \"')\";\n      cell.notebook.kernel.execute(cmd_destroy);\n    }\n  }\n\n  /**\n   * Handle when a new output is added\n   */\n  function handleAddOutput(event, handle) {\n    const output_area = handle.output_area;\n    const output = handle.output;\n\n    // limit handleAddOutput to display_data with EXEC_MIME_TYPE content only\n    if ((output.output_type != \"display_data\") || (!Object.prototype.hasOwnProperty.call(output.data, EXEC_MIME_TYPE))) {\n      return\n    }\n\n    const toinsert = output_area.element.find(\".\" + CLASS_NAME.split(' ')[0]);\n\n    if (output.metadata[EXEC_MIME_TYPE][\"id\"] !== undefined) {\n      toinsert[toinsert.length - 1].firstChild.textContent = output.data[JS_MIME_TYPE];\n      // store reference to embed id on output_area\n      output_area._bokeh_element_id = output.metadata[EXEC_MIME_TYPE][\"id\"];\n    }\n    if (output.metadata[EXEC_MIME_TYPE][\"server_id\"] !== undefined) {\n      const bk_div = document.createElement(\"div\");\n      bk_div.innerHTML = output.data[HTML_MIME_TYPE];\n      const script_attrs = bk_div.children[0].attributes;\n      for (let i = 0; i < script_attrs.length; i++) {\n        toinsert[toinsert.length - 1].firstChild.setAttribute(script_attrs[i].name, script_attrs[i].value);\n        toinsert[toinsert.length - 1].firstChild.textContent = bk_div.children[0].textContent\n      }\n      // store reference to server id on output_area\n      output_area._bokeh_server_id = output.metadata[EXEC_MIME_TYPE][\"server_id\"];\n    }\n  }\n\n  function register_renderer(events, OutputArea) {\n\n    function append_mime(data, metadata, element) {\n      // create a DOM node to render to\n      const toinsert = this.create_output_subarea(\n        metadata,\n        CLASS_NAME,\n        EXEC_MIME_TYPE\n      );\n      this.keyboard_manager.register_events(toinsert);\n      // Render to node\n      const props = {data: data, metadata: metadata[EXEC_MIME_TYPE]};\n      render(props, toinsert[toinsert.length - 1]);\n      element.append(toinsert);\n      return toinsert\n    }\n\n    /* Handle when an output is cleared or removed */\n    events.on('clear_output.CodeCell', handleClearOutput);\n    events.on('delete.Cell', handleClearOutput);\n\n    /* Handle when a new output is added */\n    events.on('output_added.OutputArea', handleAddOutput);\n\n    /**\n     * Register the mime type and append_mime function with output_area\n     */\n    OutputArea.prototype.register_mime_type(EXEC_MIME_TYPE, append_mime, {\n      /* Is output safe? */\n      safe: true,\n      /* Index of renderer in `output_area.display_order` */\n      index: 0\n    });\n  }\n\n  // register the mime type if in Jupyter Notebook environment and previously unregistered\n  if (root.Jupyter !== undefined) {\n    const events = require('base/js/events');\n    const OutputArea = require('notebook/js/outputarea').OutputArea;\n\n    if (OutputArea.prototype.mime_types().indexOf(EXEC_MIME_TYPE) == -1) {\n      register_renderer(events, OutputArea);\n    }\n  }\n  if (typeof (root._bokeh_timeout) === \"undefined\" || force === true) {\n    root._bokeh_timeout = Date.now() + 5000;\n    root._bokeh_failed_load = false;\n  }\n\n  const NB_LOAD_WARNING = {'data': {'text/html':\n     \"<div style='background-color: #fdd'>\\n\"+\n     \"<p>\\n\"+\n     \"BokehJS does not appear to have successfully loaded. If loading BokehJS from CDN, this \\n\"+\n     \"may be due to a slow or bad network connection. Possible fixes:\\n\"+\n     \"</p>\\n\"+\n     \"<ul>\\n\"+\n     \"<li>re-rerun `output_notebook()` to attempt to load from CDN again, or</li>\\n\"+\n     \"<li>use INLINE resources instead, as so:</li>\\n\"+\n     \"</ul>\\n\"+\n     \"<code>\\n\"+\n     \"from bokeh.resources import INLINE\\n\"+\n     \"output_notebook(resources=INLINE)\\n\"+\n     \"</code>\\n\"+\n     \"</div>\"}};\n\n  function display_loaded() {\n    const el = document.getElementById(\"ff5407f8-1059-452c-b708-0b2fe125e55c\");\n    if (el != null) {\n      el.textContent = \"BokehJS is loading...\";\n    }\n    if (root.Bokeh !== undefined) {\n      if (el != null) {\n        el.textContent = \"BokehJS \" + root.Bokeh.version + \" successfully loaded.\";\n      }\n    } else if (Date.now() < root._bokeh_timeout) {\n      setTimeout(display_loaded, 100)\n    }\n  }\n\n  function run_callbacks() {\n    try {\n      root._bokeh_onload_callbacks.forEach(function(callback) {\n        if (callback != null)\n          callback();\n      });\n    } finally {\n      delete root._bokeh_onload_callbacks\n    }\n    console.debug(\"Bokeh: all callbacks have finished\");\n  }\n\n  function load_libs(css_urls, js_urls, callback) {\n    if (css_urls == null) css_urls = [];\n    if (js_urls == null) js_urls = [];\n\n    root._bokeh_onload_callbacks.push(callback);\n    if (root._bokeh_is_loading > 0) {\n      console.debug(\"Bokeh: BokehJS is being loaded, scheduling callback at\", now());\n      return null;\n    }\n    if (js_urls == null || js_urls.length === 0) {\n      run_callbacks();\n      return null;\n    }\n    console.debug(\"Bokeh: BokehJS not loaded, scheduling load and callback at\", now());\n    root._bokeh_is_loading = css_urls.length + js_urls.length;\n\n    function on_load() {\n      root._bokeh_is_loading--;\n      if (root._bokeh_is_loading === 0) {\n        console.debug(\"Bokeh: all BokehJS libraries/stylesheets loaded\");\n        run_callbacks()\n      }\n    }\n\n    function on_error(url) {\n      console.error(\"failed to load \" + url);\n    }\n\n    for (let i = 0; i < css_urls.length; i++) {\n      const url = css_urls[i];\n      const element = document.createElement(\"link\");\n      element.onload = on_load;\n      element.onerror = on_error.bind(null, url);\n      element.rel = \"stylesheet\";\n      element.type = \"text/css\";\n      element.href = url;\n      console.debug(\"Bokeh: injecting link tag for BokehJS stylesheet: \", url);\n      document.body.appendChild(element);\n    }\n\n    for (let i = 0; i < js_urls.length; i++) {\n      const url = js_urls[i];\n      const element = document.createElement('script');\n      element.onload = on_load;\n      element.onerror = on_error.bind(null, url);\n      element.async = false;\n      element.src = url;\n      console.debug(\"Bokeh: injecting script tag for BokehJS library: \", url);\n      document.head.appendChild(element);\n    }\n  };\n\n  function inject_raw_css(css) {\n    const element = document.createElement(\"style\");\n    element.appendChild(document.createTextNode(css));\n    document.body.appendChild(element);\n  }\n\n  const js_urls = [\"https://cdn.bokeh.org/bokeh/release/bokeh-3.1.1.min.js\", \"https://cdn.bokeh.org/bokeh/release/bokeh-gl-3.1.1.min.js\", \"https://cdn.bokeh.org/bokeh/release/bokeh-widgets-3.1.1.min.js\", \"https://cdn.bokeh.org/bokeh/release/bokeh-tables-3.1.1.min.js\", \"https://cdn.bokeh.org/bokeh/release/bokeh-mathjax-3.1.1.min.js\"];\n  const css_urls = [];\n\n  const inline_js = [    function(Bokeh) {\n      Bokeh.set_log_level(\"info\");\n    },\nfunction(Bokeh) {\n    }\n  ];\n\n  function run_inline_js() {\n    if (root.Bokeh !== undefined || force === true) {\n          for (let i = 0; i < inline_js.length; i++) {\n      inline_js[i].call(root, root.Bokeh);\n    }\nif (force === true) {\n        display_loaded();\n      }} else if (Date.now() < root._bokeh_timeout) {\n      setTimeout(run_inline_js, 100);\n    } else if (!root._bokeh_failed_load) {\n      console.log(\"Bokeh: BokehJS failed to load within specified timeout.\");\n      root._bokeh_failed_load = true;\n    } else if (force !== true) {\n      const cell = $(document.getElementById(\"ff5407f8-1059-452c-b708-0b2fe125e55c\")).parents('.cell').data().cell;\n      cell.output_area.append_execute_result(NB_LOAD_WARNING)\n    }\n  }\n\n  if (root._bokeh_is_loading === 0) {\n    console.debug(\"Bokeh: BokehJS loaded, going straight to plotting\");\n    run_inline_js();\n  } else {\n    load_libs(css_urls, js_urls, function() {\n      console.debug(\"Bokeh: BokehJS plotting callback run at\", now());\n      run_inline_js();\n    });\n  }\n}(window));",
      "application/vnd.bokehjs_load.v0+json": ""
     },
     "metadata": {},
     "output_type": "display_data"
    },
    {
     "data": {
      "text/html": [
       "\n",
       "  <div id=\"e0d79401-c639-4fba-a3c1-29523ff25e16\" data-root-id=\"p3130\" style=\"display: contents;\"></div>\n"
      ]
     },
     "metadata": {},
     "output_type": "display_data"
    },
    {
     "data": {
      "application/javascript": "(function(root) {\n  function embed_document(root) {\n  const docs_json = {\"2243ef71-794f-4b87-95c9-04415e525d45\":{\"version\":\"3.1.1\",\"title\":\"Bokeh Application\",\"defs\":[],\"roots\":[{\"type\":\"object\",\"name\":\"Figure\",\"id\":\"p3130\",\"attributes\":{\"x_range\":{\"type\":\"object\",\"name\":\"DataRange1d\",\"id\":\"p3131\"},\"y_range\":{\"type\":\"object\",\"name\":\"DataRange1d\",\"id\":\"p3132\"},\"x_scale\":{\"type\":\"object\",\"name\":\"LinearScale\",\"id\":\"p3143\"},\"y_scale\":{\"type\":\"object\",\"name\":\"LinearScale\",\"id\":\"p3145\"},\"title\":{\"type\":\"object\",\"name\":\"Title\",\"id\":\"p3134\",\"attributes\":{\"text\":\"Glucose Range\"}},\"renderers\":[{\"type\":\"object\",\"name\":\"GlyphRenderer\",\"id\":\"p3216\",\"attributes\":{\"data_source\":{\"type\":\"object\",\"name\":\"ColumnDataSource\",\"id\":\"p3210\",\"attributes\":{\"selected\":{\"type\":\"object\",\"name\":\"Selection\",\"id\":\"p3211\",\"attributes\":{\"indices\":[],\"line_indices\":[]}},\"selection_policy\":{\"type\":\"object\",\"name\":\"UnionRenderers\",\"id\":\"p3212\"},\"data\":{\"type\":\"map\",\"entries\":[[\"x\",{\"type\":\"ndarray\",\"array\":{\"type\":\"bytes\",\"data\":\"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\"},\"shape\":[1397],\"dtype\":\"float64\",\"order\":\"little\"}],[\"y\",{\"type\":\"ndarray\",\"array\":{\"type\":\"bytes\",\"data\":\"jwAAAJMAAACWAAAAmAAAAJgAAACYAAAAmgAAAJsAAACOAAAAjAAAAIoAAACGAAAAgwAAAIIAAACAAAAAfwAAAH4AAAB+AAAAfgAAAH4AAAB/AAAAgQAAAIMAAACEAAAAhgAAAIgAAACIAAAAiAAAAIgAAACHAAAAhgAAAIQAAACCAAAAggAAAIIAAACBAAAAgAAAAH8AAAB9AAAAfAAAAHsAAAB7AAAAegAAAHkAAAB4AAAAdgAAAHMAAABwAAAAbwAAAG8AAABuAAAAbgAAAG0AAABsAAAAawAAAGsAAABrAAAAbAAAAGsAAABpAAAAaQAAAGkAAABpAAAAaAAAAGcAAABmAAAAYwAAAGEAAABgAAAAXgAAAF4AAABdAAAAXQAAAFwAAABbAAAAXAAAAF4AAABfAAAAYAAAAGEAAABjAAAAZgAAAGgAAABwAAAAcAAAAHAAAABvAAAAbgAAAGsAAABoAAAAaQAAAGkAAABnAAAAYwAAAGAAAABeAAAAXwAAAGYAAAByAAAAgAAAAJAAAACgAAAArQAAALkAAADEAAAAzQAAANEAAADWAAAA2wAAAOIAAADqAAAA8QAAAPgAAAD/AAAABAEAAAkBAAAMAQAADgEAABABAAAPAQAADwEAAAwBAAAJAQAABQEAAAABAAD9AAAA+gAAAPYAAAD0AAAA8QAAAO0AAADpAAAA5QAAAOEAAADeAAAAzAAAAMgAAADFAAAAwQAAAL4AAAC6AAAAtgAAALMAAACvAAAAqwAAAKgAAACkAAAAngAAAJoAAACXAAAAlAAAAJEAAACNAAAAhQAAAIsAAACYAAAArQAAAMQAAADZAAAA6QAAAPQAAAD5AAAA+gAAAP0AAAAAAQAABAEAAAcBAAAJAQAACQEAAAgBAAAEAQAA/gAAAPYAAADqAAAA2QAAAMgAAAC8AAAAtQAAAK8AAACpAAAApAAAAJ8AAACaAAAAkwAAAIoAAACEAAAAgQAAAH8AAAB7AAAAdQAAAG8AAABqAAAAaAAAAGcAAABkAAAAXgAAAFgAAABTAAAATgAAAEsAAABJAAAARwAAAEUAAABEAAAAQwAAAEMAAABEAAAARgAAAEcAAABHAAAARgAAAEUAAABEAAAAQwAAAEMAAABDAAAAQgAAAEMAAABFAAAARwAAAEoAAABMAAAATgAAAFAAAABQAAAAUAAAAFAAAABQAAAAUAAAAFIAAABUAAAAVwAAAFoAAABcAAAAVwAAAFcAAABWAAAAVgAAAFYAAABWAAAAVwAAAFcAAABXAAAAVQAAAFMAAABSAAAAUwAAAFcAAABfAAAAawAAAHYAAACCAAAAjQAAAJUAAACsAAAAswAAALsAAADJAAAA1gAAAN0AAADhAAAA5gAAAOgAAADmAAAA3wAAANgAAADQAAAAxwAAAL8AAAC5AAAAtQAAALEAAACwAAAAsQAAALAAAACtAAAAqwAAAKkAAACjAAAAmgAAAJgAAACZAAAAmgAAAJoAAACZAAAAlwAAAJYAAACWAAAAlgAAAJgAAACVAAAAkwAAAJQAAACWAAAAmAAAAJgAAACYAAAAlwAAAJcAAACWAAAAlQAAAJMAAACSAAAAjwAAAIwAAACKAAAAiAAAAIkAAACKAAAAjAAAAIoAAACHAAAAhAAAAIIAAACBAAAAgQAAAIEAAACCAAAAggAAAIEAAACAAAAAgAAAAIAAAACBAAAAgQAAAIAAAAB/AAAAfgAAAH0AAAB9AAAAfQAAAH0AAAB8AAAAfAAAAHkAAAB4AAAAeAAAAHsAAAB8AAAAewAAAHoAAAB4AAAAcwAAAHEAAAByAAAAcgAAAHMAAAB0AAAAcwAAAHAAAABvAAAAbwAAAG0AAABsAAAAawAAAGsAAABuAAAAcQAAAHIAAABzAAAAcwAAAHMAAAByAAAAcQAAAHEAAAB0AAAAdwAAAHgAAAB5AAAAeQAAAHoAAAB7AAAAfAAAAH0AAAB+AAAAfgAAAH4AAAB+AAAAfgAAAH8AAAB/AAAAfQAAAHoAAAB2AAAAcwAAAG8AAABwAAAAcwAAAHUAAAB4AAAAfAAAAH8AAACDAAAAiQAAAI8AAACUAAAAmQAAAJ8AAACmAAAArAAAALIAAAC4AAAAvwAAAMcAAADOAAAA1AAAANkAAADfAAAA5QAAAOgAAADpAAAA6wAAAO0AAADwAAAA8QAAAPMAAAD2AAAA9wAAAPYAAADzAAAA8AAAAOoAAADlAAAA4QAAAN0AAADZAAAA2AAAANcAAADXAAAA1wAAANQAAADQAAAAywAAAMcAAADEAAAAwgAAAL4AAAC5AAAAtAAAALEAAACjAAAAngAAAJgAAACVAAAAmQAAAKMAAACuAAAAtgAAALwAAADAAAAAwwAAAMUAAADJAAAAzAAAAM0AAADLAAAAxwAAAMMAAAC9AAAAuAAAALAAAACpAAAAogAAAJYAAACKAAAAgAAAAHcAAABuAAAAZAAAAFoAAABQAAAASQAAAEQAAABAAAAAPwAAAD8AAABCAAAARAAAAEYAAABHAAAASAAAAEoAAABQAAAAXgAAAHQAAACNAAAApAAAALcAAADGAAAA0gAAANwAAADkAAAA6QAAAO0AAADxAAAA9wAAAPwAAAAAAQAABAEAAAMBAAACAQAAAAEAAPsAAAD1AAAA7gAAAOoAAADjAAAA3QAAANcAAADQAAAAzwAAAM8AAADLAAAAyQAAAMkAAADHAAAAswAAALAAAACrAAAAowAAAJgAAACJAAAAdwAAAGIAAABNAAAAPQAAADIAAAAtAAAALwAAADsAAABHAAAAVgAAAGMAAABtAAAAdAAAAHUAAABzAAAAbwAAAGsAAABmAAAAYAAAAFsAAABaAAAAXgAAAGEAAABhAAAAXwAAAFwAAABXAAAAVAAAAFQAAABTAAAAVAAAAFYAAABWAAAAVgAAAFQAAABSAAAAUgAAAFEAAABRAAAAUgAAAFQAAABXAAAAWQAAAFsAAABcAAAAXgAAAF0AAABdAAAAXgAAAGAAAABkAAAAZQAAAGMAAABhAAAAYAAAAGAAAABhAAAAYQAAAGIAAABjAAAAZQAAAGYAAABqAAAAcgAAAHkAAAB/AAAAggAAAHwAAABpAAAAbQAAAHcAAAB/AAAAgQAAAIQAAACBAAAAfgAAAH4AAAB+AAAAfgAAAH4AAAB9AAAAfAAAAH0AAACCAAAAggAAAIAAAAB+AAAAfgAAAH4AAAB+AAAAfgAAAH4AAAB+AAAAfwAAAIAAAACBAAAAgQAAAH8AAACAAAAAiAAAAI0AAACPAAAAjQAAAIoAAACDAAAAgQAAAIUAAACGAAAAggAAAIEAAACGAAAAiQAAAIsAAACKAAAAggAAAHoAAAB2AAAAcwAAAHIAAABxAAAAcQAAAHAAAABwAAAAdQAAAHYAAAB1AAAAdgAAAHYAAAB1AAAAdQAAAHIAAABwAAAAcwAAAHYAAAB8AAAAfgAAAHcAAAB5AAAAegAAABIBAAAdAQAAJQEAACkBAAAqAQAAKgEAACgBAAAlAQAAIQEAABoBAAATAQAACwEAAAABAAD5AAAA8gAAAOkAAADhAAAA2QAAANkAAADXAAAAywAAAL4AAAC5AAAAwQAAAMoAAADKAAAAwgAAALYAAACqAAAAjwAAAIIAAAB4AAAAbgAAAGYAAABdAAAAUAAAAEMAAAA5AAAANAAAADIAAAAxAAAAMQAAADYAAABIAAAAXQAAAGgAAAByAAAAfQAAAIYAAACMAAAAkQAAAJEAAACNAAAAiAAAAIIAAAB8AAAAdgAAAHQAAAByAAAAcAAAAGwAAABpAAAAZgAAAGMAAABfAAAAWwAAAFgAAABVAAAAUwAAAFIAAABQAAAATwAAAE8AAABTAAAAVgAAAFcAAABYAAAAWQAAAFkAAABYAAAAWAAAAFoAAABcAAAAWAAAAFYAAABWAAAAVgAAAFQAAABSAAAAVAAAAFgAAABaAAAAXgAAAGMAAABoAAAAawAAAGsAAABpAAAAaAAAAGcAAABfAAAAXgAAAF0AAABdAAAAXQAAAF0AAABdAAAAXgAAAGMAAABtAAAAegAAAKwAAACpAAAApAAAAJwAAACTAAAAiQAAAH4AAABzAAAAaAAAAGMAAABjAAAAZwAAAGoAAABvAAAAcwAAAHUAAAB2AAAAeAAAAHgAAAB4AAAAeAAAAHcAAAB3AAAAdgAAAHYAAAB1AAAAdAAAAHMAAABzAAAAdAAAAHQAAABzAAAAcwAAAHIAAABwAAAAbQAAAG4AAABvAAAAbwAAAG4AAABtAAAAbQAAAG0AAABsAAAAawAAAGoAAABpAAAAZQAAAGQAAABjAAAAYwAAAGIAAABhAAAAYQAAAGEAAABiAAAAWAAAAGAAAABqAAAAcwAAAHkAAAB8AAAAfAAAAHwAAAB6AAAAegAAAHoAAAB7AAAAfQAAAH4AAACAAAAAgQAAAIIAAACEAAAAhgAAAIcAAACHAAAAhgAAAIUAAACDAAAAgQAAAH8AAAB/AAAAfwAAAH8AAAB/AAAAgAAAAH8AAAB+AAAAfQAAAH0AAAB/AAAAgQAAAIIAAACCAAAAggAAAIIAAACBAAAAfwAAAH0AAAB8AAAAegAAAHkAAAB5AAAAeAAAAHYAAABzAAAAcgAAAHEAAABxAAAAcQAAAHEAAAByAAAAcQAAAHEAAABvAAAAbQAAAG0AAABuAAAAbQAAAG4AAABuAAAAbwAAAHAAAABwAAAAbwAAAG0AAABtAAAAbQAAAG8AAAByAAAAdAAAAHYAAAB3AAAAeAAAAHoAAAB6AAAAewAAAHsAAAB7AAAAewAAAHwAAAB8AAAAewAAAHsAAAB7AAAAewAAAHsAAAB8AAAAfQAAAH0AAAB+AAAAfwAAAH8AAAB+AAAAfgAAAH4AAAB8AAAAeQAAAHgAAAB2AAAAdAAAAHMAAABxAAAAcAAAAG4AAABsAAAAawAAAG0AAABvAAAAbwAAAHAAAABwAAAAbwAAAGwAAABpAAAAZwAAAGUAAABjAAAAUAAAAE8AAABPAAAATQAAAE0AAABSAAAAXAAAAGgAAABzAAAAewAAAIAAAACEAAAAigAAAI4AAACSAAAAlAAAAJQAAACQAAAAiwAAAIQAAAB+AAAAeQAAAHYAAAB0AAAAcwAAAHEAAABvAAAAawAAAGYAAABgAAAAWQAAAFMAAABPAAAATQAAAEsAAABLAAAASwAAAEsAAABMAAAATAAAAEsAAABKAAAASQAAAEkAAABHAAAARgAAAEQAAABDAAAAQgAAAEEAAABAAAAAOwAAAD0AAABCAAAARgAAAEgAAABIAAAARwAAAEQAAABAAAAAPAAAADkAAAA4AAAAOAAAADkAAAA6AAAAPAAAAEAAAABEAAAASAAAAEsAAABNAAAATQAAAEwAAABJAAAARgAAAEMAAABBAAAAPwAAAD4AAAA9AAAAPAAAADsAAAA6AAAAOQAAADkAAAA5AAAAOQAAADoAAAA7AAAAPgAAAEMAAABMAAAAVAAAAFkAAABfAAAAagAAAHUAAAB+AAAAhAAAAIgAAACLAAAAjwAAAJgAAACkAAAAsAAAALkAAADAAAAAyAAAANIAAADbAAAA4gAAAOcAAADrAAAA7wAAAPEAAADxAAAACAEAAAUBAAD+AAAA9AAAAOoAAADcAAAAyQAAALgAAACsAAAAoQAAAJYAAACNAAAAhwAAAIEAAAB9AAAAeQAAAHUAAABwAAAAawAAAGYAAABjAAAAXwAAAFoAAABXAAAAVAAAAFAAAABMAAAASAAAAEQAAABCAAAAQAAAAEAAAABAAAAAQgAAAEgAAABPAAAAVwAAAFwAAABhAAAAZgAAAGkAAABrAAAAbgAAAHEAAABzAAAAcgAAAHIAAAByAAAAcwAAAHUAAAB3AAAAeAAAAHkAAAB6AAAAewAAAHwAAAB9AAAAfgAAAH8AAAB/AAAAgAAAAH8AAAB+AAAAfQAAAHsAAAB6AAAAeQAAAHkAAAB4AAAAdwAAAHYAAAB1AAAAdwAAAHoAAAB7AAAAewAAAHoAAAB5AAAAeQAAAHgAAAB4AAAAeAAAAHcAAAB2AAAAdQAAAHUAAAB1AAAAdgAAAHYAAAB2AAAAdgAAAHQAAAByAAAAcQAAAHAAAABxAAAAcwAAAHYAAAB3AAAAeAAAAHkAAAB6AAAAegAAAHsAAAB7AAAAewAAAHsAAAB7AAAAegAAAHoAAAB5AAAAdwAAAHYAAAB1AAAAdQAAAHYAAAB2AAAAdgAAAHcAAAB3AAAAdwAAAHgAAAB5AAAAeQAAAHkAAAB5AAAAeQAAAHkAAAB4AAAAeAAAAHgAAAB4AAAAdwAAAHYAAAB2AAAAdQAAAHQAAABzAAAAcwAAAHMAAAB0AAAAdAAAAHQAAABzAAAAcgAAAHMAAAB0AAAAcwAAAHIAAABzAAAAdAAAAHIAAAByAAAAcQAAAHEAAABwAAAAcAAAAG8AAABtAAAAbAAAAGwAAABrAAAAawAAAGsAAABrAAAAawAAAG4AAABxAAAAdAAAAIEAAACBAAAAgQAAAIAAAAB9AAAAeQAAAHgAAAB5AAAAfAAAAIAAAACBAAAAgQAAAH4AAAB5AAAAcwAAAG4AAABrAAAAaQAAAGgAAABrAAAAcAAAAHcAAACCAAAAjQAAAJkAAACkAAAArgAAALgAAADEAAAAzwAAANoAAADlAAAAGAEAACQBAAArAQAALAEAAC0BAAAuAQAALwEAAC4BAAAnAQAAHgEAABUBAAAIAQAA+AAAAOgAAADaAAAAzwAAAMcAAAC/AAAAtwAAALEAAACsAAAApgAAAHsAAAB1AAAAbgAAAGYAAABeAAAAVwAAAFQAAABTAAAAUwAAAFMAAABVAAAAVwAAAFoAAABaAAAAWwAAAFwAAABeAAAAYAAAAGEAAABiAAAAZAAAAGcAAABpAAAAbgAAAH0AAACaAAAAtgAAANUAAAD6AAAAHQEAADIBAAA3AQAAQAEAAEsBAABnAQAAdQEAAHoBAAB6AQAAdgEAAHIBAABvAQAAbAEAAGoBAABoAQAAYQEAAFMBAABBAQAALgEAAB8BAAAUAQAACwEAAAYBAAAFAQAABwEAAAoBAAANAQAADgEAAAwBAADzAAAA7gAAAOsAAADnAAAA4AAAANcAAADKAAAAwAAAALcAAACxAAAAqgAAAKIAAACcAAAAlwAAAJMAAACQAAAAjAAAAIMAAAB4AAAAbQAAAGYAAABwAAAAfwAAAI4AAACbAAAApAAAAKoAAACrAAAAqwAAAKsAAACpAAAApgAAAKIAAACeAAAAnQAAAJ0AAACcAAAAnAAAAJsAAACbAAAAmwAAAJsAAACeAAAAoAAAAKAAAACgAAAAoQAAAKUAAAA=\"},\"shape\":[1397],\"dtype\":\"int32\",\"order\":\"little\"}]]}}},\"view\":{\"type\":\"object\",\"name\":\"CDSView\",\"id\":\"p3217\",\"attributes\":{\"filter\":{\"type\":\"object\",\"name\":\"AllIndices\",\"id\":\"p3218\"}}},\"glyph\":{\"type\":\"object\",\"name\":\"Line\",\"id\":\"p3213\",\"attributes\":{\"x\":{\"type\":\"field\",\"field\":\"x\"},\"y\":{\"type\":\"field\",\"field\":\"y\"},\"line_color\":\"gray\"}},\"nonselection_glyph\":{\"type\":\"object\",\"name\":\"Line\",\"id\":\"p3214\",\"attributes\":{\"x\":{\"type\":\"field\",\"field\":\"x\"},\"y\":{\"type\":\"field\",\"field\":\"y\"},\"line_color\":\"gray\",\"line_alpha\":0.1}},\"muted_glyph\":{\"type\":\"object\",\"name\":\"Line\",\"id\":\"p3215\",\"attributes\":{\"x\":{\"type\":\"field\",\"field\":\"x\"},\"y\":{\"type\":\"field\",\"field\":\"y\"},\"line_color\":\"gray\",\"line_alpha\":0.2}}}}],\"toolbar\":{\"type\":\"object\",\"name\":\"Toolbar\",\"id\":\"p3133\",\"attributes\":{\"tools\":[{\"type\":\"object\",\"name\":\"PanTool\",\"id\":\"p3197\"},{\"type\":\"object\",\"name\":\"WheelZoomTool\",\"id\":\"p3198\"},{\"type\":\"object\",\"name\":\"BoxZoomTool\",\"id\":\"p3199\",\"attributes\":{\"overlay\":{\"type\":\"object\",\"name\":\"BoxAnnotation\",\"id\":\"p3200\",\"attributes\":{\"syncable\":false,\"level\":\"overlay\",\"visible\":false,\"left_units\":\"canvas\",\"right_units\":\"canvas\",\"bottom_units\":\"canvas\",\"top_units\":\"canvas\",\"line_color\":\"black\",\"line_alpha\":1.0,\"line_width\":2,\"line_dash\":[4,4],\"fill_color\":\"lightgrey\",\"fill_alpha\":0.5}}}},{\"type\":\"object\",\"name\":\"ResetTool\",\"id\":\"p3201\"},{\"type\":\"object\",\"name\":\"SaveTool\",\"id\":\"p3202\"}]}},\"left\":[{\"type\":\"object\",\"name\":\"LinearAxis\",\"id\":\"p3190\",\"attributes\":{\"ticker\":{\"type\":\"object\",\"name\":\"BasicTicker\",\"id\":\"p3192\",\"attributes\":{\"mantissas\":[1,2,5]}},\"formatter\":{\"type\":\"object\",\"name\":\"BasicTickFormatter\",\"id\":\"p3191\"},\"axis_label\":\"Value\",\"major_label_policy\":{\"type\":\"object\",\"name\":\"AllLabels\",\"id\":\"p3193\"}}}],\"below\":[{\"type\":\"object\",\"name\":\"DatetimeAxis\",\"id\":\"p3147\",\"attributes\":{\"ticker\":{\"type\":\"object\",\"name\":\"DatetimeTicker\",\"id\":\"p3149\",\"attributes\":{\"num_minor_ticks\":5,\"tickers\":[{\"type\":\"object\",\"name\":\"AdaptiveTicker\",\"id\":\"p3150\",\"attributes\":{\"num_minor_ticks\":0,\"mantissas\":[1,2,5],\"max_interval\":500.0}},{\"type\":\"object\",\"name\":\"AdaptiveTicker\",\"id\":\"p3151\",\"attributes\":{\"num_minor_ticks\":0,\"base\":60,\"mantissas\":[1,2,5,10,15,20,30],\"min_interval\":1000.0,\"max_interval\":1800000.0}},{\"type\":\"object\",\"name\":\"AdaptiveTicker\",\"id\":\"p3152\",\"attributes\":{\"num_minor_ticks\":0,\"base\":24,\"mantissas\":[1,2,4,6,8,12],\"min_interval\":3600000.0,\"max_interval\":43200000.0}},{\"type\":\"object\",\"name\":\"DaysTicker\",\"id\":\"p3153\",\"attributes\":{\"days\":[1,2,3,4,5,6,7,8,9,10,11,12,13,14,15,16,17,18,19,20,21,22,23,24,25,26,27,28,29,30,31]}},{\"type\":\"object\",\"name\":\"DaysTicker\",\"id\":\"p3154\",\"attributes\":{\"days\":[1,4,7,10,13,16,19,22,25,28]}},{\"type\":\"object\",\"name\":\"DaysTicker\",\"id\":\"p3155\",\"attributes\":{\"days\":[1,8,15,22]}},{\"type\":\"object\",\"name\":\"DaysTicker\",\"id\":\"p3156\",\"attributes\":{\"days\":[1,15]}},{\"type\":\"object\",\"name\":\"MonthsTicker\",\"id\":\"p3157\",\"attributes\":{\"months\":[0,1,2,3,4,5,6,7,8,9,10,11]}},{\"type\":\"object\",\"name\":\"MonthsTicker\",\"id\":\"p3158\",\"attributes\":{\"months\":[0,2,4,6,8,10]}},{\"type\":\"object\",\"name\":\"MonthsTicker\",\"id\":\"p3159\",\"attributes\":{\"months\":[0,4,8]}},{\"type\":\"object\",\"name\":\"MonthsTicker\",\"id\":\"p3160\",\"attributes\":{\"months\":[0,6]}},{\"type\":\"object\",\"name\":\"YearsTicker\",\"id\":\"p3161\"}]}},\"formatter\":{\"type\":\"object\",\"name\":\"DatetimeTickFormatter\",\"id\":\"p3148\"},\"axis_label\":\"Time\",\"major_label_policy\":{\"type\":\"object\",\"name\":\"AllLabels\",\"id\":\"p3162\"}}}],\"center\":[{\"type\":\"object\",\"name\":\"Grid\",\"id\":\"p3189\",\"attributes\":{\"axis\":{\"id\":\"p3147\"},\"grid_line_color\":null}},{\"type\":\"object\",\"name\":\"Grid\",\"id\":\"p3196\",\"attributes\":{\"dimension\":1,\"axis\":{\"id\":\"p3190\"},\"grid_line_alpha\":0.5}},{\"type\":\"object\",\"name\":\"Legend\",\"id\":\"p3219\",\"attributes\":{\"items\":[{\"type\":\"object\",\"name\":\"LegendItem\",\"id\":\"p3220\",\"attributes\":{\"label\":{\"type\":\"value\",\"value\":\"glucose\"},\"renderers\":[{\"id\":\"p3216\"}]}}]}},{\"type\":\"object\",\"name\":\"BoxAnnotation\",\"id\":\"p3221\",\"attributes\":{\"top\":80,\"fill_color\":\"red\",\"fill_alpha\":0.1}},{\"type\":\"object\",\"name\":\"BoxAnnotation\",\"id\":\"p3222\",\"attributes\":{\"bottom\":80,\"top\":180,\"movable\":\"y\",\"fill_color\":\"green\",\"fill_alpha\":0.1}},{\"type\":\"object\",\"name\":\"BoxAnnotation\",\"id\":\"p3223\",\"attributes\":{\"bottom\":180,\"fill_color\":\"red\",\"fill_alpha\":0.1}}]}}],\"callbacks\":{\"type\":\"map\"}}};\n  const render_items = [{\"docid\":\"2243ef71-794f-4b87-95c9-04415e525d45\",\"roots\":{\"p3130\":\"e0d79401-c639-4fba-a3c1-29523ff25e16\"},\"root_ids\":[\"p3130\"]}];\n  root.Bokeh.embed.embed_items_notebook(docs_json, render_items);\n  }\n  if (root.Bokeh !== undefined) {\n    embed_document(root);\n  } else {\n    let attempts = 0;\n    const timer = setInterval(function(root) {\n      if (root.Bokeh !== undefined) {\n        clearInterval(timer);\n        embed_document(root);\n      } else {\n        attempts++;\n        if (attempts > 100) {\n          clearInterval(timer);\n          console.log(\"Bokeh: ERROR: Unable to run BokehJS code because BokehJS library is missing\");\n        }\n      }\n    }, 10, root)\n  }\n})(window);",
      "application/vnd.bokehjs_exec.v0+json": ""
     },
     "metadata": {
      "application/vnd.bokehjs_exec.v0+json": {
       "id": "p3130"
      }
     },
     "output_type": "display_data"
    }
   ],
   "source": [
    "from bokeh.models import BoxAnnotation\n",
    "from bokeh.plotting import figure, output_file, show\n",
    "from bokeh.sampledata.glucose import data\n",
    "\n",
    "output_file(\"box_annotation.html\", title=\"box_annotation.py example\")\n",
    "\n",
    "TOOLS = \"pan,wheel_zoom,box_zoom,reset,save\"\n",
    "\n",
    "#reduce data size\n",
    "data = data.loc['2010-10-06':'2010-10-13']\n",
    "\n",
    "p = figure(x_axis_type=\"datetime\", tools=TOOLS)\n",
    "\n",
    "p.line(data.index.to_series(), data['glucose'], line_color=\"gray\", line_width=1, legend_label=\"glucose\")\n",
    "\n",
    "low_box = BoxAnnotation(top=80, fill_alpha=0.1, fill_color='red')\n",
    "mid_box = BoxAnnotation(bottom=80, top=180, fill_alpha=0.1, fill_color='green',movable='y')\n",
    "high_box = BoxAnnotation(bottom=180, fill_alpha=0.1, fill_color='red')\n",
    "\n",
    "p.add_layout(low_box)\n",
    "p.add_layout(mid_box)\n",
    "p.add_layout(high_box)\n",
    "\n",
    "p.title.text = \"Glucose Range\"\n",
    "p.xgrid[0].grid_line_color=None\n",
    "p.ygrid[0].grid_line_alpha=0.5\n",
    "p.xaxis.axis_label = 'Time'\n",
    "p.yaxis.axis_label = 'Value'\n",
    "\n",
    "output_notebook()\n",
    "show(p)"
   ]
  },
  {
   "cell_type": "code",
   "execution_count": 59,
   "metadata": {},
   "outputs": [
    {
     "ename": "AttributeError",
     "evalue": "unexpected attribute 'renderer' to Rect, possible attributes are angle, angle_units, border_radius, decorations, dilate, fill_alpha, fill_color, hatch_alpha, hatch_color, hatch_extra, hatch_pattern, hatch_scale, hatch_weight, height, height_units, js_event_callbacks, js_property_callbacks, line_alpha, line_cap, line_color, line_dash, line_dash_offset, line_join, line_width, name, subscribed_events, syncable, tags, width, width_units, x or y",
     "output_type": "error",
     "traceback": [
      "\u001b[0;31m---------------------------------------------------------------------------\u001b[0m",
      "\u001b[0;31mAttributeError\u001b[0m                            Traceback (most recent call last)",
      "Cell \u001b[0;32mIn[59], line 1\u001b[0m\n\u001b[0;32m----> 1\u001b[0m renderer\u001b[39m.\u001b[39;49mrenderer\n",
      "File \u001b[0;32m~/abp/WireDAQ/Executables/py_wireDAQ/lib/python3.10/site-packages/bokeh/core/has_props.py:360\u001b[0m, in \u001b[0;36mHasProps.__getattr__\u001b[0;34m(self, name)\u001b[0m\n\u001b[1;32m    357\u001b[0m \u001b[39mif\u001b[39;00m \u001b[39misinstance\u001b[39m(descriptor, \u001b[39mproperty\u001b[39m): \u001b[39m# Python property\u001b[39;00m\n\u001b[1;32m    358\u001b[0m     \u001b[39mreturn\u001b[39;00m \u001b[39msuper\u001b[39m()\u001b[39m.\u001b[39m\u001b[39m__getattribute__\u001b[39m(name)\n\u001b[0;32m--> 360\u001b[0m \u001b[39mself\u001b[39;49m\u001b[39m.\u001b[39;49m_raise_attribute_error_with_matches(name, properties)\n",
      "File \u001b[0;32m~/abp/WireDAQ/Executables/py_wireDAQ/lib/python3.10/site-packages/bokeh/core/has_props.py:368\u001b[0m, in \u001b[0;36mHasProps._raise_attribute_error_with_matches\u001b[0;34m(self, name, properties)\u001b[0m\n\u001b[1;32m    365\u001b[0m \u001b[39mif\u001b[39;00m \u001b[39mnot\u001b[39;00m matches:\n\u001b[1;32m    366\u001b[0m     matches, text \u001b[39m=\u001b[39m \u001b[39msorted\u001b[39m(properties), \u001b[39m\"\u001b[39m\u001b[39mpossible\u001b[39m\u001b[39m\"\u001b[39m\n\u001b[0;32m--> 368\u001b[0m \u001b[39mraise\u001b[39;00m \u001b[39mAttributeError\u001b[39;00m(\u001b[39mf\u001b[39m\u001b[39m\"\u001b[39m\u001b[39munexpected attribute \u001b[39m\u001b[39m{\u001b[39;00mname\u001b[39m!r}\u001b[39;00m\u001b[39m to \u001b[39m\u001b[39m{\u001b[39;00m\u001b[39mself\u001b[39m\u001b[39m.\u001b[39m\u001b[39m__class__\u001b[39m\u001b[39m.\u001b[39m\u001b[39m__name__\u001b[39m\u001b[39m}\u001b[39;00m\u001b[39m, \u001b[39m\u001b[39m{\u001b[39;00mtext\u001b[39m}\u001b[39;00m\u001b[39m attributes are \u001b[39m\u001b[39m{\u001b[39;00mnice_join(matches)\u001b[39m}\u001b[39;00m\u001b[39m\"\u001b[39m)\n",
      "\u001b[0;31mAttributeError\u001b[0m: unexpected attribute 'renderer' to Rect, possible attributes are angle, angle_units, border_radius, decorations, dilate, fill_alpha, fill_color, hatch_alpha, hatch_color, hatch_extra, hatch_pattern, hatch_scale, hatch_weight, height, height_units, js_event_callbacks, js_property_callbacks, line_alpha, line_cap, line_color, line_dash, line_dash_offset, line_join, line_width, name, subscribed_events, syncable, tags, width, width_units, x or y"
     ]
    }
   ],
   "source": [
    "renderer.renderer"
   ]
  },
  {
   "cell_type": "code",
   "execution_count": 4,
   "metadata": {},
   "outputs": [
    {
     "data": {
      "text/html": [
       "<style>\n",
       "        .bk-notebook-logo {\n",
       "            display: block;\n",
       "            width: 20px;\n",
       "            height: 20px;\n",
       "            background-image: url(data:image/png;base64,iVBORw0KGgoAAAANSUhEUgAAABQAAAAUCAYAAACNiR0NAAAABHNCSVQICAgIfAhkiAAAAAlwSFlzAAALEgAACxIB0t1+/AAAABx0RVh0U29mdHdhcmUAQWRvYmUgRmlyZXdvcmtzIENTNui8sowAAAOkSURBVDiNjZRtaJVlGMd/1/08zzln5zjP1LWcU9N0NkN8m2CYjpgQYQXqSs0I84OLIC0hkEKoPtiH3gmKoiJDU7QpLgoLjLIQCpEsNJ1vqUOdO7ppbuec5+V+rj4ctwzd8IIbbi6u+8f1539dt3A78eXC7QizUF7gyV1fD1Yqg4JWz84yffhm0qkFqBogB9rM8tZdtwVsPUhWhGcFJngGeWrPzHm5oaMmkfEg1usvLFyc8jLRqDOMru7AyC8saQr7GG7f5fvDeH7Ej8CM66nIF+8yngt6HWaKh7k49Soy9nXurCi1o3qUbS3zWfrYeQDTB/Qj6kX6Ybhw4B+bOYoLKCC9H3Nu/leUTZ1JdRWkkn2ldcCamzrcf47KKXdAJllSlxAOkRgyHsGC/zRday5Qld9DyoM4/q/rUoy/CXh3jzOu3bHUVZeU+DEn8FInkPBFlu3+nW3Nw0mk6vCDiWg8CeJaxEwuHS3+z5RgY+YBR6V1Z1nxSOfoaPa4LASWxxdNp+VWTk7+4vzaou8v8PN+xo+KY2xsw6une2frhw05CTYOmQvsEhjhWjn0bmXPjpE1+kplmmkP3suftwTubK9Vq22qKmrBhpY4jvd5afdRA3wGjFAgcnTK2s4hY0/GPNIb0nErGMCRxWOOX64Z8RAC4oCXdklmEvcL8o0BfkNK4lUg9HTl+oPlQxdNo3Mg4Nv175e/1LDGzZen30MEjRUtmXSfiTVu1kK8W4txyV6BMKlbgk3lMwYCiusNy9fVfvvwMxv8Ynl6vxoByANLTWplvuj/nF9m2+PDtt1eiHPBr1oIfhCChQMBw6Aw0UulqTKZdfVvfG7VcfIqLG9bcldL/+pdWTLxLUy8Qq38heUIjh4XlzZxzQm19lLFlr8vdQ97rjZVOLf8nclzckbcD4wxXMidpX30sFd37Fv/GtwwhzhxGVAprjbg0gCAEeIgwCZyTV2Z1REEW8O4py0wsjeloKoMr6iCY6dP92H6Vw/oTyICIthibxjm/DfN9lVz8IqtqKYLUXfoKVMVQVVJOElGjrnnUt9T9wbgp8AyYKaGlqingHZU/uG2NTZSVqwHQTWkx9hxjkpWDaCg6Ckj5qebgBVbT3V3NNXMSiWSDdGV3hrtzla7J+duwPOToIg42ChPQOQjspnSlp1V+Gjdged7+8UN5CRAV7a5EdFNwCjEaBR27b3W890TE7g24NAP/mMDXRWrGoFPQI9ls/MWO2dWFAar/xcOIImbbpA3zgAAAABJRU5ErkJggg==);\n",
       "        }\n",
       "    </style>\n",
       "    <div>\n",
       "        <a href=\"https://bokeh.org\" target=\"_blank\" class=\"bk-notebook-logo\"></a>\n",
       "        <span id=\"c808d798-13a9-480c-a468-a59d5c9c2ba6\">Loading BokehJS ...</span>\n",
       "    </div>\n"
      ]
     },
     "metadata": {},
     "output_type": "display_data"
    },
    {
     "data": {
      "application/javascript": "(function(root) {\n  function now() {\n    return new Date();\n  }\n\n  const force = true;\n\n  if (typeof root._bokeh_onload_callbacks === \"undefined\" || force === true) {\n    root._bokeh_onload_callbacks = [];\n    root._bokeh_is_loading = undefined;\n  }\n\nconst JS_MIME_TYPE = 'application/javascript';\n  const HTML_MIME_TYPE = 'text/html';\n  const EXEC_MIME_TYPE = 'application/vnd.bokehjs_exec.v0+json';\n  const CLASS_NAME = 'output_bokeh rendered_html';\n\n  /**\n   * Render data to the DOM node\n   */\n  function render(props, node) {\n    const script = document.createElement(\"script\");\n    node.appendChild(script);\n  }\n\n  /**\n   * Handle when an output is cleared or removed\n   */\n  function handleClearOutput(event, handle) {\n    const cell = handle.cell;\n\n    const id = cell.output_area._bokeh_element_id;\n    const server_id = cell.output_area._bokeh_server_id;\n    // Clean up Bokeh references\n    if (id != null && id in Bokeh.index) {\n      Bokeh.index[id].model.document.clear();\n      delete Bokeh.index[id];\n    }\n\n    if (server_id !== undefined) {\n      // Clean up Bokeh references\n      const cmd_clean = \"from bokeh.io.state import curstate; print(curstate().uuid_to_server['\" + server_id + \"'].get_sessions()[0].document.roots[0]._id)\";\n      cell.notebook.kernel.execute(cmd_clean, {\n        iopub: {\n          output: function(msg) {\n            const id = msg.content.text.trim();\n            if (id in Bokeh.index) {\n              Bokeh.index[id].model.document.clear();\n              delete Bokeh.index[id];\n            }\n          }\n        }\n      });\n      // Destroy server and session\n      const cmd_destroy = \"import bokeh.io.notebook as ion; ion.destroy_server('\" + server_id + \"')\";\n      cell.notebook.kernel.execute(cmd_destroy);\n    }\n  }\n\n  /**\n   * Handle when a new output is added\n   */\n  function handleAddOutput(event, handle) {\n    const output_area = handle.output_area;\n    const output = handle.output;\n\n    // limit handleAddOutput to display_data with EXEC_MIME_TYPE content only\n    if ((output.output_type != \"display_data\") || (!Object.prototype.hasOwnProperty.call(output.data, EXEC_MIME_TYPE))) {\n      return\n    }\n\n    const toinsert = output_area.element.find(\".\" + CLASS_NAME.split(' ')[0]);\n\n    if (output.metadata[EXEC_MIME_TYPE][\"id\"] !== undefined) {\n      toinsert[toinsert.length - 1].firstChild.textContent = output.data[JS_MIME_TYPE];\n      // store reference to embed id on output_area\n      output_area._bokeh_element_id = output.metadata[EXEC_MIME_TYPE][\"id\"];\n    }\n    if (output.metadata[EXEC_MIME_TYPE][\"server_id\"] !== undefined) {\n      const bk_div = document.createElement(\"div\");\n      bk_div.innerHTML = output.data[HTML_MIME_TYPE];\n      const script_attrs = bk_div.children[0].attributes;\n      for (let i = 0; i < script_attrs.length; i++) {\n        toinsert[toinsert.length - 1].firstChild.setAttribute(script_attrs[i].name, script_attrs[i].value);\n        toinsert[toinsert.length - 1].firstChild.textContent = bk_div.children[0].textContent\n      }\n      // store reference to server id on output_area\n      output_area._bokeh_server_id = output.metadata[EXEC_MIME_TYPE][\"server_id\"];\n    }\n  }\n\n  function register_renderer(events, OutputArea) {\n\n    function append_mime(data, metadata, element) {\n      // create a DOM node to render to\n      const toinsert = this.create_output_subarea(\n        metadata,\n        CLASS_NAME,\n        EXEC_MIME_TYPE\n      );\n      this.keyboard_manager.register_events(toinsert);\n      // Render to node\n      const props = {data: data, metadata: metadata[EXEC_MIME_TYPE]};\n      render(props, toinsert[toinsert.length - 1]);\n      element.append(toinsert);\n      return toinsert\n    }\n\n    /* Handle when an output is cleared or removed */\n    events.on('clear_output.CodeCell', handleClearOutput);\n    events.on('delete.Cell', handleClearOutput);\n\n    /* Handle when a new output is added */\n    events.on('output_added.OutputArea', handleAddOutput);\n\n    /**\n     * Register the mime type and append_mime function with output_area\n     */\n    OutputArea.prototype.register_mime_type(EXEC_MIME_TYPE, append_mime, {\n      /* Is output safe? */\n      safe: true,\n      /* Index of renderer in `output_area.display_order` */\n      index: 0\n    });\n  }\n\n  // register the mime type if in Jupyter Notebook environment and previously unregistered\n  if (root.Jupyter !== undefined) {\n    const events = require('base/js/events');\n    const OutputArea = require('notebook/js/outputarea').OutputArea;\n\n    if (OutputArea.prototype.mime_types().indexOf(EXEC_MIME_TYPE) == -1) {\n      register_renderer(events, OutputArea);\n    }\n  }\n  if (typeof (root._bokeh_timeout) === \"undefined\" || force === true) {\n    root._bokeh_timeout = Date.now() + 5000;\n    root._bokeh_failed_load = false;\n  }\n\n  const NB_LOAD_WARNING = {'data': {'text/html':\n     \"<div style='background-color: #fdd'>\\n\"+\n     \"<p>\\n\"+\n     \"BokehJS does not appear to have successfully loaded. If loading BokehJS from CDN, this \\n\"+\n     \"may be due to a slow or bad network connection. Possible fixes:\\n\"+\n     \"</p>\\n\"+\n     \"<ul>\\n\"+\n     \"<li>re-rerun `output_notebook()` to attempt to load from CDN again, or</li>\\n\"+\n     \"<li>use INLINE resources instead, as so:</li>\\n\"+\n     \"</ul>\\n\"+\n     \"<code>\\n\"+\n     \"from bokeh.resources import INLINE\\n\"+\n     \"output_notebook(resources=INLINE)\\n\"+\n     \"</code>\\n\"+\n     \"</div>\"}};\n\n  function display_loaded() {\n    const el = document.getElementById(\"c808d798-13a9-480c-a468-a59d5c9c2ba6\");\n    if (el != null) {\n      el.textContent = \"BokehJS is loading...\";\n    }\n    if (root.Bokeh !== undefined) {\n      if (el != null) {\n        el.textContent = \"BokehJS \" + root.Bokeh.version + \" successfully loaded.\";\n      }\n    } else if (Date.now() < root._bokeh_timeout) {\n      setTimeout(display_loaded, 100)\n    }\n  }\n\n  function run_callbacks() {\n    try {\n      root._bokeh_onload_callbacks.forEach(function(callback) {\n        if (callback != null)\n          callback();\n      });\n    } finally {\n      delete root._bokeh_onload_callbacks\n    }\n    console.debug(\"Bokeh: all callbacks have finished\");\n  }\n\n  function load_libs(css_urls, js_urls, callback) {\n    if (css_urls == null) css_urls = [];\n    if (js_urls == null) js_urls = [];\n\n    root._bokeh_onload_callbacks.push(callback);\n    if (root._bokeh_is_loading > 0) {\n      console.debug(\"Bokeh: BokehJS is being loaded, scheduling callback at\", now());\n      return null;\n    }\n    if (js_urls == null || js_urls.length === 0) {\n      run_callbacks();\n      return null;\n    }\n    console.debug(\"Bokeh: BokehJS not loaded, scheduling load and callback at\", now());\n    root._bokeh_is_loading = css_urls.length + js_urls.length;\n\n    function on_load() {\n      root._bokeh_is_loading--;\n      if (root._bokeh_is_loading === 0) {\n        console.debug(\"Bokeh: all BokehJS libraries/stylesheets loaded\");\n        run_callbacks()\n      }\n    }\n\n    function on_error(url) {\n      console.error(\"failed to load \" + url);\n    }\n\n    for (let i = 0; i < css_urls.length; i++) {\n      const url = css_urls[i];\n      const element = document.createElement(\"link\");\n      element.onload = on_load;\n      element.onerror = on_error.bind(null, url);\n      element.rel = \"stylesheet\";\n      element.type = \"text/css\";\n      element.href = url;\n      console.debug(\"Bokeh: injecting link tag for BokehJS stylesheet: \", url);\n      document.body.appendChild(element);\n    }\n\n    for (let i = 0; i < js_urls.length; i++) {\n      const url = js_urls[i];\n      const element = document.createElement('script');\n      element.onload = on_load;\n      element.onerror = on_error.bind(null, url);\n      element.async = false;\n      element.src = url;\n      console.debug(\"Bokeh: injecting script tag for BokehJS library: \", url);\n      document.head.appendChild(element);\n    }\n  };\n\n  function inject_raw_css(css) {\n    const element = document.createElement(\"style\");\n    element.appendChild(document.createTextNode(css));\n    document.body.appendChild(element);\n  }\n\n  const js_urls = [\"https://cdn.bokeh.org/bokeh/release/bokeh-3.1.1.min.js\", \"https://cdn.bokeh.org/bokeh/release/bokeh-gl-3.1.1.min.js\", \"https://cdn.bokeh.org/bokeh/release/bokeh-widgets-3.1.1.min.js\", \"https://cdn.bokeh.org/bokeh/release/bokeh-tables-3.1.1.min.js\", \"https://cdn.bokeh.org/bokeh/release/bokeh-mathjax-3.1.1.min.js\"];\n  const css_urls = [];\n\n  const inline_js = [    function(Bokeh) {\n      Bokeh.set_log_level(\"info\");\n    },\nfunction(Bokeh) {\n    }\n  ];\n\n  function run_inline_js() {\n    if (root.Bokeh !== undefined || force === true) {\n          for (let i = 0; i < inline_js.length; i++) {\n      inline_js[i].call(root, root.Bokeh);\n    }\nif (force === true) {\n        display_loaded();\n      }} else if (Date.now() < root._bokeh_timeout) {\n      setTimeout(run_inline_js, 100);\n    } else if (!root._bokeh_failed_load) {\n      console.log(\"Bokeh: BokehJS failed to load within specified timeout.\");\n      root._bokeh_failed_load = true;\n    } else if (force !== true) {\n      const cell = $(document.getElementById(\"c808d798-13a9-480c-a468-a59d5c9c2ba6\")).parents('.cell').data().cell;\n      cell.output_area.append_execute_result(NB_LOAD_WARNING)\n    }\n  }\n\n  if (root._bokeh_is_loading === 0) {\n    console.debug(\"Bokeh: BokehJS loaded, going straight to plotting\");\n    run_inline_js();\n  } else {\n    load_libs(css_urls, js_urls, function() {\n      console.debug(\"Bokeh: BokehJS plotting callback run at\", now());\n      run_inline_js();\n    });\n  }\n}(window));",
      "application/vnd.bokehjs_load.v0+json": ""
     },
     "metadata": {},
     "output_type": "display_data"
    }
   ],
   "source": [
    "output_notebook()"
   ]
  },
  {
   "cell_type": "code",
   "execution_count": 6,
   "metadata": {},
   "outputs": [
    {
     "data": {
      "text/html": [
       "\n",
       "  <div id=\"adca70ad-ae53-4a14-9869-1ad6fe9b90ca\" data-root-id=\"p1389\" style=\"display: contents;\"></div>\n"
      ]
     },
     "metadata": {},
     "output_type": "display_data"
    },
    {
     "data": {
      "application/javascript": "(function(root) {\n  function embed_document(root) {\n  const docs_json = {\"dbd827f6-b20e-4158-8271-2f2103e5f170\":{\"version\":\"3.1.1\",\"title\":\"Bokeh Application\",\"defs\":[],\"roots\":[{\"type\":\"object\",\"name\":\"Figure\",\"id\":\"p1389\",\"attributes\":{\"x_range\":{\"type\":\"object\",\"name\":\"Range1d\",\"id\":\"p1399\",\"attributes\":{\"end\":10}},\"y_range\":{\"type\":\"object\",\"name\":\"Range1d\",\"id\":\"p1401\",\"attributes\":{\"end\":10}},\"x_scale\":{\"type\":\"object\",\"name\":\"LinearScale\",\"id\":\"p1403\"},\"y_scale\":{\"type\":\"object\",\"name\":\"LinearScale\",\"id\":\"p1405\"},\"title\":{\"type\":\"object\",\"name\":\"Title\",\"id\":\"p1392\",\"attributes\":{\"text\":\"Point Draw Tool\"}},\"renderers\":[{\"type\":\"object\",\"name\":\"GlyphRenderer\",\"id\":\"p1468\",\"attributes\":{\"data_source\":{\"type\":\"object\",\"name\":\"ColumnDataSource\",\"id\":\"p1459\",\"attributes\":{\"js_property_callbacks\":{\"type\":\"map\",\"entries\":[[\"change:data\",[{\"type\":\"object\",\"name\":\"CustomJS\",\"id\":\"p1471\",\"attributes\":{\"code\":\"\\ncb_obj.data['y'] = cb_obj.data['default_y'];\\ncb_obj.change.emit();\\n\"}}]]]},\"selected\":{\"type\":\"object\",\"name\":\"Selection\",\"id\":\"p1461\",\"attributes\":{\"indices\":[],\"line_indices\":[]}},\"selection_policy\":{\"type\":\"object\",\"name\":\"UnionRenderers\",\"id\":\"p1460\"},\"data\":{\"type\":\"map\",\"entries\":[[\"x\",[5]],[\"y\",[5]],[\"w\",[0.5]],[\"h\",[20]],[\"default_x\",[5]],[\"default_y\",[5]],[\"default_w\",[0.5]],[\"default_h\",[20]]]}}},\"view\":{\"type\":\"object\",\"name\":\"CDSView\",\"id\":\"p1469\",\"attributes\":{\"filter\":{\"type\":\"object\",\"name\":\"AllIndices\",\"id\":\"p1470\"}}},\"glyph\":{\"type\":\"object\",\"name\":\"Rect\",\"id\":\"p1465\",\"attributes\":{\"x\":{\"type\":\"field\",\"field\":\"x\"},\"y\":{\"type\":\"field\",\"field\":\"y\"},\"width\":{\"type\":\"field\",\"field\":\"w\"},\"height\":{\"type\":\"field\",\"field\":\"h\"},\"line_dash\":{\"type\":\"value\",\"value\":\"2 2\"},\"fill_color\":{\"type\":\"value\",\"value\":\"black\"},\"fill_alpha\":{\"type\":\"value\",\"value\":0.2}}},\"nonselection_glyph\":{\"type\":\"object\",\"name\":\"Rect\",\"id\":\"p1466\",\"attributes\":{\"x\":{\"type\":\"field\",\"field\":\"x\"},\"y\":{\"type\":\"field\",\"field\":\"y\"},\"width\":{\"type\":\"field\",\"field\":\"w\"},\"height\":{\"type\":\"field\",\"field\":\"h\"},\"line_alpha\":{\"type\":\"value\",\"value\":0.1},\"line_dash\":{\"type\":\"value\",\"value\":\"2 2\"},\"fill_color\":{\"type\":\"value\",\"value\":\"black\"},\"fill_alpha\":{\"type\":\"value\",\"value\":0.1},\"hatch_alpha\":{\"type\":\"value\",\"value\":0.1}}},\"muted_glyph\":{\"type\":\"object\",\"name\":\"Rect\",\"id\":\"p1467\",\"attributes\":{\"x\":{\"type\":\"field\",\"field\":\"x\"},\"y\":{\"type\":\"field\",\"field\":\"y\"},\"width\":{\"type\":\"field\",\"field\":\"w\"},\"height\":{\"type\":\"field\",\"field\":\"h\"},\"line_alpha\":{\"type\":\"value\",\"value\":0.2},\"line_dash\":{\"type\":\"value\",\"value\":\"2 2\"},\"fill_color\":{\"type\":\"value\",\"value\":\"black\"},\"fill_alpha\":{\"type\":\"value\",\"value\":0.2},\"hatch_alpha\":{\"type\":\"value\",\"value\":0.2}}}}}],\"toolbar\":{\"type\":\"object\",\"name\":\"Toolbar\",\"id\":\"p1395\",\"attributes\":{\"tools\":[{\"type\":\"object\",\"name\":\"ResetTool\",\"id\":\"p1421\"}]}},\"left\":[{\"type\":\"object\",\"name\":\"LinearAxis\",\"id\":\"p1414\",\"attributes\":{\"ticker\":{\"type\":\"object\",\"name\":\"BasicTicker\",\"id\":\"p1416\",\"attributes\":{\"mantissas\":[1,2,5]}},\"formatter\":{\"type\":\"object\",\"name\":\"BasicTickFormatter\",\"id\":\"p1417\"},\"major_label_policy\":{\"type\":\"object\",\"name\":\"AllLabels\",\"id\":\"p1415\"}}}],\"below\":[{\"type\":\"object\",\"name\":\"LinearAxis\",\"id\":\"p1407\",\"attributes\":{\"ticker\":{\"type\":\"object\",\"name\":\"BasicTicker\",\"id\":\"p1409\",\"attributes\":{\"mantissas\":[1,2,5]}},\"formatter\":{\"type\":\"object\",\"name\":\"BasicTickFormatter\",\"id\":\"p1410\"},\"major_label_policy\":{\"type\":\"object\",\"name\":\"AllLabels\",\"id\":\"p1408\"}}}],\"center\":[{\"type\":\"object\",\"name\":\"Grid\",\"id\":\"p1413\",\"attributes\":{\"axis\":{\"id\":\"p1407\"}}},{\"type\":\"object\",\"name\":\"Grid\",\"id\":\"p1420\",\"attributes\":{\"dimension\":1,\"axis\":{\"id\":\"p1414\"}}}],\"background_fill_color\":\"lightgrey\"}}],\"callbacks\":{\"type\":\"map\"}}};\n  const render_items = [{\"docid\":\"dbd827f6-b20e-4158-8271-2f2103e5f170\",\"roots\":{\"p1389\":\"adca70ad-ae53-4a14-9869-1ad6fe9b90ca\"},\"root_ids\":[\"p1389\"]}];\n  root.Bokeh.embed.embed_items_notebook(docs_json, render_items);\n  }\n  if (root.Bokeh !== undefined) {\n    embed_document(root);\n  } else {\n    let attempts = 0;\n    const timer = setInterval(function(root) {\n      if (root.Bokeh !== undefined) {\n        clearInterval(timer);\n        embed_document(root);\n      } else {\n        attempts++;\n        if (attempts > 100) {\n          clearInterval(timer);\n          console.log(\"Bokeh: ERROR: Unable to run BokehJS code because BokehJS library is missing\");\n        }\n      }\n    }, 10, root)\n  }\n})(window);",
      "application/vnd.bokehjs_exec.v0+json": ""
     },
     "metadata": {
      "application/vnd.bokehjs_exec.v0+json": {
       "id": "p1389"
      }
     },
     "output_type": "display_data"
    }
   ],
   "source": [
    "\n",
    "from bokeh.plotting import figure, output_file, show, Column\n",
    "from bokeh.models import DataTable, TableColumn, PointDrawTool, ColumnDataSource\n",
    "from bokeh.models import ColumnDataSource, CustomJS\n",
    "from pathlib import Path\n",
    "\n",
    "import bokeh.models as bkmod\n",
    "\n",
    "class Slider():\n",
    "    def __init__(self,_fig,x,y,w,h):\n",
    "        self.metadata = bkmod.ColumnDataSource({'x': [x], 'y': [y], 'w':[w],'h':[h],'default_x':[x],'default_y':[y],'default_w':[w],'default_h':[h]})\n",
    "        self.renderer = _fig.rect(x=\"x\", y=\"y\", width=\"w\", height=\"h\", source=self.metadata, color='black',fill_alpha=0.2,line_alpha=1,line_dash='2 2')#size=100,line_width=10,line_color='black',angle=np.pi/2,line_alpha=0.5,fill_color='red',line_dash=\"solid\")#,line_join='round')\n",
    "\n",
    "        self.icon     = Path('WireDAQ/slider_icon.png')\n",
    "\n",
    "    def update(self,**kwargs):\n",
    "        self.renderer.update(**kwargs)\n",
    "\n",
    "\n",
    "\n",
    "\n",
    "p = figure(x_range=(0, 10), y_range=(0, 10), tools=['reset'],\n",
    "           title='Point Draw Tool')\n",
    "p2 = figure(x_range=(0, 10), y_range=(0, 10), tools=['reset'],\n",
    "           title='Point Draw Tool')\n",
    "p.background_fill_color = 'lightgrey'\n",
    "\n",
    "\n",
    "time_slider = Slider(p,x=5,y=5,w=0.5,h=20)\n",
    "time_slider.metadata.js_on_change(\"data\", CustomJS(code=\"\"\"\n",
    "cb_obj.data['y'] = cb_obj.data['default_y'];\n",
    "cb_obj.change.emit();\n",
    "\"\"\"))\n",
    "\n",
    "draw_tool = PointDrawTool(renderers=[time_slider.renderer],icon=time_slider.icon)\n",
    "# p.add_tools(draw_tool)\n",
    "# bkmod.callbacks.CustomJS(args=dict(source=self.metadata), code=\"\"\"\n",
    "\n",
    "show(p)"
   ]
  },
  {
   "cell_type": "code",
   "execution_count": 7,
   "metadata": {},
   "outputs": [
    {
     "data": {
      "text/html": [
       "<style>\n",
       "        .bk-notebook-logo {\n",
       "            display: block;\n",
       "            width: 20px;\n",
       "            height: 20px;\n",
       "            background-image: url(data:image/png;base64,iVBORw0KGgoAAAANSUhEUgAAABQAAAAUCAYAAACNiR0NAAAABHNCSVQICAgIfAhkiAAAAAlwSFlzAAALEgAACxIB0t1+/AAAABx0RVh0U29mdHdhcmUAQWRvYmUgRmlyZXdvcmtzIENTNui8sowAAAOkSURBVDiNjZRtaJVlGMd/1/08zzln5zjP1LWcU9N0NkN8m2CYjpgQYQXqSs0I84OLIC0hkEKoPtiH3gmKoiJDU7QpLgoLjLIQCpEsNJ1vqUOdO7ppbuec5+V+rj4ctwzd8IIbbi6u+8f1539dt3A78eXC7QizUF7gyV1fD1Yqg4JWz84yffhm0qkFqBogB9rM8tZdtwVsPUhWhGcFJngGeWrPzHm5oaMmkfEg1usvLFyc8jLRqDOMru7AyC8saQr7GG7f5fvDeH7Ej8CM66nIF+8yngt6HWaKh7k49Soy9nXurCi1o3qUbS3zWfrYeQDTB/Qj6kX6Ybhw4B+bOYoLKCC9H3Nu/leUTZ1JdRWkkn2ldcCamzrcf47KKXdAJllSlxAOkRgyHsGC/zRday5Qld9DyoM4/q/rUoy/CXh3jzOu3bHUVZeU+DEn8FInkPBFlu3+nW3Nw0mk6vCDiWg8CeJaxEwuHS3+z5RgY+YBR6V1Z1nxSOfoaPa4LASWxxdNp+VWTk7+4vzaou8v8PN+xo+KY2xsw6une2frhw05CTYOmQvsEhjhWjn0bmXPjpE1+kplmmkP3suftwTubK9Vq22qKmrBhpY4jvd5afdRA3wGjFAgcnTK2s4hY0/GPNIb0nErGMCRxWOOX64Z8RAC4oCXdklmEvcL8o0BfkNK4lUg9HTl+oPlQxdNo3Mg4Nv175e/1LDGzZen30MEjRUtmXSfiTVu1kK8W4txyV6BMKlbgk3lMwYCiusNy9fVfvvwMxv8Ynl6vxoByANLTWplvuj/nF9m2+PDtt1eiHPBr1oIfhCChQMBw6Aw0UulqTKZdfVvfG7VcfIqLG9bcldL/+pdWTLxLUy8Qq38heUIjh4XlzZxzQm19lLFlr8vdQ97rjZVOLf8nclzckbcD4wxXMidpX30sFd37Fv/GtwwhzhxGVAprjbg0gCAEeIgwCZyTV2Z1REEW8O4py0wsjeloKoMr6iCY6dP92H6Vw/oTyICIthibxjm/DfN9lVz8IqtqKYLUXfoKVMVQVVJOElGjrnnUt9T9wbgp8AyYKaGlqingHZU/uG2NTZSVqwHQTWkx9hxjkpWDaCg6Ckj5qebgBVbT3V3NNXMSiWSDdGV3hrtzla7J+duwPOToIg42ChPQOQjspnSlp1V+Gjdged7+8UN5CRAV7a5EdFNwCjEaBR27b3W890TE7g24NAP/mMDXRWrGoFPQI9ls/MWO2dWFAar/xcOIImbbpA3zgAAAABJRU5ErkJggg==);\n",
       "        }\n",
       "    </style>\n",
       "    <div>\n",
       "        <a href=\"https://bokeh.org\" target=\"_blank\" class=\"bk-notebook-logo\"></a>\n",
       "        <span id=\"a2270379-92c4-401d-8394-6eec84b31610\">Loading BokehJS ...</span>\n",
       "    </div>\n"
      ]
     },
     "metadata": {},
     "output_type": "display_data"
    },
    {
     "data": {
      "application/javascript": "(function(root) {\n  function now() {\n    return new Date();\n  }\n\n  const force = true;\n\n  if (typeof root._bokeh_onload_callbacks === \"undefined\" || force === true) {\n    root._bokeh_onload_callbacks = [];\n    root._bokeh_is_loading = undefined;\n  }\n\nconst JS_MIME_TYPE = 'application/javascript';\n  const HTML_MIME_TYPE = 'text/html';\n  const EXEC_MIME_TYPE = 'application/vnd.bokehjs_exec.v0+json';\n  const CLASS_NAME = 'output_bokeh rendered_html';\n\n  /**\n   * Render data to the DOM node\n   */\n  function render(props, node) {\n    const script = document.createElement(\"script\");\n    node.appendChild(script);\n  }\n\n  /**\n   * Handle when an output is cleared or removed\n   */\n  function handleClearOutput(event, handle) {\n    const cell = handle.cell;\n\n    const id = cell.output_area._bokeh_element_id;\n    const server_id = cell.output_area._bokeh_server_id;\n    // Clean up Bokeh references\n    if (id != null && id in Bokeh.index) {\n      Bokeh.index[id].model.document.clear();\n      delete Bokeh.index[id];\n    }\n\n    if (server_id !== undefined) {\n      // Clean up Bokeh references\n      const cmd_clean = \"from bokeh.io.state import curstate; print(curstate().uuid_to_server['\" + server_id + \"'].get_sessions()[0].document.roots[0]._id)\";\n      cell.notebook.kernel.execute(cmd_clean, {\n        iopub: {\n          output: function(msg) {\n            const id = msg.content.text.trim();\n            if (id in Bokeh.index) {\n              Bokeh.index[id].model.document.clear();\n              delete Bokeh.index[id];\n            }\n          }\n        }\n      });\n      // Destroy server and session\n      const cmd_destroy = \"import bokeh.io.notebook as ion; ion.destroy_server('\" + server_id + \"')\";\n      cell.notebook.kernel.execute(cmd_destroy);\n    }\n  }\n\n  /**\n   * Handle when a new output is added\n   */\n  function handleAddOutput(event, handle) {\n    const output_area = handle.output_area;\n    const output = handle.output;\n\n    // limit handleAddOutput to display_data with EXEC_MIME_TYPE content only\n    if ((output.output_type != \"display_data\") || (!Object.prototype.hasOwnProperty.call(output.data, EXEC_MIME_TYPE))) {\n      return\n    }\n\n    const toinsert = output_area.element.find(\".\" + CLASS_NAME.split(' ')[0]);\n\n    if (output.metadata[EXEC_MIME_TYPE][\"id\"] !== undefined) {\n      toinsert[toinsert.length - 1].firstChild.textContent = output.data[JS_MIME_TYPE];\n      // store reference to embed id on output_area\n      output_area._bokeh_element_id = output.metadata[EXEC_MIME_TYPE][\"id\"];\n    }\n    if (output.metadata[EXEC_MIME_TYPE][\"server_id\"] !== undefined) {\n      const bk_div = document.createElement(\"div\");\n      bk_div.innerHTML = output.data[HTML_MIME_TYPE];\n      const script_attrs = bk_div.children[0].attributes;\n      for (let i = 0; i < script_attrs.length; i++) {\n        toinsert[toinsert.length - 1].firstChild.setAttribute(script_attrs[i].name, script_attrs[i].value);\n        toinsert[toinsert.length - 1].firstChild.textContent = bk_div.children[0].textContent\n      }\n      // store reference to server id on output_area\n      output_area._bokeh_server_id = output.metadata[EXEC_MIME_TYPE][\"server_id\"];\n    }\n  }\n\n  function register_renderer(events, OutputArea) {\n\n    function append_mime(data, metadata, element) {\n      // create a DOM node to render to\n      const toinsert = this.create_output_subarea(\n        metadata,\n        CLASS_NAME,\n        EXEC_MIME_TYPE\n      );\n      this.keyboard_manager.register_events(toinsert);\n      // Render to node\n      const props = {data: data, metadata: metadata[EXEC_MIME_TYPE]};\n      render(props, toinsert[toinsert.length - 1]);\n      element.append(toinsert);\n      return toinsert\n    }\n\n    /* Handle when an output is cleared or removed */\n    events.on('clear_output.CodeCell', handleClearOutput);\n    events.on('delete.Cell', handleClearOutput);\n\n    /* Handle when a new output is added */\n    events.on('output_added.OutputArea', handleAddOutput);\n\n    /**\n     * Register the mime type and append_mime function with output_area\n     */\n    OutputArea.prototype.register_mime_type(EXEC_MIME_TYPE, append_mime, {\n      /* Is output safe? */\n      safe: true,\n      /* Index of renderer in `output_area.display_order` */\n      index: 0\n    });\n  }\n\n  // register the mime type if in Jupyter Notebook environment and previously unregistered\n  if (root.Jupyter !== undefined) {\n    const events = require('base/js/events');\n    const OutputArea = require('notebook/js/outputarea').OutputArea;\n\n    if (OutputArea.prototype.mime_types().indexOf(EXEC_MIME_TYPE) == -1) {\n      register_renderer(events, OutputArea);\n    }\n  }\n  if (typeof (root._bokeh_timeout) === \"undefined\" || force === true) {\n    root._bokeh_timeout = Date.now() + 5000;\n    root._bokeh_failed_load = false;\n  }\n\n  const NB_LOAD_WARNING = {'data': {'text/html':\n     \"<div style='background-color: #fdd'>\\n\"+\n     \"<p>\\n\"+\n     \"BokehJS does not appear to have successfully loaded. If loading BokehJS from CDN, this \\n\"+\n     \"may be due to a slow or bad network connection. Possible fixes:\\n\"+\n     \"</p>\\n\"+\n     \"<ul>\\n\"+\n     \"<li>re-rerun `output_notebook()` to attempt to load from CDN again, or</li>\\n\"+\n     \"<li>use INLINE resources instead, as so:</li>\\n\"+\n     \"</ul>\\n\"+\n     \"<code>\\n\"+\n     \"from bokeh.resources import INLINE\\n\"+\n     \"output_notebook(resources=INLINE)\\n\"+\n     \"</code>\\n\"+\n     \"</div>\"}};\n\n  function display_loaded() {\n    const el = document.getElementById(\"a2270379-92c4-401d-8394-6eec84b31610\");\n    if (el != null) {\n      el.textContent = \"BokehJS is loading...\";\n    }\n    if (root.Bokeh !== undefined) {\n      if (el != null) {\n        el.textContent = \"BokehJS \" + root.Bokeh.version + \" successfully loaded.\";\n      }\n    } else if (Date.now() < root._bokeh_timeout) {\n      setTimeout(display_loaded, 100)\n    }\n  }\n\n  function run_callbacks() {\n    try {\n      root._bokeh_onload_callbacks.forEach(function(callback) {\n        if (callback != null)\n          callback();\n      });\n    } finally {\n      delete root._bokeh_onload_callbacks\n    }\n    console.debug(\"Bokeh: all callbacks have finished\");\n  }\n\n  function load_libs(css_urls, js_urls, callback) {\n    if (css_urls == null) css_urls = [];\n    if (js_urls == null) js_urls = [];\n\n    root._bokeh_onload_callbacks.push(callback);\n    if (root._bokeh_is_loading > 0) {\n      console.debug(\"Bokeh: BokehJS is being loaded, scheduling callback at\", now());\n      return null;\n    }\n    if (js_urls == null || js_urls.length === 0) {\n      run_callbacks();\n      return null;\n    }\n    console.debug(\"Bokeh: BokehJS not loaded, scheduling load and callback at\", now());\n    root._bokeh_is_loading = css_urls.length + js_urls.length;\n\n    function on_load() {\n      root._bokeh_is_loading--;\n      if (root._bokeh_is_loading === 0) {\n        console.debug(\"Bokeh: all BokehJS libraries/stylesheets loaded\");\n        run_callbacks()\n      }\n    }\n\n    function on_error(url) {\n      console.error(\"failed to load \" + url);\n    }\n\n    for (let i = 0; i < css_urls.length; i++) {\n      const url = css_urls[i];\n      const element = document.createElement(\"link\");\n      element.onload = on_load;\n      element.onerror = on_error.bind(null, url);\n      element.rel = \"stylesheet\";\n      element.type = \"text/css\";\n      element.href = url;\n      console.debug(\"Bokeh: injecting link tag for BokehJS stylesheet: \", url);\n      document.body.appendChild(element);\n    }\n\n    for (let i = 0; i < js_urls.length; i++) {\n      const url = js_urls[i];\n      const element = document.createElement('script');\n      element.onload = on_load;\n      element.onerror = on_error.bind(null, url);\n      element.async = false;\n      element.src = url;\n      console.debug(\"Bokeh: injecting script tag for BokehJS library: \", url);\n      document.head.appendChild(element);\n    }\n  };\n\n  function inject_raw_css(css) {\n    const element = document.createElement(\"style\");\n    element.appendChild(document.createTextNode(css));\n    document.body.appendChild(element);\n  }\n\n  const js_urls = [\"https://cdn.bokeh.org/bokeh/release/bokeh-3.1.1.min.js\", \"https://cdn.bokeh.org/bokeh/release/bokeh-gl-3.1.1.min.js\", \"https://cdn.bokeh.org/bokeh/release/bokeh-widgets-3.1.1.min.js\", \"https://cdn.bokeh.org/bokeh/release/bokeh-tables-3.1.1.min.js\", \"https://cdn.bokeh.org/bokeh/release/bokeh-mathjax-3.1.1.min.js\"];\n  const css_urls = [];\n\n  const inline_js = [    function(Bokeh) {\n      Bokeh.set_log_level(\"info\");\n    },\nfunction(Bokeh) {\n    }\n  ];\n\n  function run_inline_js() {\n    if (root.Bokeh !== undefined || force === true) {\n          for (let i = 0; i < inline_js.length; i++) {\n      inline_js[i].call(root, root.Bokeh);\n    }\nif (force === true) {\n        display_loaded();\n      }} else if (Date.now() < root._bokeh_timeout) {\n      setTimeout(run_inline_js, 100);\n    } else if (!root._bokeh_failed_load) {\n      console.log(\"Bokeh: BokehJS failed to load within specified timeout.\");\n      root._bokeh_failed_load = true;\n    } else if (force !== true) {\n      const cell = $(document.getElementById(\"a2270379-92c4-401d-8394-6eec84b31610\")).parents('.cell').data().cell;\n      cell.output_area.append_execute_result(NB_LOAD_WARNING)\n    }\n  }\n\n  if (root._bokeh_is_loading === 0) {\n    console.debug(\"Bokeh: BokehJS loaded, going straight to plotting\");\n    run_inline_js();\n  } else {\n    load_libs(css_urls, js_urls, function() {\n      console.debug(\"Bokeh: BokehJS plotting callback run at\", now());\n      run_inline_js();\n    });\n  }\n}(window));",
      "application/vnd.bokehjs_load.v0+json": ""
     },
     "metadata": {},
     "output_type": "display_data"
    },
    {
     "data": {
      "text/html": [
       "\n",
       "  <div id=\"ccaf3d4f-5038-4311-b8b6-5e790a22ebb7\" data-root-id=\"p2601\" style=\"display: contents;\"></div>\n"
      ]
     },
     "metadata": {},
     "output_type": "display_data"
    },
    {
     "data": {
      "application/javascript": "(function(root) {\n  function embed_document(root) {\n  const docs_json = {\"b6cb6ebe-3582-4ab8-bbe7-c398ae9d8bac\":{\"version\":\"3.1.1\",\"title\":\"Bokeh Application\",\"defs\":[],\"roots\":[{\"type\":\"object\",\"name\":\"GridPlot\",\"id\":\"p2601\",\"attributes\":{\"rows\":null,\"cols\":null,\"toolbar\":{\"type\":\"object\",\"name\":\"Toolbar\",\"id\":\"p2600\",\"attributes\":{\"tools\":[{\"type\":\"object\",\"name\":\"ResetTool\",\"id\":\"p2508\"},{\"type\":\"object\",\"name\":\"PointDrawTool\",\"id\":\"p2573\",\"attributes\":{\"icon\":\"data:image/png;base64,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\",\"renderers\":[{\"type\":\"object\",\"name\":\"GlyphRenderer\",\"id\":\"p2555\",\"attributes\":{\"data_source\":{\"type\":\"object\",\"name\":\"ColumnDataSource\",\"id\":\"p2546\",\"attributes\":{\"js_property_callbacks\":{\"type\":\"map\",\"entries\":[[\"change:data\",[{\"type\":\"object\",\"name\":\"CustomJS\",\"id\":\"p2575\",\"attributes\":{\"code\":\"\\ncb_obj.data['y'] = [5];\\ncb_obj.change.emit();\\n\"}}]]]},\"selected\":{\"type\":\"object\",\"name\":\"Selection\",\"id\":\"p2547\",\"attributes\":{\"indices\":[],\"line_indices\":[]}},\"selection_policy\":{\"type\":\"object\",\"name\":\"UnionRenderers\",\"id\":\"p2548\"},\"data\":{\"type\":\"map\",\"entries\":[[\"x\",[5]],[\"y\",[5]],[\"w\",[0.5]],[\"h\",[20]]]}}},\"view\":{\"type\":\"object\",\"name\":\"CDSView\",\"id\":\"p2556\",\"attributes\":{\"filter\":{\"type\":\"object\",\"name\":\"AllIndices\",\"id\":\"p2557\"}}},\"glyph\":{\"type\":\"object\",\"name\":\"Rect\",\"id\":\"p2552\",\"attributes\":{\"x\":{\"type\":\"field\",\"field\":\"x\"},\"y\":{\"type\":\"field\",\"field\":\"y\"},\"width\":{\"type\":\"field\",\"field\":\"w\"},\"height\":{\"type\":\"field\",\"field\":\"h\"},\"line_dash\":{\"type\":\"value\",\"value\":\"2 2\"},\"fill_color\":{\"type\":\"value\",\"value\":\"black\"},\"fill_alpha\":{\"type\":\"value\",\"value\":0.2}}},\"nonselection_glyph\":{\"type\":\"object\",\"name\":\"Rect\",\"id\":\"p2553\",\"attributes\":{\"x\":{\"type\":\"field\",\"field\":\"x\"},\"y\":{\"type\":\"field\",\"field\":\"y\"},\"width\":{\"type\":\"field\",\"field\":\"w\"},\"height\":{\"type\":\"field\",\"field\":\"h\"},\"line_alpha\":{\"type\":\"value\",\"value\":0.1},\"line_dash\":{\"type\":\"value\",\"value\":\"2 2\"},\"fill_color\":{\"type\":\"value\",\"value\":\"black\"},\"fill_alpha\":{\"type\":\"value\",\"value\":0.1},\"hatch_alpha\":{\"type\":\"value\",\"value\":0.1}}},\"muted_glyph\":{\"type\":\"object\",\"name\":\"Rect\",\"id\":\"p2554\",\"attributes\":{\"x\":{\"type\":\"field\",\"field\":\"x\"},\"y\":{\"type\":\"field\",\"field\":\"y\"},\"width\":{\"type\":\"field\",\"field\":\"w\"},\"height\":{\"type\":\"field\",\"field\":\"h\"},\"line_alpha\":{\"type\":\"value\",\"value\":0.2},\"line_dash\":{\"type\":\"value\",\"value\":\"2 2\"},\"fill_color\":{\"type\":\"value\",\"value\":\"black\"},\"fill_alpha\":{\"type\":\"value\",\"value\":0.2},\"hatch_alpha\":{\"type\":\"value\",\"value\":0.2}}}}}]}}]}},\"toolbar_location\":\"right\",\"children\":[[{\"type\":\"object\",\"name\":\"Figure\",\"id\":\"p2476\",\"attributes\":{\"x_range\":{\"type\":\"object\",\"name\":\"Range1d\",\"id\":\"p2486\",\"attributes\":{\"end\":10}},\"y_range\":{\"type\":\"object\",\"name\":\"Range1d\",\"id\":\"p2488\",\"attributes\":{\"end\":10}},\"x_scale\":{\"type\":\"object\",\"name\":\"LinearScale\",\"id\":\"p2490\"},\"y_scale\":{\"type\":\"object\",\"name\":\"LinearScale\",\"id\":\"p2492\"},\"title\":{\"type\":\"object\",\"name\":\"Title\",\"id\":\"p2479\",\"attributes\":{\"text\":\"Point Draw Tool\"}},\"renderers\":[{\"id\":\"p2555\"}],\"toolbar\":{\"type\":\"object\",\"name\":\"Toolbar\",\"id\":\"p2482\",\"attributes\":{\"tools\":[{\"id\":\"p2508\"},{\"id\":\"p2573\"}]}},\"toolbar_location\":null,\"left\":[{\"type\":\"object\",\"name\":\"LinearAxis\",\"id\":\"p2501\",\"attributes\":{\"ticker\":{\"type\":\"object\",\"name\":\"BasicTicker\",\"id\":\"p2503\",\"attributes\":{\"mantissas\":[1,2,5]}},\"formatter\":{\"type\":\"object\",\"name\":\"BasicTickFormatter\",\"id\":\"p2504\"},\"major_label_policy\":{\"type\":\"object\",\"name\":\"AllLabels\",\"id\":\"p2502\"}}}],\"below\":[{\"type\":\"object\",\"name\":\"LinearAxis\",\"id\":\"p2494\",\"attributes\":{\"ticker\":{\"type\":\"object\",\"name\":\"BasicTicker\",\"id\":\"p2496\",\"attributes\":{\"mantissas\":[1,2,5]}},\"formatter\":{\"type\":\"object\",\"name\":\"BasicTickFormatter\",\"id\":\"p2497\"},\"major_label_policy\":{\"type\":\"object\",\"name\":\"AllLabels\",\"id\":\"p2495\"}}}],\"center\":[{\"type\":\"object\",\"name\":\"Grid\",\"id\":\"p2500\",\"attributes\":{\"axis\":{\"id\":\"p2494\"}}},{\"type\":\"object\",\"name\":\"Grid\",\"id\":\"p2507\",\"attributes\":{\"dimension\":1,\"axis\":{\"id\":\"p2501\"}}}],\"background_fill_color\":\"lightgrey\"}},0,0],[{\"type\":\"object\",\"name\":\"DataTable\",\"id\":\"p2567\",\"attributes\":{\"height\":200,\"source\":{\"id\":\"p2546\"},\"view\":{\"type\":\"object\",\"name\":\"CDSView\",\"id\":\"p2571\",\"attributes\":{\"filter\":{\"type\":\"object\",\"name\":\"AllIndices\",\"id\":\"p2572\"}}},\"columns\":[{\"type\":\"object\",\"name\":\"TableColumn\",\"id\":\"p2558\",\"attributes\":{\"field\":\"x\",\"title\":\"x\",\"formatter\":{\"type\":\"object\",\"name\":\"StringFormatter\",\"id\":\"p2560\"},\"editor\":{\"type\":\"object\",\"name\":\"StringEditor\",\"id\":\"p2559\"}}},{\"type\":\"object\",\"name\":\"TableColumn\",\"id\":\"p2561\",\"attributes\":{\"field\":\"y\",\"title\":\"y\",\"formatter\":{\"type\":\"object\",\"name\":\"StringFormatter\",\"id\":\"p2563\"},\"editor\":{\"type\":\"object\",\"name\":\"StringEditor\",\"id\":\"p2562\"}}},{\"type\":\"object\",\"name\":\"TableColumn\",\"id\":\"p2564\",\"attributes\":{\"field\":\"color\",\"title\":\"color\",\"formatter\":{\"type\":\"object\",\"name\":\"StringFormatter\",\"id\":\"p2566\"},\"editor\":{\"type\":\"object\",\"name\":\"StringEditor\",\"id\":\"p2565\"}}}],\"editable\":true}},1,0]]}}],\"callbacks\":{\"type\":\"map\"}}};\n  const render_items = [{\"docid\":\"b6cb6ebe-3582-4ab8-bbe7-c398ae9d8bac\",\"roots\":{\"p2601\":\"ccaf3d4f-5038-4311-b8b6-5e790a22ebb7\"},\"root_ids\":[\"p2601\"]}];\n  root.Bokeh.embed.embed_items_notebook(docs_json, render_items);\n  }\n  if (root.Bokeh !== undefined) {\n    embed_document(root);\n  } else {\n    let attempts = 0;\n    const timer = setInterval(function(root) {\n      if (root.Bokeh !== undefined) {\n        clearInterval(timer);\n        embed_document(root);\n      } else {\n        attempts++;\n        if (attempts > 100) {\n          clearInterval(timer);\n          console.log(\"Bokeh: ERROR: Unable to run BokehJS code because BokehJS library is missing\");\n        }\n      }\n    }, 10, root)\n  }\n})(window);",
      "application/vnd.bokehjs_exec.v0+json": ""
     },
     "metadata": {
      "application/vnd.bokehjs_exec.v0+json": {
       "id": "p2601"
      }
     },
     "output_type": "display_data"
    }
   ],
   "source": [
    "from bokeh.plotting import figure, output_file, show, Column\n",
    "from bokeh.models import DataTable, TableColumn, PointDrawTool, ColumnDataSource\n",
    "from bokeh.models import ColumnDataSource, CustomJS\n",
    "# output_file(\"tools_point_draw.html\")\n",
    "\n",
    "p = figure(x_range=(0, 10), y_range=(0, 10), tools=['reset'],\n",
    "           title='Point Draw Tool')\n",
    "p2 = figure(x_range=(0, 10), y_range=(0, 10), tools=['reset'],\n",
    "           title='Point Draw Tool')\n",
    "p.background_fill_color = 'lightgrey'\n",
    "\n",
    "source = ColumnDataSource({\n",
    "    'x': [5], 'y': [5], 'w':[0.5],'h':[20]\n",
    "})\n",
    "\n",
    "\n",
    "\n",
    "# renderer = p.scatter(x='x', y='y', source=source, color='color', size=10)\n",
    "from bokeh.models import ColumnDataSource, Grid, LinearAxis, Plot, Rect\n",
    "# renderer = p.vbar(x='x', top='ymax',bottom='ymin', color=\"navy\",width=0.1,line_width=1,line_color='black',line_dash=\"2 2\",line_alpha=1, alpha=0.2, source=source)\n",
    "# renderer = Rect(x=\"x\", y=\"y\", width=\"w\", height=\"h\")\n",
    "# glyph = Rect(x=\"x\", y=\"y\", width=\"w\", height=\"h\", angle=-0.7, fill_color=\"#cab2d6\")\n",
    "\n",
    "# renderer = p.dash(x='x', y='y', source=source, color='color',size=100,line_width=10,line_color='black',angle=np.pi/2,line_alpha=0.5,fill_color='red',line_dash=\"solid\")#,line_join='round')\n",
    "\n",
    "renderer = p.rect(x=\"x\", y=\"y\", width=\"w\", height=\"h\", source=source, color='black',fill_alpha=0.2,line_alpha=1,line_dash='2 2')#size=100,line_width=10,line_color='black',angle=np.pi/2,line_alpha=0.5,fill_color='red',line_dash=\"solid\")#,line_join='round')\n",
    "# renderer = p.line(x='x', y='y', source=source,line_width=10)##,line_color='black',line_alpha=0.5,fill_color='red',line_dash=\"solid\")#,line_join='round')\n",
    "# p.add_glyph(source, renderer)\n",
    "columns = [TableColumn(field=\"x\", title=\"x\"),\n",
    "           TableColumn(field=\"y\", title=\"y\"),\n",
    "           TableColumn(field='color', title='color')]\n",
    "table = DataTable(source=source, columns=columns, editable=True, height=200)\n",
    "\n",
    "from pathlib import Path\n",
    "\n",
    "\n",
    "draw_tool = PointDrawTool(renderers=[renderer],icon=Path('WireDAQ/slider_icon.png'))\n",
    "# import bokeh\n",
    "# # icon = bkmod.BuiltinIcon(\"settings\", size=\"1.2em\", color=\"white\")\n",
    "# draw_tool = PointDrawTool(renderers=[renderer],icon=['box_edit'])#bkmod.SVGIcon(\"settings\"))\n",
    "# draw_tool.icon = icon\n",
    "p.add_tools(draw_tool)\n",
    "\n",
    "# source.js_on_change(\"data\", CustomJS(code=\"\"\"\n",
    "# cb_obj.data['y'] = [5];\n",
    "# cb_obj.change.emit();\n",
    "# \"\"\"))\n",
    "\n",
    "source.js_on_change('data', CustomJS(code=\"\"\"\n",
    "cb_obj.data['y'] = [5];\n",
    "cb_obj.change.emit();\n",
    "\"\"\"))\n",
    "\n",
    "# p.toolbar.active_tap = draw_tool\n",
    "import bokeh.layouts as bklay\n",
    "output_notebook()\n",
    "test = bklay.gridplot([[p], [table]],toolbar_location='right')\n",
    "show(test)"
   ]
  },
  {
   "cell_type": "code",
   "execution_count": 27,
   "metadata": {},
   "outputs": [],
   "source": [
    "test = bkmod.RangeTool()"
   ]
  },
  {
   "cell_type": "code",
   "execution_count": 28,
   "metadata": {},
   "outputs": [
    {
     "data": {
      "text/html": [
       "<div style=\"display: table;\"><div style=\"display: table-row;\"><div style=\"display: table-cell;\"><b title=\"bokeh.models.annotations.geometry.BoxAnnotation\">BoxAnnotation</b>(</div><div style=\"display: table-cell;\">id&nbsp;=&nbsp;'p4058', <span id=\"p4061\" style=\"cursor: pointer;\">&hellip;)</span></div></div><div class=\"p4060\" style=\"display: none;\"><div style=\"display: table-cell;\"></div><div style=\"display: table-cell;\">border_radius&nbsp;=&nbsp;0,</div></div><div class=\"p4060\" style=\"display: none;\"><div style=\"display: table-cell;\"></div><div style=\"display: table-cell;\">bottom&nbsp;=&nbsp;None,</div></div><div class=\"p4060\" style=\"display: none;\"><div style=\"display: table-cell;\"></div><div style=\"display: table-cell;\">bottom_units&nbsp;=&nbsp;'data',</div></div><div class=\"p4060\" style=\"display: none;\"><div style=\"display: table-cell;\"></div><div style=\"display: table-cell;\">coordinates&nbsp;=&nbsp;None,</div></div><div class=\"p4060\" style=\"display: none;\"><div style=\"display: table-cell;\"></div><div style=\"display: table-cell;\">editable&nbsp;=&nbsp;True,</div></div><div class=\"p4060\" style=\"display: none;\"><div style=\"display: table-cell;\"></div><div style=\"display: table-cell;\">fill_alpha&nbsp;=&nbsp;0.5,</div></div><div class=\"p4060\" style=\"display: none;\"><div style=\"display: table-cell;\"></div><div style=\"display: table-cell;\">fill_color&nbsp;=&nbsp;'lightgrey',</div></div><div class=\"p4060\" style=\"display: none;\"><div style=\"display: table-cell;\"></div><div style=\"display: table-cell;\">group&nbsp;=&nbsp;None,</div></div><div class=\"p4060\" style=\"display: none;\"><div style=\"display: table-cell;\"></div><div style=\"display: table-cell;\">hatch_alpha&nbsp;=&nbsp;1.0,</div></div><div class=\"p4060\" style=\"display: none;\"><div style=\"display: table-cell;\"></div><div style=\"display: table-cell;\">hatch_color&nbsp;=&nbsp;'black',</div></div><div class=\"p4060\" style=\"display: none;\"><div style=\"display: table-cell;\"></div><div style=\"display: table-cell;\">hatch_extra&nbsp;=&nbsp;{},</div></div><div class=\"p4060\" style=\"display: none;\"><div style=\"display: table-cell;\"></div><div style=\"display: table-cell;\">hatch_pattern&nbsp;=&nbsp;None,</div></div><div class=\"p4060\" style=\"display: none;\"><div style=\"display: table-cell;\"></div><div style=\"display: table-cell;\">hatch_scale&nbsp;=&nbsp;12.0,</div></div><div class=\"p4060\" style=\"display: none;\"><div style=\"display: table-cell;\"></div><div style=\"display: table-cell;\">hatch_weight&nbsp;=&nbsp;1.0,</div></div><div class=\"p4060\" style=\"display: none;\"><div style=\"display: table-cell;\"></div><div style=\"display: table-cell;\">hover_fill_alpha&nbsp;=&nbsp;0.4,</div></div><div class=\"p4060\" style=\"display: none;\"><div style=\"display: table-cell;\"></div><div style=\"display: table-cell;\">hover_fill_color&nbsp;=&nbsp;None,</div></div><div class=\"p4060\" style=\"display: none;\"><div style=\"display: table-cell;\"></div><div style=\"display: table-cell;\">hover_hatch_alpha&nbsp;=&nbsp;1.0,</div></div><div class=\"p4060\" style=\"display: none;\"><div style=\"display: table-cell;\"></div><div style=\"display: table-cell;\">hover_hatch_color&nbsp;=&nbsp;'black',</div></div><div class=\"p4060\" style=\"display: none;\"><div style=\"display: table-cell;\"></div><div style=\"display: table-cell;\">hover_hatch_extra&nbsp;=&nbsp;{},</div></div><div class=\"p4060\" style=\"display: none;\"><div style=\"display: table-cell;\"></div><div style=\"display: table-cell;\">hover_hatch_pattern&nbsp;=&nbsp;None,</div></div><div class=\"p4060\" style=\"display: none;\"><div style=\"display: table-cell;\"></div><div style=\"display: table-cell;\">hover_hatch_scale&nbsp;=&nbsp;12.0,</div></div><div class=\"p4060\" style=\"display: none;\"><div style=\"display: table-cell;\"></div><div style=\"display: table-cell;\">hover_hatch_weight&nbsp;=&nbsp;1.0,</div></div><div class=\"p4060\" style=\"display: none;\"><div style=\"display: table-cell;\"></div><div style=\"display: table-cell;\">hover_line_alpha&nbsp;=&nbsp;0.3,</div></div><div class=\"p4060\" style=\"display: none;\"><div style=\"display: table-cell;\"></div><div style=\"display: table-cell;\">hover_line_cap&nbsp;=&nbsp;'butt',</div></div><div class=\"p4060\" style=\"display: none;\"><div style=\"display: table-cell;\"></div><div style=\"display: table-cell;\">hover_line_color&nbsp;=&nbsp;None,</div></div><div class=\"p4060\" style=\"display: none;\"><div style=\"display: table-cell;\"></div><div style=\"display: table-cell;\">hover_line_dash&nbsp;=&nbsp;[],</div></div><div class=\"p4060\" style=\"display: none;\"><div style=\"display: table-cell;\"></div><div style=\"display: table-cell;\">hover_line_dash_offset&nbsp;=&nbsp;0,</div></div><div class=\"p4060\" style=\"display: none;\"><div style=\"display: table-cell;\"></div><div style=\"display: table-cell;\">hover_line_join&nbsp;=&nbsp;'bevel',</div></div><div class=\"p4060\" style=\"display: none;\"><div style=\"display: table-cell;\"></div><div style=\"display: table-cell;\">hover_line_width&nbsp;=&nbsp;1,</div></div><div class=\"p4060\" style=\"display: none;\"><div style=\"display: table-cell;\"></div><div style=\"display: table-cell;\">js_event_callbacks&nbsp;=&nbsp;{},</div></div><div class=\"p4060\" style=\"display: none;\"><div style=\"display: table-cell;\"></div><div style=\"display: table-cell;\">js_property_callbacks&nbsp;=&nbsp;{},</div></div><div class=\"p4060\" style=\"display: none;\"><div style=\"display: table-cell;\"></div><div style=\"display: table-cell;\">left&nbsp;=&nbsp;None,</div></div><div class=\"p4060\" style=\"display: none;\"><div style=\"display: table-cell;\"></div><div style=\"display: table-cell;\">left_units&nbsp;=&nbsp;'data',</div></div><div class=\"p4060\" style=\"display: none;\"><div style=\"display: table-cell;\"></div><div style=\"display: table-cell;\">level&nbsp;=&nbsp;'overlay',</div></div><div class=\"p4060\" style=\"display: none;\"><div style=\"display: table-cell;\"></div><div style=\"display: table-cell;\">line_alpha&nbsp;=&nbsp;1.0,</div></div><div class=\"p4060\" style=\"display: none;\"><div style=\"display: table-cell;\"></div><div style=\"display: table-cell;\">line_cap&nbsp;=&nbsp;'butt',</div></div><div class=\"p4060\" style=\"display: none;\"><div style=\"display: table-cell;\"></div><div style=\"display: table-cell;\">line_color&nbsp;=&nbsp;'black',</div></div><div class=\"p4060\" style=\"display: none;\"><div style=\"display: table-cell;\"></div><div style=\"display: table-cell;\">line_dash&nbsp;=&nbsp;[2, 2],</div></div><div class=\"p4060\" style=\"display: none;\"><div style=\"display: table-cell;\"></div><div style=\"display: table-cell;\">line_dash_offset&nbsp;=&nbsp;0,</div></div><div class=\"p4060\" style=\"display: none;\"><div style=\"display: table-cell;\"></div><div style=\"display: table-cell;\">line_join&nbsp;=&nbsp;'bevel',</div></div><div class=\"p4060\" style=\"display: none;\"><div style=\"display: table-cell;\"></div><div style=\"display: table-cell;\">line_width&nbsp;=&nbsp;0.5,</div></div><div class=\"p4060\" style=\"display: none;\"><div style=\"display: table-cell;\"></div><div style=\"display: table-cell;\">movable&nbsp;=&nbsp;'both',</div></div><div class=\"p4060\" style=\"display: none;\"><div style=\"display: table-cell;\"></div><div style=\"display: table-cell;\">name&nbsp;=&nbsp;None,</div></div><div class=\"p4060\" style=\"display: none;\"><div style=\"display: table-cell;\"></div><div style=\"display: table-cell;\">propagate_hover&nbsp;=&nbsp;True,</div></div><div class=\"p4060\" style=\"display: none;\"><div style=\"display: table-cell;\"></div><div style=\"display: table-cell;\">resizable&nbsp;=&nbsp;'all',</div></div><div class=\"p4060\" style=\"display: none;\"><div style=\"display: table-cell;\"></div><div style=\"display: table-cell;\">right&nbsp;=&nbsp;None,</div></div><div class=\"p4060\" style=\"display: none;\"><div style=\"display: table-cell;\"></div><div style=\"display: table-cell;\">right_units&nbsp;=&nbsp;'data',</div></div><div class=\"p4060\" style=\"display: none;\"><div style=\"display: table-cell;\"></div><div style=\"display: table-cell;\">subscribed_events&nbsp;=&nbsp;PropertyValueSet(),</div></div><div class=\"p4060\" style=\"display: none;\"><div style=\"display: table-cell;\"></div><div style=\"display: table-cell;\">symmetric&nbsp;=&nbsp;False,</div></div><div class=\"p4060\" style=\"display: none;\"><div style=\"display: table-cell;\"></div><div style=\"display: table-cell;\">syncable&nbsp;=&nbsp;False,</div></div><div class=\"p4060\" style=\"display: none;\"><div style=\"display: table-cell;\"></div><div style=\"display: table-cell;\">tags&nbsp;=&nbsp;[],</div></div><div class=\"p4060\" style=\"display: none;\"><div style=\"display: table-cell;\"></div><div style=\"display: table-cell;\">top&nbsp;=&nbsp;None,</div></div><div class=\"p4060\" style=\"display: none;\"><div style=\"display: table-cell;\"></div><div style=\"display: table-cell;\">top_units&nbsp;=&nbsp;'data',</div></div><div class=\"p4060\" style=\"display: none;\"><div style=\"display: table-cell;\"></div><div style=\"display: table-cell;\">visible&nbsp;=&nbsp;True,</div></div><div class=\"p4060\" style=\"display: none;\"><div style=\"display: table-cell;\"></div><div style=\"display: table-cell;\">x_range_name&nbsp;=&nbsp;'default',</div></div><div class=\"p4060\" style=\"display: none;\"><div style=\"display: table-cell;\"></div><div style=\"display: table-cell;\">y_range_name&nbsp;=&nbsp;'default')</div></div></div>\n",
       "<script>\n",
       "(function() {\n",
       "  let expanded = false;\n",
       "  const ellipsis = document.getElementById(\"p4061\");\n",
       "  ellipsis.addEventListener(\"click\", function() {\n",
       "    const rows = document.getElementsByClassName(\"p4060\");\n",
       "    for (let i = 0; i < rows.length; i++) {\n",
       "      const el = rows[i];\n",
       "      el.style.display = expanded ? \"none\" : \"table-row\";\n",
       "    }\n",
       "    ellipsis.innerHTML = expanded ? \"&hellip;)\" : \"&lsaquo;&lsaquo;&lsaquo;\";\n",
       "    expanded = !expanded;\n",
       "  });\n",
       "})();\n",
       "</script>\n"
      ],
      "text/plain": [
       "BoxAnnotation(id='p4058', ...)"
      ]
     },
     "execution_count": 28,
     "metadata": {},
     "output_type": "execute_result"
    }
   ],
   "source": [
    "test.overlay"
   ]
  },
  {
   "cell_type": "code",
   "execution_count": 22,
   "metadata": {},
   "outputs": [],
   "source": [
    "# BOKEH\n",
    "import bokeh.plotting as bk\n",
    "import bokeh.models as bkmod\n",
    "import bokeh.layouts as bklay\n",
    "\n",
    "def new_axis(fig,axis_name,side='none'):\n",
    "    fig.extra_y_ranges[axis_name] = bkmod.Range1d(0,1)\n",
    "    _ax = bkmod.LinearAxis(y_range_name=axis_name)\n",
    "    if side == 'none':\n",
    "        pass\n",
    "    else:\n",
    "        fig.add_layout(_ax,side)\n",
    "\n",
    "    return _ax,axis_name\n",
    "\n",
    "class Slider2():\n",
    "    def __init__(self,_fig,x,w,**kwargs):\n",
    "        \n",
    "        # Icon file\n",
    "        self.icon     = Path('WireDAQ/Icons/slider_icon.png')\n",
    "\n",
    "        # Creating new axis from 0-1 on the figure\n",
    "        ax,axis_name = new_axis(_fig,axis_name='_slider')\n",
    "        _fig.extra_y_ranges[axis_name] = bkmod.Range1d(0,1)\n",
    "        kwargs.update({'y_range_name':axis_name})\n",
    "\n",
    "        # Metadata\n",
    "        w_factor = 5\n",
    "        self.metadata  = bkmod.ColumnDataSource({'x': [x], 'w':[w],'w_drag':[w_factor*w],'w_factor':[w_factor] ,'yt':[2],'yb':[-1],'ym':[0.5]})#'default_x':[x],'default_w':[w]})\n",
    "        \n",
    "        # self.draggable = bkmod.ColumnDataSource({'x': [x], 'w':[w_drag] ,'yt':[1],'yb':[0],})#'default_x':[x],'default_w':[w_drag]})\n",
    "        _s_ts = x-w_factor*w/2\n",
    "        _e_ts = x+w_factor*w/2\n",
    "        self.range = bkmod.Range1d(_s_ts,_e_ts)\n",
    "\n",
    "\n",
    "        # Add tool to figure\n",
    "        self.RangeTool = bkmod.RangeTool(   x_range      = self.range,\n",
    "                                            icon         = self.icon)\n",
    "        \n",
    "        self.RangeTool.overlay.update(      visible      = False,\n",
    "                                            fill_color   = None,\n",
    "                                            fill_alpha   = 0,\n",
    "                                            line_color   = None)\n",
    "        _fig.add_tools(self.RangeTool)\n",
    "\n",
    "\n",
    "        # Add visible slider itself\n",
    "        self.renderer = _fig.rect(x=\"x\", y=\"ym\", width=\"w\", height=\"yt\", source=self.metadata,**kwargs)\n",
    "        # self.renderer = _fig.vbar(x='x', top='yt',bottom='yb',width='w',source=self.metadata,**kwargs)#, color=\"navy\",width=slider_dt,line_width=1,line_color='black',line_dash=\"2 2\",line_alpha=1, alpha=0.2, source=slider_source)\n",
    "        # self.renderer.muted = True\n",
    "        if 'y_range_name' in kwargs.keys():\n",
    "            kwargs.pop('y_range_name');\n",
    "        self.renderer.muted_glyph.update(**kwargs)\n",
    "\n",
    "        self.callback_start = bkmod.callbacks.CustomJS(args=dict(metadata = self.metadata), \n",
    "                                                                            code=\"\"\"\n",
    "                //=========================================================\n",
    "                cb_obj.end         = cb_obj.start+metadata.data['w_drag'][0];\n",
    "                metadata.data['x'] = [(cb_obj.start + cb_obj.end)/2];\n",
    "                metadata.change.emit()\n",
    "                //=========================================================\"\"\")\n",
    "\n",
    "        self.callback_end = bkmod.callbacks.CustomJS(args=dict(metadata = self.metadata), \n",
    "                                                                            code=\"\"\"\n",
    "                //=========================================================\n",
    "                cb_obj.end         = cb_obj.start+metadata.data['w_drag'][0];\n",
    "                metadata.data['x'] = [(cb_obj.start + cb_obj.end)/2];\n",
    "                metadata.change.emit()\n",
    "                //=========================================================\"\"\")\n",
    "\n",
    "        self.range.js_on_change('start',self.callback_start )\n",
    "        self.range.js_on_change('end'  ,self.callback_end )\n",
    "    #=====================================================================\n",
    "        \n",
    "    def add_renderer(self,_fig,**kwargs):\n",
    "        # Creating new axis from 0-1 on the figure\n",
    "        _,axis_name = new_axis(_fig,axis_name='_slider_indicator')\n",
    "        _fig.extra_y_ranges[axis_name] = bkmod.Range1d(0,1)\n",
    "        kwargs.update({'y_range_name':axis_name})\n",
    "        return _fig.rect(x=\"x\", y=\"ym\", width=\"w\", height=\"yt\", source=self.metadata,**kwargs)\n",
    "    \n",
    "    def update(self,**kwargs):\n",
    "        if 'y_range_name' in kwargs.keys():\n",
    "            kwargs.pop('y_range_name');\n",
    "        self.renderer.glyph.update(**kwargs)\n",
    "        self.renderer.muted_glyph.update(**kwargs)\n",
    "        \n",
    "    def add_callback(self,args,code):\n",
    "        self.callback_start.update(args=dict(metadata = self.metadata,**args), \n",
    "                                                                            code=\"\"\"\n",
    "                //=========================================================\n",
    "                cb_obj.end         = cb_obj.start+metadata.data['w_drag'][0];\n",
    "                metadata.data['x'] = [(cb_obj.start + cb_obj.end)/2];\n",
    "                metadata.change.emit()\n",
    "                //=========================================================\\n\"\"\" + code)"
   ]
  },
  {
   "cell_type": "code",
   "execution_count": 19,
   "metadata": {},
   "outputs": [],
   "source": [
    "test = bkmod.ColumnDataSource({'x': [1], 'w':[2],'w_drag':[5*2],'w_factor':[5],'yt':[1],'yb':[0]})\n"
   ]
  },
  {
   "cell_type": "code",
   "execution_count": 127,
   "metadata": {},
   "outputs": [
    {
     "data": {
      "text/html": [
       "<div style=\"display: table;\"><div style=\"display: table-row;\"><div style=\"display: table-cell;\"><b title=\"bokeh.models.glyphs.Rect\">Rect</b>(</div><div style=\"display: table-cell;\">id&nbsp;=&nbsp;'p57322', <span id=\"p58964\" style=\"cursor: pointer;\">&hellip;)</span></div></div><div class=\"p58963\" style=\"display: none;\"><div style=\"display: table-cell;\"></div><div style=\"display: table-cell;\">angle&nbsp;=&nbsp;Value(value=0.0, transform=Unspecified, units=Unspecified),</div></div><div class=\"p58963\" style=\"display: none;\"><div style=\"display: table-cell;\"></div><div style=\"display: table-cell;\">border_radius&nbsp;=&nbsp;0,</div></div><div class=\"p58963\" style=\"display: none;\"><div style=\"display: table-cell;\"></div><div style=\"display: table-cell;\">decorations&nbsp;=&nbsp;[],</div></div><div class=\"p58963\" style=\"display: none;\"><div style=\"display: table-cell;\"></div><div style=\"display: table-cell;\">dilate&nbsp;=&nbsp;False,</div></div><div class=\"p58963\" style=\"display: none;\"><div style=\"display: table-cell;\"></div><div style=\"display: table-cell;\">fill_alpha&nbsp;=&nbsp;Value(value=0.2, transform=Unspecified, units=Unspecified),</div></div><div class=\"p58963\" style=\"display: none;\"><div style=\"display: table-cell;\"></div><div style=\"display: table-cell;\">fill_color&nbsp;=&nbsp;Value(value='#1f77b4', transform=Unspecified, units=Unspecified),</div></div><div class=\"p58963\" style=\"display: none;\"><div style=\"display: table-cell;\"></div><div style=\"display: table-cell;\">hatch_alpha&nbsp;=&nbsp;Value(value=0.2, transform=Unspecified, units=Unspecified),</div></div><div class=\"p58963\" style=\"display: none;\"><div style=\"display: table-cell;\"></div><div style=\"display: table-cell;\">hatch_color&nbsp;=&nbsp;Value(value='black', transform=Unspecified, units=Unspecified),</div></div><div class=\"p58963\" style=\"display: none;\"><div style=\"display: table-cell;\"></div><div style=\"display: table-cell;\">hatch_extra&nbsp;=&nbsp;{},</div></div><div class=\"p58963\" style=\"display: none;\"><div style=\"display: table-cell;\"></div><div style=\"display: table-cell;\">hatch_pattern&nbsp;=&nbsp;Value(value=None, transform=Unspecified, units=Unspecified),</div></div><div class=\"p58963\" style=\"display: none;\"><div style=\"display: table-cell;\"></div><div style=\"display: table-cell;\">hatch_scale&nbsp;=&nbsp;Value(value=12.0, transform=Unspecified, units=Unspecified),</div></div><div class=\"p58963\" style=\"display: none;\"><div style=\"display: table-cell;\"></div><div style=\"display: table-cell;\">hatch_weight&nbsp;=&nbsp;Value(value=1.0, transform=Unspecified, units=Unspecified),</div></div><div class=\"p58963\" style=\"display: none;\"><div style=\"display: table-cell;\"></div><div style=\"display: table-cell;\">height&nbsp;=&nbsp;Field(field='yt', transform=Unspecified, units=Unspecified),</div></div><div class=\"p58963\" style=\"display: none;\"><div style=\"display: table-cell;\"></div><div style=\"display: table-cell;\">js_event_callbacks&nbsp;=&nbsp;{},</div></div><div class=\"p58963\" style=\"display: none;\"><div style=\"display: table-cell;\"></div><div style=\"display: table-cell;\">js_property_callbacks&nbsp;=&nbsp;{},</div></div><div class=\"p58963\" style=\"display: none;\"><div style=\"display: table-cell;\"></div><div style=\"display: table-cell;\">line_alpha&nbsp;=&nbsp;Value(value=0.2, transform=Unspecified, units=Unspecified),</div></div><div class=\"p58963\" style=\"display: none;\"><div style=\"display: table-cell;\"></div><div style=\"display: table-cell;\">line_cap&nbsp;=&nbsp;Value(value='butt', transform=Unspecified, units=Unspecified),</div></div><div class=\"p58963\" style=\"display: none;\"><div style=\"display: table-cell;\"></div><div style=\"display: table-cell;\">line_color&nbsp;=&nbsp;Value(value='#1f77b4', transform=Unspecified, units=Unspecified),</div></div><div class=\"p58963\" style=\"display: none;\"><div style=\"display: table-cell;\"></div><div style=\"display: table-cell;\">line_dash&nbsp;=&nbsp;Value(value=[], transform=Unspecified, units=Unspecified),</div></div><div class=\"p58963\" style=\"display: none;\"><div style=\"display: table-cell;\"></div><div style=\"display: table-cell;\">line_dash_offset&nbsp;=&nbsp;Value(value=0, transform=Unspecified, units=Unspecified),</div></div><div class=\"p58963\" style=\"display: none;\"><div style=\"display: table-cell;\"></div><div style=\"display: table-cell;\">line_join&nbsp;=&nbsp;Value(value='bevel', transform=Unspecified, units=Unspecified),</div></div><div class=\"p58963\" style=\"display: none;\"><div style=\"display: table-cell;\"></div><div style=\"display: table-cell;\">line_width&nbsp;=&nbsp;Value(value=1, transform=Unspecified, units=Unspecified),</div></div><div class=\"p58963\" style=\"display: none;\"><div style=\"display: table-cell;\"></div><div style=\"display: table-cell;\">name&nbsp;=&nbsp;None,</div></div><div class=\"p58963\" style=\"display: none;\"><div style=\"display: table-cell;\"></div><div style=\"display: table-cell;\">subscribed_events&nbsp;=&nbsp;PropertyValueSet(),</div></div><div class=\"p58963\" style=\"display: none;\"><div style=\"display: table-cell;\"></div><div style=\"display: table-cell;\">syncable&nbsp;=&nbsp;True,</div></div><div class=\"p58963\" style=\"display: none;\"><div style=\"display: table-cell;\"></div><div style=\"display: table-cell;\">tags&nbsp;=&nbsp;[],</div></div><div class=\"p58963\" style=\"display: none;\"><div style=\"display: table-cell;\"></div><div style=\"display: table-cell;\">width&nbsp;=&nbsp;Field(field='w', transform=Unspecified, units=Unspecified),</div></div><div class=\"p58963\" style=\"display: none;\"><div style=\"display: table-cell;\"></div><div style=\"display: table-cell;\">x&nbsp;=&nbsp;Field(field='x', transform=Unspecified, units=Unspecified),</div></div><div class=\"p58963\" style=\"display: none;\"><div style=\"display: table-cell;\"></div><div style=\"display: table-cell;\">y&nbsp;=&nbsp;Field(field='ym', transform=Unspecified, units=Unspecified))</div></div></div>\n",
       "<script>\n",
       "(function() {\n",
       "  let expanded = false;\n",
       "  const ellipsis = document.getElementById(\"p58964\");\n",
       "  ellipsis.addEventListener(\"click\", function() {\n",
       "    const rows = document.getElementsByClassName(\"p58963\");\n",
       "    for (let i = 0; i < rows.length; i++) {\n",
       "      const el = rows[i];\n",
       "      el.style.display = expanded ? \"none\" : \"table-row\";\n",
       "    }\n",
       "    ellipsis.innerHTML = expanded ? \"&hellip;)\" : \"&lsaquo;&lsaquo;&lsaquo;\";\n",
       "    expanded = !expanded;\n",
       "  });\n",
       "})();\n",
       "</script>\n"
      ],
      "text/plain": [
       "Rect(id='p57322', ...)"
      ]
     },
     "execution_count": 127,
     "metadata": {},
     "output_type": "execute_result"
    }
   ],
   "source": [
    "time_slider.renderer.muted_glyph"
   ]
  },
  {
   "cell_type": "code",
   "execution_count": 136,
   "metadata": {},
   "outputs": [
    {
     "data": {
      "text/plain": [
       "{'b': 3}"
      ]
     },
     "execution_count": 136,
     "metadata": {},
     "output_type": "execute_result"
    }
   ],
   "source": [
    "test = {'a':2,'b':3}\n",
    "if 'a' in test.keys():\n",
    "    test.pop('a');\n",
    "if 'a' in test.keys():\n",
    "    test.pop('a');\n",
    "test"
   ]
  },
  {
   "cell_type": "code",
   "execution_count": 134,
   "metadata": {},
   "outputs": [
    {
     "data": {
      "text/plain": [
       "{'b': 3}"
      ]
     },
     "execution_count": 134,
     "metadata": {},
     "output_type": "execute_result"
    }
   ],
   "source": [
    "if "
   ]
  },
  {
   "cell_type": "code",
   "execution_count": 7,
   "metadata": {},
   "outputs": [
    {
     "data": {
      "text/html": [
       "<style>\n",
       "        .bk-notebook-logo {\n",
       "            display: block;\n",
       "            width: 20px;\n",
       "            height: 20px;\n",
       "            background-image: url(data:image/png;base64,iVBORw0KGgoAAAANSUhEUgAAABQAAAAUCAYAAACNiR0NAAAABHNCSVQICAgIfAhkiAAAAAlwSFlzAAALEgAACxIB0t1+/AAAABx0RVh0U29mdHdhcmUAQWRvYmUgRmlyZXdvcmtzIENTNui8sowAAAOkSURBVDiNjZRtaJVlGMd/1/08zzln5zjP1LWcU9N0NkN8m2CYjpgQYQXqSs0I84OLIC0hkEKoPtiH3gmKoiJDU7QpLgoLjLIQCpEsNJ1vqUOdO7ppbuec5+V+rj4ctwzd8IIbbi6u+8f1539dt3A78eXC7QizUF7gyV1fD1Yqg4JWz84yffhm0qkFqBogB9rM8tZdtwVsPUhWhGcFJngGeWrPzHm5oaMmkfEg1usvLFyc8jLRqDOMru7AyC8saQr7GG7f5fvDeH7Ej8CM66nIF+8yngt6HWaKh7k49Soy9nXurCi1o3qUbS3zWfrYeQDTB/Qj6kX6Ybhw4B+bOYoLKCC9H3Nu/leUTZ1JdRWkkn2ldcCamzrcf47KKXdAJllSlxAOkRgyHsGC/zRday5Qld9DyoM4/q/rUoy/CXh3jzOu3bHUVZeU+DEn8FInkPBFlu3+nW3Nw0mk6vCDiWg8CeJaxEwuHS3+z5RgY+YBR6V1Z1nxSOfoaPa4LASWxxdNp+VWTk7+4vzaou8v8PN+xo+KY2xsw6une2frhw05CTYOmQvsEhjhWjn0bmXPjpE1+kplmmkP3suftwTubK9Vq22qKmrBhpY4jvd5afdRA3wGjFAgcnTK2s4hY0/GPNIb0nErGMCRxWOOX64Z8RAC4oCXdklmEvcL8o0BfkNK4lUg9HTl+oPlQxdNo3Mg4Nv175e/1LDGzZen30MEjRUtmXSfiTVu1kK8W4txyV6BMKlbgk3lMwYCiusNy9fVfvvwMxv8Ynl6vxoByANLTWplvuj/nF9m2+PDtt1eiHPBr1oIfhCChQMBw6Aw0UulqTKZdfVvfG7VcfIqLG9bcldL/+pdWTLxLUy8Qq38heUIjh4XlzZxzQm19lLFlr8vdQ97rjZVOLf8nclzckbcD4wxXMidpX30sFd37Fv/GtwwhzhxGVAprjbg0gCAEeIgwCZyTV2Z1REEW8O4py0wsjeloKoMr6iCY6dP92H6Vw/oTyICIthibxjm/DfN9lVz8IqtqKYLUXfoKVMVQVVJOElGjrnnUt9T9wbgp8AyYKaGlqingHZU/uG2NTZSVqwHQTWkx9hxjkpWDaCg6Ckj5qebgBVbT3V3NNXMSiWSDdGV3hrtzla7J+duwPOToIg42ChPQOQjspnSlp1V+Gjdged7+8UN5CRAV7a5EdFNwCjEaBR27b3W890TE7g24NAP/mMDXRWrGoFPQI9ls/MWO2dWFAar/xcOIImbbpA3zgAAAABJRU5ErkJggg==);\n",
       "        }\n",
       "    </style>\n",
       "    <div>\n",
       "        <a href=\"https://bokeh.org\" target=\"_blank\" class=\"bk-notebook-logo\"></a>\n",
       "        <span id=\"aecbc902-1c7a-4bad-ac78-ac8c64dd5122\">Loading BokehJS ...</span>\n",
       "    </div>\n"
      ]
     },
     "metadata": {},
     "output_type": "display_data"
    },
    {
     "data": {
      "application/javascript": "(function(root) {\n  function now() {\n    return new Date();\n  }\n\n  const force = true;\n\n  if (typeof root._bokeh_onload_callbacks === \"undefined\" || force === true) {\n    root._bokeh_onload_callbacks = [];\n    root._bokeh_is_loading = undefined;\n  }\n\nconst JS_MIME_TYPE = 'application/javascript';\n  const HTML_MIME_TYPE = 'text/html';\n  const EXEC_MIME_TYPE = 'application/vnd.bokehjs_exec.v0+json';\n  const CLASS_NAME = 'output_bokeh rendered_html';\n\n  /**\n   * Render data to the DOM node\n   */\n  function render(props, node) {\n    const script = document.createElement(\"script\");\n    node.appendChild(script);\n  }\n\n  /**\n   * Handle when an output is cleared or removed\n   */\n  function handleClearOutput(event, handle) {\n    const cell = handle.cell;\n\n    const id = cell.output_area._bokeh_element_id;\n    const server_id = cell.output_area._bokeh_server_id;\n    // Clean up Bokeh references\n    if (id != null && id in Bokeh.index) {\n      Bokeh.index[id].model.document.clear();\n      delete Bokeh.index[id];\n    }\n\n    if (server_id !== undefined) {\n      // Clean up Bokeh references\n      const cmd_clean = \"from bokeh.io.state import curstate; print(curstate().uuid_to_server['\" + server_id + \"'].get_sessions()[0].document.roots[0]._id)\";\n      cell.notebook.kernel.execute(cmd_clean, {\n        iopub: {\n          output: function(msg) {\n            const id = msg.content.text.trim();\n            if (id in Bokeh.index) {\n              Bokeh.index[id].model.document.clear();\n              delete Bokeh.index[id];\n            }\n          }\n        }\n      });\n      // Destroy server and session\n      const cmd_destroy = \"import bokeh.io.notebook as ion; ion.destroy_server('\" + server_id + \"')\";\n      cell.notebook.kernel.execute(cmd_destroy);\n    }\n  }\n\n  /**\n   * Handle when a new output is added\n   */\n  function handleAddOutput(event, handle) {\n    const output_area = handle.output_area;\n    const output = handle.output;\n\n    // limit handleAddOutput to display_data with EXEC_MIME_TYPE content only\n    if ((output.output_type != \"display_data\") || (!Object.prototype.hasOwnProperty.call(output.data, EXEC_MIME_TYPE))) {\n      return\n    }\n\n    const toinsert = output_area.element.find(\".\" + CLASS_NAME.split(' ')[0]);\n\n    if (output.metadata[EXEC_MIME_TYPE][\"id\"] !== undefined) {\n      toinsert[toinsert.length - 1].firstChild.textContent = output.data[JS_MIME_TYPE];\n      // store reference to embed id on output_area\n      output_area._bokeh_element_id = output.metadata[EXEC_MIME_TYPE][\"id\"];\n    }\n    if (output.metadata[EXEC_MIME_TYPE][\"server_id\"] !== undefined) {\n      const bk_div = document.createElement(\"div\");\n      bk_div.innerHTML = output.data[HTML_MIME_TYPE];\n      const script_attrs = bk_div.children[0].attributes;\n      for (let i = 0; i < script_attrs.length; i++) {\n        toinsert[toinsert.length - 1].firstChild.setAttribute(script_attrs[i].name, script_attrs[i].value);\n        toinsert[toinsert.length - 1].firstChild.textContent = bk_div.children[0].textContent\n      }\n      // store reference to server id on output_area\n      output_area._bokeh_server_id = output.metadata[EXEC_MIME_TYPE][\"server_id\"];\n    }\n  }\n\n  function register_renderer(events, OutputArea) {\n\n    function append_mime(data, metadata, element) {\n      // create a DOM node to render to\n      const toinsert = this.create_output_subarea(\n        metadata,\n        CLASS_NAME,\n        EXEC_MIME_TYPE\n      );\n      this.keyboard_manager.register_events(toinsert);\n      // Render to node\n      const props = {data: data, metadata: metadata[EXEC_MIME_TYPE]};\n      render(props, toinsert[toinsert.length - 1]);\n      element.append(toinsert);\n      return toinsert\n    }\n\n    /* Handle when an output is cleared or removed */\n    events.on('clear_output.CodeCell', handleClearOutput);\n    events.on('delete.Cell', handleClearOutput);\n\n    /* Handle when a new output is added */\n    events.on('output_added.OutputArea', handleAddOutput);\n\n    /**\n     * Register the mime type and append_mime function with output_area\n     */\n    OutputArea.prototype.register_mime_type(EXEC_MIME_TYPE, append_mime, {\n      /* Is output safe? */\n      safe: true,\n      /* Index of renderer in `output_area.display_order` */\n      index: 0\n    });\n  }\n\n  // register the mime type if in Jupyter Notebook environment and previously unregistered\n  if (root.Jupyter !== undefined) {\n    const events = require('base/js/events');\n    const OutputArea = require('notebook/js/outputarea').OutputArea;\n\n    if (OutputArea.prototype.mime_types().indexOf(EXEC_MIME_TYPE) == -1) {\n      register_renderer(events, OutputArea);\n    }\n  }\n  if (typeof (root._bokeh_timeout) === \"undefined\" || force === true) {\n    root._bokeh_timeout = Date.now() + 5000;\n    root._bokeh_failed_load = false;\n  }\n\n  const NB_LOAD_WARNING = {'data': {'text/html':\n     \"<div style='background-color: #fdd'>\\n\"+\n     \"<p>\\n\"+\n     \"BokehJS does not appear to have successfully loaded. If loading BokehJS from CDN, this \\n\"+\n     \"may be due to a slow or bad network connection. Possible fixes:\\n\"+\n     \"</p>\\n\"+\n     \"<ul>\\n\"+\n     \"<li>re-rerun `output_notebook()` to attempt to load from CDN again, or</li>\\n\"+\n     \"<li>use INLINE resources instead, as so:</li>\\n\"+\n     \"</ul>\\n\"+\n     \"<code>\\n\"+\n     \"from bokeh.resources import INLINE\\n\"+\n     \"output_notebook(resources=INLINE)\\n\"+\n     \"</code>\\n\"+\n     \"</div>\"}};\n\n  function display_loaded() {\n    const el = document.getElementById(\"aecbc902-1c7a-4bad-ac78-ac8c64dd5122\");\n    if (el != null) {\n      el.textContent = \"BokehJS is loading...\";\n    }\n    if (root.Bokeh !== undefined) {\n      if (el != null) {\n        el.textContent = \"BokehJS \" + root.Bokeh.version + \" successfully loaded.\";\n      }\n    } else if (Date.now() < root._bokeh_timeout) {\n      setTimeout(display_loaded, 100)\n    }\n  }\n\n  function run_callbacks() {\n    try {\n      root._bokeh_onload_callbacks.forEach(function(callback) {\n        if (callback != null)\n          callback();\n      });\n    } finally {\n      delete root._bokeh_onload_callbacks\n    }\n    console.debug(\"Bokeh: all callbacks have finished\");\n  }\n\n  function load_libs(css_urls, js_urls, callback) {\n    if (css_urls == null) css_urls = [];\n    if (js_urls == null) js_urls = [];\n\n    root._bokeh_onload_callbacks.push(callback);\n    if (root._bokeh_is_loading > 0) {\n      console.debug(\"Bokeh: BokehJS is being loaded, scheduling callback at\", now());\n      return null;\n    }\n    if (js_urls == null || js_urls.length === 0) {\n      run_callbacks();\n      return null;\n    }\n    console.debug(\"Bokeh: BokehJS not loaded, scheduling load and callback at\", now());\n    root._bokeh_is_loading = css_urls.length + js_urls.length;\n\n    function on_load() {\n      root._bokeh_is_loading--;\n      if (root._bokeh_is_loading === 0) {\n        console.debug(\"Bokeh: all BokehJS libraries/stylesheets loaded\");\n        run_callbacks()\n      }\n    }\n\n    function on_error(url) {\n      console.error(\"failed to load \" + url);\n    }\n\n    for (let i = 0; i < css_urls.length; i++) {\n      const url = css_urls[i];\n      const element = document.createElement(\"link\");\n      element.onload = on_load;\n      element.onerror = on_error.bind(null, url);\n      element.rel = \"stylesheet\";\n      element.type = \"text/css\";\n      element.href = url;\n      console.debug(\"Bokeh: injecting link tag for BokehJS stylesheet: \", url);\n      document.body.appendChild(element);\n    }\n\n    for (let i = 0; i < js_urls.length; i++) {\n      const url = js_urls[i];\n      const element = document.createElement('script');\n      element.onload = on_load;\n      element.onerror = on_error.bind(null, url);\n      element.async = false;\n      element.src = url;\n      console.debug(\"Bokeh: injecting script tag for BokehJS library: \", url);\n      document.head.appendChild(element);\n    }\n  };\n\n  function inject_raw_css(css) {\n    const element = document.createElement(\"style\");\n    element.appendChild(document.createTextNode(css));\n    document.body.appendChild(element);\n  }\n\n  const js_urls = [\"https://cdn.bokeh.org/bokeh/release/bokeh-3.1.1.min.js\", \"https://cdn.bokeh.org/bokeh/release/bokeh-gl-3.1.1.min.js\", \"https://cdn.bokeh.org/bokeh/release/bokeh-widgets-3.1.1.min.js\", \"https://cdn.bokeh.org/bokeh/release/bokeh-tables-3.1.1.min.js\", \"https://cdn.bokeh.org/bokeh/release/bokeh-mathjax-3.1.1.min.js\"];\n  const css_urls = [];\n\n  const inline_js = [    function(Bokeh) {\n      Bokeh.set_log_level(\"info\");\n    },\nfunction(Bokeh) {\n    }\n  ];\n\n  function run_inline_js() {\n    if (root.Bokeh !== undefined || force === true) {\n          for (let i = 0; i < inline_js.length; i++) {\n      inline_js[i].call(root, root.Bokeh);\n    }\nif (force === true) {\n        display_loaded();\n      }} else if (Date.now() < root._bokeh_timeout) {\n      setTimeout(run_inline_js, 100);\n    } else if (!root._bokeh_failed_load) {\n      console.log(\"Bokeh: BokehJS failed to load within specified timeout.\");\n      root._bokeh_failed_load = true;\n    } else if (force !== true) {\n      const cell = $(document.getElementById(\"aecbc902-1c7a-4bad-ac78-ac8c64dd5122\")).parents('.cell').data().cell;\n      cell.output_area.append_execute_result(NB_LOAD_WARNING)\n    }\n  }\n\n  if (root._bokeh_is_loading === 0) {\n    console.debug(\"Bokeh: BokehJS loaded, going straight to plotting\");\n    run_inline_js();\n  } else {\n    load_libs(css_urls, js_urls, function() {\n      console.debug(\"Bokeh: BokehJS plotting callback run at\", now());\n      run_inline_js();\n    });\n  }\n}(window));",
      "application/vnd.bokehjs_load.v0+json": ""
     },
     "metadata": {},
     "output_type": "display_data"
    }
   ],
   "source": [
    "output_notebook()"
   ]
  },
  {
   "cell_type": "code",
   "execution_count": 23,
   "metadata": {},
   "outputs": [
    {
     "name": "stderr",
     "output_type": "stream",
     "text": [
      "WARNING:bokeh.core.validation.check:W-1000 (MISSING_RENDERERS): Plot has no renderers: figure(id='p6784', ...)\n"
     ]
    },
    {
     "data": {
      "text/html": [
       "\n",
       "  <div id=\"dc72c073-cddb-4573-90ed-0c81bea2616d\" data-root-id=\"p6944\" style=\"display: contents;\"></div>\n"
      ]
     },
     "metadata": {},
     "output_type": "display_data"
    },
    {
     "data": {
      "application/javascript": "(function(root) {\n  function embed_document(root) {\n  const docs_json = {\"d604e6c9-4951-49f5-9220-9e2ac844de10\":{\"version\":\"3.1.1\",\"title\":\"Bokeh Application\",\"defs\":[],\"roots\":[{\"type\":\"object\",\"name\":\"GridPlot\",\"id\":\"p6944\",\"attributes\":{\"rows\":null,\"cols\":null,\"toolbar\":{\"type\":\"object\",\"name\":\"Toolbar\",\"id\":\"p6943\",\"attributes\":{\"tools\":[{\"type\":\"object\",\"name\":\"ToolProxy\",\"id\":\"p6940\",\"attributes\":{\"tools\":[{\"type\":\"object\",\"name\":\"HoverTool\",\"id\":\"p6815\",\"attributes\":{\"renderers\":\"auto\"}},{\"type\":\"object\",\"name\":\"HoverTool\",\"id\":\"p6776\",\"attributes\":{\"renderers\":\"auto\"}}]}},{\"type\":\"object\",\"name\":\"ToolProxy\",\"id\":\"p6941\",\"attributes\":{\"tools\":[{\"type\":\"object\",\"name\":\"PanTool\",\"id\":\"p6816\"},{\"type\":\"object\",\"name\":\"PanTool\",\"id\":\"p6777\"}]}},{\"type\":\"object\",\"name\":\"ToolProxy\",\"id\":\"p6942\",\"attributes\":{\"tools\":[{\"type\":\"object\",\"name\":\"ResetTool\",\"id\":\"p6817\"},{\"type\":\"object\",\"name\":\"ResetTool\",\"id\":\"p6778\"}]}},{\"type\":\"object\",\"name\":\"RangeTool\",\"id\":\"p6860\",\"attributes\":{\"icon\":\"data:image/png;base64,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\",\"x_range\":{\"type\":\"object\",\"name\":\"Range1d\",\"id\":\"p6859\",\"attributes\":{\"js_property_callbacks\":{\"type\":\"map\",\"entries\":[[\"change:start\",[{\"type\":\"object\",\"name\":\"CustomJS\",\"id\":\"p6873\",\"attributes\":{\"args\":{\"type\":\"map\",\"entries\":[[\"metadata\",{\"type\":\"object\",\"name\":\"ColumnDataSource\",\"id\":\"p6856\",\"attributes\":{\"selected\":{\"type\":\"object\",\"name\":\"Selection\",\"id\":\"p6858\",\"attributes\":{\"indices\":[],\"line_indices\":[]}},\"selection_policy\":{\"type\":\"object\",\"name\":\"UnionRenderers\",\"id\":\"p6857\"},\"data\":{\"type\":\"map\",\"entries\":[[\"x\",[2]],[\"w\",[0.5]],[\"w_drag\",[2.5]],[\"w_factor\",[5]],[\"yt\",[2]],[\"yb\",[-1]],[\"ym\",[0.5]]]}}}]]},\"code\":\"\\n                //=========================================================\\n                cb_obj.end         = cb_obj.start+metadata.data['w_drag'][0];\\n                metadata.data['x'] = [(cb_obj.start + cb_obj.end)/2];\\n                metadata.change.emit()\\n                //=========================================================\"}}]],[\"change:end\",[{\"type\":\"object\",\"name\":\"CustomJS\",\"id\":\"p6874\",\"attributes\":{\"args\":{\"type\":\"map\",\"entries\":[[\"metadata\",{\"id\":\"p6856\"}]]},\"code\":\"\\n                //=========================================================\\n                cb_obj.end         = cb_obj.start+metadata.data['w_drag'][0];\\n                metadata.data['x'] = [(cb_obj.start + cb_obj.end)/2];\\n                metadata.change.emit()\\n                //=========================================================\"}}]]]},\"start\":0.75,\"end\":3.25}},\"overlay\":{\"type\":\"object\",\"name\":\"BoxAnnotation\",\"id\":\"p6861\",\"attributes\":{\"syncable\":false,\"level\":\"overlay\",\"visible\":false,\"propagate_hover\":true,\"editable\":true,\"line_color\":null,\"line_alpha\":1.0,\"line_width\":0.5,\"line_dash\":[2,2],\"fill_color\":null,\"fill_alpha\":0}}}}]}},\"toolbar_location\":\"right\",\"children\":[[{\"type\":\"object\",\"name\":\"Figure\",\"id\":\"p6784\",\"attributes\":{\"x_range\":{\"type\":\"object\",\"name\":\"Range1d\",\"id\":\"p6783\",\"attributes\":{\"bounds\":\"auto\"}},\"y_range\":{\"type\":\"object\",\"name\":\"Range1d\",\"id\":\"p6795\",\"attributes\":{\"end\":10}},\"x_scale\":{\"type\":\"object\",\"name\":\"LinearScale\",\"id\":\"p6797\"},\"y_scale\":{\"type\":\"object\",\"name\":\"LinearScale\",\"id\":\"p6799\"},\"title\":{\"type\":\"object\",\"name\":\"Title\",\"id\":\"p6787\",\"attributes\":{\"text\":\"Point Draw Tool\"}},\"toolbar\":{\"type\":\"object\",\"name\":\"Toolbar\",\"id\":\"p6789\",\"attributes\":{\"tools\":[{\"id\":\"p6815\"},{\"id\":\"p6816\"},{\"id\":\"p6817\"}]}},\"toolbar_location\":null,\"left\":[{\"type\":\"object\",\"name\":\"LinearAxis\",\"id\":\"p6808\",\"attributes\":{\"ticker\":{\"type\":\"object\",\"name\":\"BasicTicker\",\"id\":\"p6811\",\"attributes\":{\"mantissas\":[1,2,5]}},\"formatter\":{\"type\":\"object\",\"name\":\"BasicTickFormatter\",\"id\":\"p6810\"},\"major_label_policy\":{\"type\":\"object\",\"name\":\"AllLabels\",\"id\":\"p6809\"}}}],\"below\":[{\"type\":\"object\",\"name\":\"LinearAxis\",\"id\":\"p6801\",\"attributes\":{\"ticker\":{\"type\":\"object\",\"name\":\"BasicTicker\",\"id\":\"p6804\",\"attributes\":{\"mantissas\":[1,2,5]}},\"formatter\":{\"type\":\"object\",\"name\":\"BasicTickFormatter\",\"id\":\"p6803\"},\"major_label_policy\":{\"type\":\"object\",\"name\":\"AllLabels\",\"id\":\"p6802\"}}}],\"center\":[{\"type\":\"object\",\"name\":\"Grid\",\"id\":\"p6807\",\"attributes\":{\"axis\":{\"id\":\"p6801\"}}},{\"type\":\"object\",\"name\":\"Grid\",\"id\":\"p6814\",\"attributes\":{\"dimension\":1,\"axis\":{\"id\":\"p6808\"}}}]}},0,0],[{\"type\":\"object\",\"name\":\"Tabs\",\"id\":\"p6911\",\"attributes\":{\"tabs\":[{\"type\":\"object\",\"name\":\"TabPanel\",\"id\":\"p6909\",\"attributes\":{\"title\":\"Beam 1\",\"child\":{\"type\":\"object\",\"name\":\"Figure\",\"id\":\"p6745\",\"attributes\":{\"x_range\":{\"type\":\"object\",\"name\":\"Range1d\",\"id\":\"p6744\",\"attributes\":{\"end\":10,\"bounds\":\"auto\"}},\"y_range\":{\"type\":\"object\",\"name\":\"Range1d\",\"id\":\"p6756\",\"attributes\":{\"end\":10}},\"x_scale\":{\"type\":\"object\",\"name\":\"LinearScale\",\"id\":\"p6758\"},\"y_scale\":{\"type\":\"object\",\"name\":\"LinearScale\",\"id\":\"p6760\"},\"extra_y_ranges\":{\"type\":\"map\",\"entries\":[[\"_slider\",{\"type\":\"object\",\"name\":\"Range1d\",\"id\":\"p6855\"}]]},\"title\":{\"type\":\"object\",\"name\":\"Title\",\"id\":\"p6748\",\"attributes\":{\"text\":\"Point Draw Tool\"}},\"renderers\":[{\"type\":\"object\",\"name\":\"GlyphRenderer\",\"id\":\"p6831\",\"attributes\":{\"data_source\":{\"type\":\"object\",\"name\":\"ColumnDataSource\",\"id\":\"p6822\",\"attributes\":{\"selected\":{\"type\":\"object\",\"name\":\"Selection\",\"id\":\"p6824\",\"attributes\":{\"indices\":[],\"line_indices\":[]}},\"selection_policy\":{\"type\":\"object\",\"name\":\"UnionRenderers\",\"id\":\"p6823\"},\"data\":{\"type\":\"map\",\"entries\":[[\"x\",[5]],[\"y\",[5]],[\"w\",[0.5]],[\"h\",[20]]]}}},\"view\":{\"type\":\"object\",\"name\":\"CDSView\",\"id\":\"p6832\",\"attributes\":{\"filter\":{\"type\":\"object\",\"name\":\"AllIndices\",\"id\":\"p6833\"}}},\"glyph\":{\"type\":\"object\",\"name\":\"Rect\",\"id\":\"p6828\",\"attributes\":{\"x\":{\"type\":\"field\",\"field\":\"x\"},\"y\":{\"type\":\"field\",\"field\":\"y\"},\"width\":{\"type\":\"field\",\"field\":\"w\"},\"height\":{\"type\":\"field\",\"field\":\"h\"},\"line_dash\":{\"type\":\"value\",\"value\":\"solid\"},\"fill_color\":{\"type\":\"value\",\"value\":\"black\"},\"fill_alpha\":{\"type\":\"value\",\"value\":0.2}}},\"nonselection_glyph\":{\"type\":\"object\",\"name\":\"Rect\",\"id\":\"p6829\",\"attributes\":{\"x\":{\"type\":\"field\",\"field\":\"x\"},\"y\":{\"type\":\"field\",\"field\":\"y\"},\"width\":{\"type\":\"field\",\"field\":\"w\"},\"height\":{\"type\":\"field\",\"field\":\"h\"},\"line_alpha\":{\"type\":\"value\",\"value\":0.1},\"line_dash\":{\"type\":\"value\",\"value\":\"solid\"},\"fill_color\":{\"type\":\"value\",\"value\":\"black\"},\"fill_alpha\":{\"type\":\"value\",\"value\":0.1},\"hatch_alpha\":{\"type\":\"value\",\"value\":0.1}}},\"muted_glyph\":{\"type\":\"object\",\"name\":\"Rect\",\"id\":\"p6830\",\"attributes\":{\"x\":{\"type\":\"field\",\"field\":\"x\"},\"y\":{\"type\":\"field\",\"field\":\"y\"},\"width\":{\"type\":\"field\",\"field\":\"w\"},\"height\":{\"type\":\"field\",\"field\":\"h\"},\"line_alpha\":{\"type\":\"value\",\"value\":0.2},\"line_dash\":{\"type\":\"value\",\"value\":\"solid\"},\"fill_color\":{\"type\":\"value\",\"value\":\"black\"},\"fill_alpha\":{\"type\":\"value\",\"value\":0.2},\"hatch_alpha\":{\"type\":\"value\",\"value\":0.2}}}}},{\"type\":\"object\",\"name\":\"GlyphRenderer\",\"id\":\"p6870\",\"attributes\":{\"y_range_name\":\"_slider\",\"data_source\":{\"id\":\"p6856\"},\"view\":{\"type\":\"object\",\"name\":\"CDSView\",\"id\":\"p6871\",\"attributes\":{\"filter\":{\"type\":\"object\",\"name\":\"AllIndices\",\"id\":\"p6872\"}}},\"glyph\":{\"type\":\"object\",\"name\":\"Rect\",\"id\":\"p6867\",\"attributes\":{\"x\":{\"type\":\"field\",\"field\":\"x\"},\"y\":{\"type\":\"field\",\"field\":\"ym\"},\"width\":{\"type\":\"field\",\"field\":\"w\"},\"height\":{\"type\":\"field\",\"field\":\"yt\"},\"line_color\":{\"type\":\"value\",\"value\":\"black\"},\"line_width\":{\"type\":\"value\",\"value\":3},\"fill_color\":{\"type\":\"value\",\"value\":\"black\"},\"fill_alpha\":{\"type\":\"value\",\"value\":0.2}}},\"nonselection_glyph\":{\"type\":\"object\",\"name\":\"Rect\",\"id\":\"p6868\",\"attributes\":{\"x\":{\"type\":\"field\",\"field\":\"x\"},\"y\":{\"type\":\"field\",\"field\":\"ym\"},\"width\":{\"type\":\"field\",\"field\":\"w\"},\"height\":{\"type\":\"field\",\"field\":\"yt\"},\"line_color\":{\"type\":\"value\",\"value\":\"#1f77b4\"},\"line_alpha\":{\"type\":\"value\",\"value\":0.1},\"fill_color\":{\"type\":\"value\",\"value\":\"#1f77b4\"},\"fill_alpha\":{\"type\":\"value\",\"value\":0.1},\"hatch_alpha\":{\"type\":\"value\",\"value\":0.1}}},\"muted_glyph\":{\"type\":\"object\",\"name\":\"Rect\",\"id\":\"p6869\",\"attributes\":{\"x\":{\"type\":\"field\",\"field\":\"x\"},\"y\":{\"type\":\"field\",\"field\":\"ym\"},\"width\":{\"type\":\"field\",\"field\":\"w\"},\"height\":{\"type\":\"field\",\"field\":\"yt\"},\"line_color\":{\"type\":\"value\",\"value\":\"black\"},\"line_alpha\":{\"type\":\"value\",\"value\":1},\"line_width\":{\"type\":\"value\",\"value\":3},\"fill_color\":{\"type\":\"value\",\"value\":\"black\"},\"fill_alpha\":{\"type\":\"value\",\"value\":0.2},\"hatch_alpha\":{\"type\":\"value\",\"value\":0.2}}}}}],\"toolbar\":{\"type\":\"object\",\"name\":\"Toolbar\",\"id\":\"p6750\",\"attributes\":{\"tools\":[{\"id\":\"p6776\"},{\"id\":\"p6777\"},{\"id\":\"p6778\"},{\"id\":\"p6860\"}]}},\"toolbar_location\":null,\"left\":[{\"type\":\"object\",\"name\":\"LinearAxis\",\"id\":\"p6769\",\"attributes\":{\"ticker\":{\"type\":\"object\",\"name\":\"BasicTicker\",\"id\":\"p6772\",\"attributes\":{\"mantissas\":[1,2,5]}},\"formatter\":{\"type\":\"object\",\"name\":\"BasicTickFormatter\",\"id\":\"p6771\"},\"major_label_policy\":{\"type\":\"object\",\"name\":\"AllLabels\",\"id\":\"p6770\"}}}],\"below\":[{\"type\":\"object\",\"name\":\"LinearAxis\",\"id\":\"p6762\",\"attributes\":{\"ticker\":{\"type\":\"object\",\"name\":\"BasicTicker\",\"id\":\"p6765\",\"attributes\":{\"mantissas\":[1,2,5]}},\"formatter\":{\"type\":\"object\",\"name\":\"BasicTickFormatter\",\"id\":\"p6764\"},\"major_label_policy\":{\"type\":\"object\",\"name\":\"AllLabels\",\"id\":\"p6763\"}}}],\"center\":[{\"type\":\"object\",\"name\":\"Grid\",\"id\":\"p6768\",\"attributes\":{\"axis\":{\"id\":\"p6762\"}}},{\"type\":\"object\",\"name\":\"Grid\",\"id\":\"p6775\",\"attributes\":{\"dimension\":1,\"axis\":{\"id\":\"p6769\"}}}],\"background_fill_color\":\"lightgrey\"}}}},{\"type\":\"object\",\"name\":\"TabPanel\",\"id\":\"p6910\",\"attributes\":{\"title\":\"Beam 2\",\"child\":{\"id\":\"p6745\"}}}]}},1,0]]}}],\"callbacks\":{\"type\":\"map\"}}};\n  const render_items = [{\"docid\":\"d604e6c9-4951-49f5-9220-9e2ac844de10\",\"roots\":{\"p6944\":\"dc72c073-cddb-4573-90ed-0c81bea2616d\"},\"root_ids\":[\"p6944\"]}];\n  root.Bokeh.embed.embed_items_notebook(docs_json, render_items);\n  }\n  if (root.Bokeh !== undefined) {\n    embed_document(root);\n  } else {\n    let attempts = 0;\n    const timer = setInterval(function(root) {\n      if (root.Bokeh !== undefined) {\n        clearInterval(timer);\n        embed_document(root);\n      } else {\n        attempts++;\n        if (attempts > 100) {\n          clearInterval(timer);\n          console.log(\"Bokeh: ERROR: Unable to run BokehJS code because BokehJS library is missing\");\n        }\n      }\n    }, 10, root)\n  }\n})(window);",
      "application/vnd.bokehjs_exec.v0+json": ""
     },
     "metadata": {
      "application/vnd.bokehjs_exec.v0+json": {
       "id": "p6944"
      }
     },
     "output_type": "display_data"
    }
   ],
   "source": [
    "from bokeh.plotting import figure, output_file, show, Column\n",
    "from bokeh.models import DataTable, TableColumn, PointDrawTool, ColumnDataSource\n",
    "from bokeh.models import ColumnDataSource, CustomJS\n",
    "# output_file(\"tools_point_draw.html\")\n",
    "\n",
    "p = figure(x_range=bkmod.Range1d(0,10,bounds='auto'), y_range=(0, 10), tools=['hover','pan','reset'],\n",
    "           title='Point Draw Tool')\n",
    "p2 = figure( y_range=(0, 10), tools=['hover','pan','reset'],x_range=bkmod.Range1d(bounds='auto'),\n",
    "           title='Point Draw Tool')\n",
    "p.background_fill_color = 'lightgrey'\n",
    "\n",
    "source = ColumnDataSource({\n",
    "    'x': [5], 'y': [5], 'w':[0.5],'h':[20]\n",
    "})\n",
    "\n",
    "\n",
    "\n",
    "\n",
    "\n",
    "# renderer = p.scatter(x='x', y='y', source=source, color='color', size=10)\n",
    "from bokeh.models import ColumnDataSource, Grid, LinearAxis, Plot, Rect\n",
    "# renderer = p.vbar(x='x', top='ymax',bottom='ymin', color=\"navy\",width=0.1,line_width=1,line_color='black',line_dash=\"2 2\",line_alpha=1, alpha=0.2, source=source)\n",
    "# renderer = Rect(x=\"x\", y=\"y\", width=\"w\", height=\"h\")\n",
    "# glyph = Rect(x=\"x\", y=\"y\", width=\"w\", height=\"h\", angle=-0.7, fill_color=\"#cab2d6\")\n",
    "\n",
    "# renderer = p.dash(x='x', y='y', source=source, color='color',size=100,line_width=10,line_color='black',angle=np.pi/2,line_alpha=0.5,fill_color='red',line_dash=\"solid\")#,line_join='round')\n",
    "\n",
    "renderer = p.rect(x=\"x\", y=\"y\", width=\"w\", height=\"h\", source=source, color='black',fill_alpha=0.2,line_alpha=1,line_dash='solid')#size=100,line_width=10,line_color='black',angle=np.pi/2,line_alpha=0.5,fill_color='red',line_dash=\"solid\")#,line_join='round')\n",
    "# renderer = p.line(x='x', y='y', source=source,line_width=10)##,line_color='black',line_alpha=0.5,fill_color='red',line_dash=\"solid\")#,line_join='round')\n",
    "# p.add_glyph(source, renderer)\n",
    "columns = [TableColumn(field=\"x\", title=\"x\"),\n",
    "           TableColumn(field=\"y\", title=\"y\"),\n",
    "           TableColumn(field='color', title='color')]\n",
    "table = DataTable(source=source, columns=columns, editable=True, height=200)\n",
    "\n",
    "from pathlib import Path\n",
    "\n",
    "\n",
    "draw_tool = PointDrawTool(renderers=[renderer],icon=Path('WireDAQ/Icons/slider_icon.png'))\n",
    "\n",
    "\n",
    "time_slider = Slider2(p,x=2,w=0.5)\n",
    "time_slider.update(fill_color='black',fill_alpha=0.2,line_alpha=1,line_color='black',line_width=3)\n",
    "\n",
    "#fill_color='black',fill_alpha=0.2,line_alpha=1,line_color='black',line_width=3)\n",
    "# time_slider.renderer.glyph.update(fill_color='red',fill_alpha=8,line_alpha=1,line_dash='2 2')\n",
    "\n",
    "\n",
    "# import bokeh\n",
    "# # icon = bkmod.BuiltinIcon(\"settings\", size=\"1.2em\", color=\"white\")\n",
    "# draw_tool = PointDrawTool(renderers=[renderer],icon=['box_edit'])#bkmod.SVGIcon(\"settings\"))\n",
    "# draw_tool.icon = icon\n",
    "# p.add_tools(draw_tool)\n",
    "\n",
    "# source.js_on_change(\"data\", CustomJS(code=\"\"\"\n",
    "# cb_obj.data['y'] = [5];\n",
    "# cb_obj.change.emit();\n",
    "# \"\"\"))\n",
    "\n",
    "# source.js_on_change('data', CustomJS(code=\"\"\"\n",
    "# cb_obj.data['y'] = [5];\n",
    "# cb_obj.change.emit();\n",
    "# \"\"\"))\n",
    "# time_slider.callback_start.update(args=dict(metadata = time_slider.metadata), \n",
    "#                                                                             code=\"\"\"\n",
    "#                 //=========================================================\n",
    "#                 cb_obj.end         = cb_obj.start;\n",
    "#                 metadata.data['x'] = [(cb_obj.start + cb_obj.end)/2];\n",
    "#                 metadata.change.emit()\n",
    "#                 //=========================================================\"\"\")\n",
    "\n",
    "# time_slider.callback_end.update(args=dict(metadata = time_slider.metadata), \n",
    "#                                                                             code=\"\"\"\n",
    "#                 //=========================================================\n",
    "#                 cb_obj.end         = cb_obj.start;\n",
    "#                 metadata.data['x'] = [(cb_obj.start + cb_obj.end)/2];\n",
    "#                 metadata.change.emit()\n",
    "#                 //=========================================================\"\"\")\n",
    "# time_slider.range.remove_on_change('start',time_slider.callback_start)\n",
    "# time_slider.range.remove_on_change('end',time_slider.callback_end)\n",
    "\n",
    "# p.toolbar.active_tap = draw_tool\n",
    "import bokeh.layouts as bklay\n",
    "# output_notebook()\n",
    "test = bklay.gridplot([[p], [table]],toolbar_location='right')\n",
    "\n",
    "test_tab = bkmod.Tabs(tabs=[  bkmod.TabPanel(child=p, title=\"Beam 1\"), \n",
    "                                                        bkmod.TabPanel(child=p, title=\"Beam 2\")])\n",
    "\n",
    "test_total = bklay.gridplot([[p2], [test_tab]],toolbar_location='right')\n",
    "\n",
    "show(test_total)"
   ]
  },
  {
   "cell_type": "code",
   "execution_count": 26,
   "metadata": {},
   "outputs": [
    {
     "data": {
      "text/html": [
       "\n",
       "  <div id=\"a90374fc-36f5-41cc-9d7b-8eaaa5f426b9\" data-root-id=\"p8231\" style=\"display: contents;\"></div>\n"
      ]
     },
     "metadata": {},
     "output_type": "display_data"
    },
    {
     "data": {
      "application/javascript": "(function(root) {\n  function embed_document(root) {\n  const docs_json = {\"90885a37-de1b-4ace-9869-70f4538f1e3b\":{\"version\":\"3.1.1\",\"title\":\"Bokeh Application\",\"defs\":[],\"roots\":[{\"type\":\"object\",\"name\":\"Figure\",\"id\":\"p8231\",\"attributes\":{\"width\":500,\"height\":300,\"x_range\":{\"type\":\"object\",\"name\":\"DataRange1d\",\"id\":\"p8232\"},\"y_range\":{\"type\":\"object\",\"name\":\"DataRange1d\",\"id\":\"p8233\"},\"x_scale\":{\"type\":\"object\",\"name\":\"LinearScale\",\"id\":\"p8244\"},\"y_scale\":{\"type\":\"object\",\"name\":\"LinearScale\",\"id\":\"p8246\"},\"title\":{\"type\":\"object\",\"name\":\"Title\",\"id\":\"p8236\"},\"renderers\":[{\"type\":\"object\",\"name\":\"GlyphRenderer\",\"id\":\"p8307\",\"attributes\":{\"data_source\":{\"type\":\"object\",\"name\":\"ColumnDataSource\",\"id\":\"p8301\",\"attributes\":{\"selected\":{\"type\":\"object\",\"name\":\"Selection\",\"id\":\"p8303\",\"attributes\":{\"indices\":[],\"line_indices\":[]}},\"selection_policy\":{\"type\":\"object\",\"name\":\"UnionRenderers\",\"id\":\"p8302\"},\"data\":{\"type\":\"map\",\"entries\":[[\"xs\",[{\"type\":\"ndarray\",\"array\":{\"type\":\"bytes\",\"data\":\"AAAAAAEAAAACAAAAAwAAAAQAAAA=\"},\"shape\":[5],\"dtype\":\"int32\",\"order\":\"little\"},{\"type\":\"ndarray\",\"array\":{\"type\":\"bytes\",\"data\":\"AAAAAAEAAAACAAAAAwAAAAQAAAA=\"},\"shape\":[5],\"dtype\":\"int32\",\"order\":\"little\"},{\"type\":\"ndarray\",\"array\":{\"type\":\"bytes\",\"data\":\"AAAAAAEAAAACAAAAAwAAAAQAAAA=\"},\"shape\":[5],\"dtype\":\"int32\",\"order\":\"little\"}]],[\"ys\",[{\"type\":\"ndarray\",\"array\":{\"type\":\"bytes\",\"data\":\"XrBbibiI6j8s2XtUlVTZP9aXSq48cN0//SqLLeAO5j98uEMz01PRPw==\"},\"shape\":[5],\"dtype\":\"float64\",\"order\":\"little\"},{\"type\":\"ndarray\",\"array\":{\"type\":\"bytes\",\"data\":\"+4Pq0WmG5D8l5OCJrW/gP/0ZQkAP4uQ/sB+UWTENrj9ApH9KyX3cPw==\"},\"shape\":[5],\"dtype\":\"float64\",\"order\":\"little\"},{\"type\":\"ndarray\",\"array\":{\"type\":\"bytes\",\"data\":\"7Mn1OdNC1T9mejIUaRLfP9qVfp7ZNNI/1PrpydWK2D84beKeooXgPw==\"},\"shape\":[5],\"dtype\":\"float64\",\"order\":\"little\"}]],[\"line_color\",[\"#5e4fa2\",\"#3288bd\",\"#66c2a5\"]]]}}},\"view\":{\"type\":\"object\",\"name\":\"CDSView\",\"id\":\"p8308\",\"attributes\":{\"filter\":{\"type\":\"object\",\"name\":\"AllIndices\",\"id\":\"p8309\"}}},\"glyph\":{\"type\":\"object\",\"name\":\"MultiLine\",\"id\":\"p8304\",\"attributes\":{\"xs\":{\"type\":\"field\",\"field\":\"xs\"},\"ys\":{\"type\":\"field\",\"field\":\"ys\"},\"line_color\":{\"type\":\"field\",\"field\":\"line_color\"},\"line_width\":{\"type\":\"value\",\"value\":5}}},\"nonselection_glyph\":{\"type\":\"object\",\"name\":\"MultiLine\",\"id\":\"p8305\",\"attributes\":{\"xs\":{\"type\":\"field\",\"field\":\"xs\"},\"ys\":{\"type\":\"field\",\"field\":\"ys\"},\"line_color\":{\"type\":\"field\",\"field\":\"line_color\"},\"line_alpha\":{\"type\":\"value\",\"value\":0.1},\"line_width\":{\"type\":\"value\",\"value\":5}}},\"muted_glyph\":{\"type\":\"object\",\"name\":\"MultiLine\",\"id\":\"p8306\",\"attributes\":{\"xs\":{\"type\":\"field\",\"field\":\"xs\"},\"ys\":{\"type\":\"field\",\"field\":\"ys\"},\"line_color\":{\"type\":\"field\",\"field\":\"line_color\"},\"line_alpha\":{\"type\":\"value\",\"value\":0.2},\"line_width\":{\"type\":\"value\",\"value\":5}}}}}],\"toolbar\":{\"type\":\"object\",\"name\":\"Toolbar\",\"id\":\"p8234\",\"attributes\":{\"tools\":[{\"type\":\"object\",\"name\":\"HoverTool\",\"id\":\"p8298\",\"attributes\":{\"renderers\":\"auto\"}}]}},\"left\":[{\"type\":\"object\",\"name\":\"LinearAxis\",\"id\":\"p8291\",\"attributes\":{\"ticker\":{\"type\":\"object\",\"name\":\"BasicTicker\",\"id\":\"p8294\",\"attributes\":{\"mantissas\":[1,2,5]}},\"formatter\":{\"type\":\"object\",\"name\":\"BasicTickFormatter\",\"id\":\"p8293\"},\"major_label_policy\":{\"type\":\"object\",\"name\":\"AllLabels\",\"id\":\"p8292\"}}}],\"below\":[{\"type\":\"object\",\"name\":\"DatetimeAxis\",\"id\":\"p8248\",\"attributes\":{\"ticker\":{\"type\":\"object\",\"name\":\"DatetimeTicker\",\"id\":\"p8251\",\"attributes\":{\"num_minor_ticks\":5,\"tickers\":[{\"type\":\"object\",\"name\":\"AdaptiveTicker\",\"id\":\"p8252\",\"attributes\":{\"num_minor_ticks\":0,\"mantissas\":[1,2,5],\"max_interval\":500.0}},{\"type\":\"object\",\"name\":\"AdaptiveTicker\",\"id\":\"p8253\",\"attributes\":{\"num_minor_ticks\":0,\"base\":60,\"mantissas\":[1,2,5,10,15,20,30],\"min_interval\":1000.0,\"max_interval\":1800000.0}},{\"type\":\"object\",\"name\":\"AdaptiveTicker\",\"id\":\"p8254\",\"attributes\":{\"num_minor_ticks\":0,\"base\":24,\"mantissas\":[1,2,4,6,8,12],\"min_interval\":3600000.0,\"max_interval\":43200000.0}},{\"type\":\"object\",\"name\":\"DaysTicker\",\"id\":\"p8255\",\"attributes\":{\"days\":[1,2,3,4,5,6,7,8,9,10,11,12,13,14,15,16,17,18,19,20,21,22,23,24,25,26,27,28,29,30,31]}},{\"type\":\"object\",\"name\":\"DaysTicker\",\"id\":\"p8256\",\"attributes\":{\"days\":[1,4,7,10,13,16,19,22,25,28]}},{\"type\":\"object\",\"name\":\"DaysTicker\",\"id\":\"p8257\",\"attributes\":{\"days\":[1,8,15,22]}},{\"type\":\"object\",\"name\":\"DaysTicker\",\"id\":\"p8258\",\"attributes\":{\"days\":[1,15]}},{\"type\":\"object\",\"name\":\"MonthsTicker\",\"id\":\"p8259\",\"attributes\":{\"months\":[0,1,2,3,4,5,6,7,8,9,10,11]}},{\"type\":\"object\",\"name\":\"MonthsTicker\",\"id\":\"p8260\",\"attributes\":{\"months\":[0,2,4,6,8,10]}},{\"type\":\"object\",\"name\":\"MonthsTicker\",\"id\":\"p8261\",\"attributes\":{\"months\":[0,4,8]}},{\"type\":\"object\",\"name\":\"MonthsTicker\",\"id\":\"p8262\",\"attributes\":{\"months\":[0,6]}},{\"type\":\"object\",\"name\":\"YearsTicker\",\"id\":\"p8263\"}]}},\"formatter\":{\"type\":\"object\",\"name\":\"DatetimeTickFormatter\",\"id\":\"p8250\"},\"major_label_policy\":{\"type\":\"object\",\"name\":\"AllLabels\",\"id\":\"p8249\"}}}],\"center\":[{\"type\":\"object\",\"name\":\"Grid\",\"id\":\"p8290\",\"attributes\":{\"axis\":{\"id\":\"p8248\"}}},{\"type\":\"object\",\"name\":\"Grid\",\"id\":\"p8297\",\"attributes\":{\"dimension\":1,\"axis\":{\"id\":\"p8291\"}}}]}}],\"callbacks\":{\"type\":\"map\"}}};\n  const render_items = [{\"docid\":\"90885a37-de1b-4ace-9869-70f4538f1e3b\",\"roots\":{\"p8231\":\"a90374fc-36f5-41cc-9d7b-8eaaa5f426b9\"},\"root_ids\":[\"p8231\"]}];\n  root.Bokeh.embed.embed_items_notebook(docs_json, render_items);\n  }\n  if (root.Bokeh !== undefined) {\n    embed_document(root);\n  } else {\n    let attempts = 0;\n    const timer = setInterval(function(root) {\n      if (root.Bokeh !== undefined) {\n        clearInterval(timer);\n        embed_document(root);\n      } else {\n        attempts++;\n        if (attempts > 100) {\n          clearInterval(timer);\n          console.log(\"Bokeh: ERROR: Unable to run BokehJS code because BokehJS library is missing\");\n        }\n      }\n    }, 10, root)\n  }\n})(window);",
      "application/vnd.bokehjs_exec.v0+json": ""
     },
     "metadata": {
      "application/vnd.bokehjs_exec.v0+json": {
       "id": "p8231"
      }
     },
     "output_type": "display_data"
    }
   ],
   "source": [
    "import pandas as pd\n",
    "import numpy as np\n",
    "from bokeh.palettes import Spectral11\n",
    "from bokeh.plotting import figure, show, output_file\n",
    "output_file('temp.html')\n",
    "\n",
    "toy_df = pd.DataFrame(data=np.random.rand(5,3), columns = ('a', 'b' ,'c'))#, index = pd.DatetimeIndex(start='01-01-2015',periods=5, freq='d'))   \n",
    "\n",
    "numlines=len(toy_df.columns)\n",
    "mypalette=Spectral11[0:numlines]\n",
    "\n",
    "p = figure(width=500, height=300, x_axis_type=\"datetime\",tools='hover') \n",
    "p.multi_line(xs=[toy_df.index.values]*numlines,\n",
    "                ys=[toy_df[name].values for name in toy_df],\n",
    "                line_color=mypalette,\n",
    "                line_width=5)\n",
    "show(p)"
   ]
  },
  {
   "cell_type": "code",
   "execution_count": 27,
   "metadata": {},
   "outputs": [
    {
     "data": {
      "text/html": [
       "<div>\n",
       "<style scoped>\n",
       "    .dataframe tbody tr th:only-of-type {\n",
       "        vertical-align: middle;\n",
       "    }\n",
       "\n",
       "    .dataframe tbody tr th {\n",
       "        vertical-align: top;\n",
       "    }\n",
       "\n",
       "    .dataframe thead th {\n",
       "        text-align: right;\n",
       "    }\n",
       "</style>\n",
       "<table border=\"1\" class=\"dataframe\">\n",
       "  <thead>\n",
       "    <tr style=\"text-align: right;\">\n",
       "      <th></th>\n",
       "      <th>a</th>\n",
       "      <th>b</th>\n",
       "      <th>c</th>\n",
       "    </tr>\n",
       "  </thead>\n",
       "  <tbody>\n",
       "    <tr>\n",
       "      <th>0</th>\n",
       "      <td>0.829190</td>\n",
       "      <td>0.641408</td>\n",
       "      <td>0.332204</td>\n",
       "    </tr>\n",
       "    <tr>\n",
       "      <th>1</th>\n",
       "      <td>0.395788</td>\n",
       "      <td>0.513633</td>\n",
       "      <td>0.485499</td>\n",
       "    </tr>\n",
       "    <tr>\n",
       "      <th>2</th>\n",
       "      <td>0.459975</td>\n",
       "      <td>0.652595</td>\n",
       "      <td>0.284476</td>\n",
       "    </tr>\n",
       "    <tr>\n",
       "      <th>3</th>\n",
       "      <td>0.689316</td>\n",
       "      <td>0.058694</td>\n",
       "      <td>0.383474</td>\n",
       "    </tr>\n",
       "    <tr>\n",
       "      <th>4</th>\n",
       "      <td>0.270741</td>\n",
       "      <td>0.445177</td>\n",
       "      <td>0.516313</td>\n",
       "    </tr>\n",
       "  </tbody>\n",
       "</table>\n",
       "</div>"
      ],
      "text/plain": [
       "          a         b         c\n",
       "0  0.829190  0.641408  0.332204\n",
       "1  0.395788  0.513633  0.485499\n",
       "2  0.459975  0.652595  0.284476\n",
       "3  0.689316  0.058694  0.383474\n",
       "4  0.270741  0.445177  0.516313"
      ]
     },
     "execution_count": 27,
     "metadata": {},
     "output_type": "execute_result"
    }
   ],
   "source": [
    "toy_df"
   ]
  },
  {
   "cell_type": "code",
   "execution_count": 81,
   "metadata": {},
   "outputs": [
    {
     "data": {
      "text/plain": [
       "\"\\n                //=========================================================\\n                cb_obj.end         = cb_obj.start+metadata.data['w_drag'][0];\\n                metadata.data['x'] = [(cb_obj.start + cb_obj.end)/2];\\n                metadata.change.emit()\\n                //=========================================================\""
      ]
     },
     "execution_count": 81,
     "metadata": {},
     "output_type": "execute_result"
    }
   ],
   "source": [
    "time_slider.callback_start.code"
   ]
  },
  {
   "cell_type": "code",
   "execution_count": 80,
   "metadata": {},
   "outputs": [
    {
     "data": {
      "text/html": [
       "<div style=\"display: table;\"><div style=\"display: table-row;\"><div style=\"display: table-cell;\"><b title=\"bokeh.models.callbacks.CustomJS\">CustomJS</b>(</div><div style=\"display: table-cell;\">id&nbsp;=&nbsp;'p17907', <span id=\"p17911\" style=\"cursor: pointer;\">&hellip;)</span></div></div><div class=\"p17910\" style=\"display: none;\"><div style=\"display: table-cell;\"></div><div style=\"display: table-cell;\">args&nbsp;=&nbsp;{'metadata': ColumnDataSource(id='p17890', ...)},</div></div><div class=\"p17910\" style=\"display: none;\"><div style=\"display: table-cell;\"></div><div style=\"display: table-cell;\">code&nbsp;=&nbsp;\"\\n                //=========================================================\\n                cb_obj.end         = cb_obj.start+metadata.data['w_drag'][0];\\n                metadata.data['x'] = [(cb_obj.start + cb_obj.end)/2];\\n                metadata.change.emit()\\n                //=========================================================\",</div></div><div class=\"p17910\" style=\"display: none;\"><div style=\"display: table-cell;\"></div><div style=\"display: table-cell;\">js_event_callbacks&nbsp;=&nbsp;{},</div></div><div class=\"p17910\" style=\"display: none;\"><div style=\"display: table-cell;\"></div><div style=\"display: table-cell;\">js_property_callbacks&nbsp;=&nbsp;{},</div></div><div class=\"p17910\" style=\"display: none;\"><div style=\"display: table-cell;\"></div><div style=\"display: table-cell;\">name&nbsp;=&nbsp;None,</div></div><div class=\"p17910\" style=\"display: none;\"><div style=\"display: table-cell;\"></div><div style=\"display: table-cell;\">subscribed_events&nbsp;=&nbsp;PropertyValueSet(),</div></div><div class=\"p17910\" style=\"display: none;\"><div style=\"display: table-cell;\"></div><div style=\"display: table-cell;\">syncable&nbsp;=&nbsp;True,</div></div><div class=\"p17910\" style=\"display: none;\"><div style=\"display: table-cell;\"></div><div style=\"display: table-cell;\">tags&nbsp;=&nbsp;[])</div></div></div>\n",
       "<script>\n",
       "(function() {\n",
       "  let expanded = false;\n",
       "  const ellipsis = document.getElementById(\"p17911\");\n",
       "  ellipsis.addEventListener(\"click\", function() {\n",
       "    const rows = document.getElementsByClassName(\"p17910\");\n",
       "    for (let i = 0; i < rows.length; i++) {\n",
       "      const el = rows[i];\n",
       "      el.style.display = expanded ? \"none\" : \"table-row\";\n",
       "    }\n",
       "    ellipsis.innerHTML = expanded ? \"&hellip;)\" : \"&lsaquo;&lsaquo;&lsaquo;\";\n",
       "    expanded = !expanded;\n",
       "  });\n",
       "})();\n",
       "</script>\n"
      ],
      "text/plain": [
       "CustomJS(id='p17907', ...)"
      ]
     },
     "execution_count": 80,
     "metadata": {},
     "output_type": "execute_result"
    }
   ],
   "source": [
    "time_slider.callback_end"
   ]
  },
  {
   "cell_type": "code",
   "execution_count": 177,
   "metadata": {},
   "outputs": [
    {
     "ename": "AttributeError",
     "evalue": "unexpected attribute 'duplicate' to figure, possible attributes are above, align, aspect_ratio, aspect_scale, background_fill_alpha, background_fill_color, below, border_fill_alpha, border_fill_color, center, context_menu, css_classes, disabled, extra_x_ranges, extra_x_scales, extra_y_ranges, extra_y_scales, flow_mode, frame_align, frame_height, frame_width, height, height_policy, hidpi, hold_render, inner_height, inner_width, js_event_callbacks, js_property_callbacks, left, lod_factor, lod_interval, lod_threshold, lod_timeout, margin, match_aspect, max_height, max_width, min_border, min_border_bottom, min_border_left, min_border_right, min_border_top, min_height, min_width, name, outer_height, outer_width, outline_line_alpha, outline_line_cap, outline_line_color, outline_line_dash, outline_line_dash_offset, outline_line_join, outline_line_width, output_backend, renderers, reset_policy, resizable, right, sizing_mode, styles, stylesheets, subscribed_events, syncable, tags, title, title_location, toolbar, toolbar_inner, toolbar_location, toolbar_sticky, visible, width, width_policy, x_range, x_scale, y_range or y_scale",
     "output_type": "error",
     "traceback": [
      "\u001b[0;31m---------------------------------------------------------------------------\u001b[0m",
      "\u001b[0;31mAttributeError\u001b[0m                            Traceback (most recent call last)",
      "Cell \u001b[0;32mIn[177], line 1\u001b[0m\n\u001b[0;32m----> 1\u001b[0m p\u001b[39m.\u001b[39;49mduplicate()\n",
      "File \u001b[0;32m~/abp/WireDAQ/Executables/py_wireDAQ/lib/python3.10/site-packages/bokeh/core/has_props.py:360\u001b[0m, in \u001b[0;36mHasProps.__getattr__\u001b[0;34m(self, name)\u001b[0m\n\u001b[1;32m    357\u001b[0m \u001b[39mif\u001b[39;00m \u001b[39misinstance\u001b[39m(descriptor, \u001b[39mproperty\u001b[39m): \u001b[39m# Python property\u001b[39;00m\n\u001b[1;32m    358\u001b[0m     \u001b[39mreturn\u001b[39;00m \u001b[39msuper\u001b[39m()\u001b[39m.\u001b[39m\u001b[39m__getattribute__\u001b[39m(name)\n\u001b[0;32m--> 360\u001b[0m \u001b[39mself\u001b[39;49m\u001b[39m.\u001b[39;49m_raise_attribute_error_with_matches(name, properties)\n",
      "File \u001b[0;32m~/abp/WireDAQ/Executables/py_wireDAQ/lib/python3.10/site-packages/bokeh/core/has_props.py:368\u001b[0m, in \u001b[0;36mHasProps._raise_attribute_error_with_matches\u001b[0;34m(self, name, properties)\u001b[0m\n\u001b[1;32m    365\u001b[0m \u001b[39mif\u001b[39;00m \u001b[39mnot\u001b[39;00m matches:\n\u001b[1;32m    366\u001b[0m     matches, text \u001b[39m=\u001b[39m \u001b[39msorted\u001b[39m(properties), \u001b[39m\"\u001b[39m\u001b[39mpossible\u001b[39m\u001b[39m\"\u001b[39m\n\u001b[0;32m--> 368\u001b[0m \u001b[39mraise\u001b[39;00m \u001b[39mAttributeError\u001b[39;00m(\u001b[39mf\u001b[39m\u001b[39m\"\u001b[39m\u001b[39munexpected attribute \u001b[39m\u001b[39m{\u001b[39;00mname\u001b[39m!r}\u001b[39;00m\u001b[39m to \u001b[39m\u001b[39m{\u001b[39;00m\u001b[39mself\u001b[39m\u001b[39m.\u001b[39m\u001b[39m__class__\u001b[39m\u001b[39m.\u001b[39m\u001b[39m__name__\u001b[39m\u001b[39m}\u001b[39;00m\u001b[39m, \u001b[39m\u001b[39m{\u001b[39;00mtext\u001b[39m}\u001b[39;00m\u001b[39m attributes are \u001b[39m\u001b[39m{\u001b[39;00mnice_join(matches)\u001b[39m}\u001b[39;00m\u001b[39m\"\u001b[39m)\n",
      "\u001b[0;31mAttributeError\u001b[0m: unexpected attribute 'duplicate' to figure, possible attributes are above, align, aspect_ratio, aspect_scale, background_fill_alpha, background_fill_color, below, border_fill_alpha, border_fill_color, center, context_menu, css_classes, disabled, extra_x_ranges, extra_x_scales, extra_y_ranges, extra_y_scales, flow_mode, frame_align, frame_height, frame_width, height, height_policy, hidpi, hold_render, inner_height, inner_width, js_event_callbacks, js_property_callbacks, left, lod_factor, lod_interval, lod_threshold, lod_timeout, margin, match_aspect, max_height, max_width, min_border, min_border_bottom, min_border_left, min_border_right, min_border_top, min_height, min_width, name, outer_height, outer_width, outline_line_alpha, outline_line_cap, outline_line_color, outline_line_dash, outline_line_dash_offset, outline_line_join, outline_line_width, output_backend, renderers, reset_policy, resizable, right, sizing_mode, styles, stylesheets, subscribed_events, syncable, tags, title, title_location, toolbar, toolbar_inner, toolbar_location, toolbar_sticky, visible, width, width_policy, x_range, x_scale, y_range or y_scale"
     ]
    }
   ],
   "source": [
    "p.duplicate("
   ]
  },
  {
   "cell_type": "code",
   "execution_count": 164,
   "metadata": {},
   "outputs": [
    {
     "ename": "AttributeError",
     "evalue": "unexpected attribute 'Rect' to figure, possible attributes are above, align, aspect_ratio, aspect_scale, background_fill_alpha, background_fill_color, below, border_fill_alpha, border_fill_color, center, context_menu, css_classes, disabled, extra_x_ranges, extra_x_scales, extra_y_ranges, extra_y_scales, flow_mode, frame_align, frame_height, frame_width, height, height_policy, hidpi, hold_render, inner_height, inner_width, js_event_callbacks, js_property_callbacks, left, lod_factor, lod_interval, lod_threshold, lod_timeout, margin, match_aspect, max_height, max_width, min_border, min_border_bottom, min_border_left, min_border_right, min_border_top, min_height, min_width, name, outer_height, outer_width, outline_line_alpha, outline_line_cap, outline_line_color, outline_line_dash, outline_line_dash_offset, outline_line_join, outline_line_width, output_backend, renderers, reset_policy, resizable, right, sizing_mode, styles, stylesheets, subscribed_events, syncable, tags, title, title_location, toolbar, toolbar_inner, toolbar_location, toolbar_sticky, visible, width, width_policy, x_range, x_scale, y_range or y_scale",
     "output_type": "error",
     "traceback": [
      "\u001b[0;31m---------------------------------------------------------------------------\u001b[0m",
      "\u001b[0;31mAttributeError\u001b[0m                            Traceback (most recent call last)",
      "Cell \u001b[0;32mIn[164], line 1\u001b[0m\n\u001b[0;32m----> 1\u001b[0m p\u001b[39m.\u001b[39;49mRect\n",
      "File \u001b[0;32m~/abp/WireDAQ/Executables/py_wireDAQ/lib/python3.10/site-packages/bokeh/core/has_props.py:360\u001b[0m, in \u001b[0;36mHasProps.__getattr__\u001b[0;34m(self, name)\u001b[0m\n\u001b[1;32m    357\u001b[0m \u001b[39mif\u001b[39;00m \u001b[39misinstance\u001b[39m(descriptor, \u001b[39mproperty\u001b[39m): \u001b[39m# Python property\u001b[39;00m\n\u001b[1;32m    358\u001b[0m     \u001b[39mreturn\u001b[39;00m \u001b[39msuper\u001b[39m()\u001b[39m.\u001b[39m\u001b[39m__getattribute__\u001b[39m(name)\n\u001b[0;32m--> 360\u001b[0m \u001b[39mself\u001b[39;49m\u001b[39m.\u001b[39;49m_raise_attribute_error_with_matches(name, properties)\n",
      "File \u001b[0;32m~/abp/WireDAQ/Executables/py_wireDAQ/lib/python3.10/site-packages/bokeh/core/has_props.py:368\u001b[0m, in \u001b[0;36mHasProps._raise_attribute_error_with_matches\u001b[0;34m(self, name, properties)\u001b[0m\n\u001b[1;32m    365\u001b[0m \u001b[39mif\u001b[39;00m \u001b[39mnot\u001b[39;00m matches:\n\u001b[1;32m    366\u001b[0m     matches, text \u001b[39m=\u001b[39m \u001b[39msorted\u001b[39m(properties), \u001b[39m\"\u001b[39m\u001b[39mpossible\u001b[39m\u001b[39m\"\u001b[39m\n\u001b[0;32m--> 368\u001b[0m \u001b[39mraise\u001b[39;00m \u001b[39mAttributeError\u001b[39;00m(\u001b[39mf\u001b[39m\u001b[39m\"\u001b[39m\u001b[39munexpected attribute \u001b[39m\u001b[39m{\u001b[39;00mname\u001b[39m!r}\u001b[39;00m\u001b[39m to \u001b[39m\u001b[39m{\u001b[39;00m\u001b[39mself\u001b[39m\u001b[39m.\u001b[39m\u001b[39m__class__\u001b[39m\u001b[39m.\u001b[39m\u001b[39m__name__\u001b[39m\u001b[39m}\u001b[39;00m\u001b[39m, \u001b[39m\u001b[39m{\u001b[39;00mtext\u001b[39m}\u001b[39;00m\u001b[39m attributes are \u001b[39m\u001b[39m{\u001b[39;00mnice_join(matches)\u001b[39m}\u001b[39;00m\u001b[39m\"\u001b[39m)\n",
      "\u001b[0;31mAttributeError\u001b[0m: unexpected attribute 'Rect' to figure, possible attributes are above, align, aspect_ratio, aspect_scale, background_fill_alpha, background_fill_color, below, border_fill_alpha, border_fill_color, center, context_menu, css_classes, disabled, extra_x_ranges, extra_x_scales, extra_y_ranges, extra_y_scales, flow_mode, frame_align, frame_height, frame_width, height, height_policy, hidpi, hold_render, inner_height, inner_width, js_event_callbacks, js_property_callbacks, left, lod_factor, lod_interval, lod_threshold, lod_timeout, margin, match_aspect, max_height, max_width, min_border, min_border_bottom, min_border_left, min_border_right, min_border_top, min_height, min_width, name, outer_height, outer_width, outline_line_alpha, outline_line_cap, outline_line_color, outline_line_dash, outline_line_dash_offset, outline_line_join, outline_line_width, output_backend, renderers, reset_policy, resizable, right, sizing_mode, styles, stylesheets, subscribed_events, syncable, tags, title, title_location, toolbar, toolbar_inner, toolbar_location, toolbar_sticky, visible, width, width_policy, x_range, x_scale, y_range or y_scale"
     ]
    }
   ],
   "source": [
    "p.Rect"
   ]
  },
  {
   "cell_type": "code",
   "execution_count": null,
   "metadata": {},
   "outputs": [],
   "source": []
  },
  {
   "cell_type": "code",
   "execution_count": 90,
   "metadata": {},
   "outputs": [],
   "source": [
    "import bokeh.models as bkmod"
   ]
  },
  {
   "cell_type": "code",
   "execution_count": 87,
   "metadata": {},
   "outputs": [
    {
     "data": {
      "text/plain": [
       "'/home/phbelang/abp/WireDAQ/Executables/py_wireDAQ/lib/python3.10/site-packages/bokeh/__init__.py'"
      ]
     },
     "execution_count": 87,
     "metadata": {},
     "output_type": "execute_result"
    }
   ],
   "source": [
    "bokeh.__file__"
   ]
  },
  {
   "cell_type": "code",
   "execution_count": 86,
   "metadata": {},
   "outputs": [
    {
     "ename": "AttributeError",
     "evalue": "module 'bokeh' has no attribute 'icons'",
     "output_type": "error",
     "traceback": [
      "\u001b[0;31m---------------------------------------------------------------------------\u001b[0m",
      "\u001b[0;31mAttributeError\u001b[0m                            Traceback (most recent call last)",
      "Cell \u001b[0;32mIn[86], line 1\u001b[0m\n\u001b[0;32m----> 1\u001b[0m bokeh\u001b[39m.\u001b[39;49micons\n",
      "\u001b[0;31mAttributeError\u001b[0m: module 'bokeh' has no attribute 'icons'"
     ]
    }
   ],
   "source": [
    "bokeh.icons"
   ]
  },
  {
   "cell_type": "code",
   "execution_count": 22,
   "metadata": {},
   "outputs": [
    {
     "ename": "AttributeError",
     "evalue": "unexpected attribute 'test' to BoxSelectTool, possible attributes are continuous, description, dimensions, icon, js_event_callbacks, js_property_callbacks, mode, name, origin, overlay, persistent, renderers, select_every_mousemove, subscribed_events, syncable or tags",
     "output_type": "error",
     "traceback": [
      "\u001b[0;31m---------------------------------------------------------------------------\u001b[0m",
      "\u001b[0;31mAttributeError\u001b[0m                            Traceback (most recent call last)",
      "Cell \u001b[0;32mIn[22], line 1\u001b[0m\n\u001b[0;32m----> 1\u001b[0m p\u001b[39m.\u001b[39;49mtags[\u001b[39m0\u001b[39;49m][\u001b[39m'\u001b[39;49m\u001b[39mBoxSelectTool\u001b[39;49m\u001b[39m'\u001b[39;49m]\u001b[39m.\u001b[39;49mtest\n",
      "File \u001b[0;32m~/abp/WireDAQ/Executables/py_wireDAQ/lib/python3.10/site-packages/bokeh/core/has_props.py:360\u001b[0m, in \u001b[0;36mHasProps.__getattr__\u001b[0;34m(self, name)\u001b[0m\n\u001b[1;32m    357\u001b[0m \u001b[39mif\u001b[39;00m \u001b[39misinstance\u001b[39m(descriptor, \u001b[39mproperty\u001b[39m): \u001b[39m# Python property\u001b[39;00m\n\u001b[1;32m    358\u001b[0m     \u001b[39mreturn\u001b[39;00m \u001b[39msuper\u001b[39m()\u001b[39m.\u001b[39m\u001b[39m__getattribute__\u001b[39m(name)\n\u001b[0;32m--> 360\u001b[0m \u001b[39mself\u001b[39;49m\u001b[39m.\u001b[39;49m_raise_attribute_error_with_matches(name, properties)\n",
      "File \u001b[0;32m~/abp/WireDAQ/Executables/py_wireDAQ/lib/python3.10/site-packages/bokeh/core/has_props.py:368\u001b[0m, in \u001b[0;36mHasProps._raise_attribute_error_with_matches\u001b[0;34m(self, name, properties)\u001b[0m\n\u001b[1;32m    365\u001b[0m \u001b[39mif\u001b[39;00m \u001b[39mnot\u001b[39;00m matches:\n\u001b[1;32m    366\u001b[0m     matches, text \u001b[39m=\u001b[39m \u001b[39msorted\u001b[39m(properties), \u001b[39m\"\u001b[39m\u001b[39mpossible\u001b[39m\u001b[39m\"\u001b[39m\n\u001b[0;32m--> 368\u001b[0m \u001b[39mraise\u001b[39;00m \u001b[39mAttributeError\u001b[39;00m(\u001b[39mf\u001b[39m\u001b[39m\"\u001b[39m\u001b[39munexpected attribute \u001b[39m\u001b[39m{\u001b[39;00mname\u001b[39m!r}\u001b[39;00m\u001b[39m to \u001b[39m\u001b[39m{\u001b[39;00m\u001b[39mself\u001b[39m\u001b[39m.\u001b[39m\u001b[39m__class__\u001b[39m\u001b[39m.\u001b[39m\u001b[39m__name__\u001b[39m\u001b[39m}\u001b[39;00m\u001b[39m, \u001b[39m\u001b[39m{\u001b[39;00mtext\u001b[39m}\u001b[39;00m\u001b[39m attributes are \u001b[39m\u001b[39m{\u001b[39;00mnice_join(matches)\u001b[39m}\u001b[39;00m\u001b[39m\"\u001b[39m)\n",
      "\u001b[0;31mAttributeError\u001b[0m: unexpected attribute 'test' to BoxSelectTool, possible attributes are continuous, description, dimensions, icon, js_event_callbacks, js_property_callbacks, mode, name, origin, overlay, persistent, renderers, select_every_mousemove, subscribed_events, syncable or tags"
     ]
    }
   ],
   "source": [
    "p.tags[0]['BoxSelectTool'].test"
   ]
  },
  {
   "cell_type": "code",
   "execution_count": 28,
   "metadata": {},
   "outputs": [
    {
     "data": {
      "text/html": [
       "<style>\n",
       "        .bk-notebook-logo {\n",
       "            display: block;\n",
       "            width: 20px;\n",
       "            height: 20px;\n",
       "            background-image: url(data:image/png;base64,iVBORw0KGgoAAAANSUhEUgAAABQAAAAUCAYAAACNiR0NAAAABHNCSVQICAgIfAhkiAAAAAlwSFlzAAALEgAACxIB0t1+/AAAABx0RVh0U29mdHdhcmUAQWRvYmUgRmlyZXdvcmtzIENTNui8sowAAAOkSURBVDiNjZRtaJVlGMd/1/08zzln5zjP1LWcU9N0NkN8m2CYjpgQYQXqSs0I84OLIC0hkEKoPtiH3gmKoiJDU7QpLgoLjLIQCpEsNJ1vqUOdO7ppbuec5+V+rj4ctwzd8IIbbi6u+8f1539dt3A78eXC7QizUF7gyV1fD1Yqg4JWz84yffhm0qkFqBogB9rM8tZdtwVsPUhWhGcFJngGeWrPzHm5oaMmkfEg1usvLFyc8jLRqDOMru7AyC8saQr7GG7f5fvDeH7Ej8CM66nIF+8yngt6HWaKh7k49Soy9nXurCi1o3qUbS3zWfrYeQDTB/Qj6kX6Ybhw4B+bOYoLKCC9H3Nu/leUTZ1JdRWkkn2ldcCamzrcf47KKXdAJllSlxAOkRgyHsGC/zRday5Qld9DyoM4/q/rUoy/CXh3jzOu3bHUVZeU+DEn8FInkPBFlu3+nW3Nw0mk6vCDiWg8CeJaxEwuHS3+z5RgY+YBR6V1Z1nxSOfoaPa4LASWxxdNp+VWTk7+4vzaou8v8PN+xo+KY2xsw6une2frhw05CTYOmQvsEhjhWjn0bmXPjpE1+kplmmkP3suftwTubK9Vq22qKmrBhpY4jvd5afdRA3wGjFAgcnTK2s4hY0/GPNIb0nErGMCRxWOOX64Z8RAC4oCXdklmEvcL8o0BfkNK4lUg9HTl+oPlQxdNo3Mg4Nv175e/1LDGzZen30MEjRUtmXSfiTVu1kK8W4txyV6BMKlbgk3lMwYCiusNy9fVfvvwMxv8Ynl6vxoByANLTWplvuj/nF9m2+PDtt1eiHPBr1oIfhCChQMBw6Aw0UulqTKZdfVvfG7VcfIqLG9bcldL/+pdWTLxLUy8Qq38heUIjh4XlzZxzQm19lLFlr8vdQ97rjZVOLf8nclzckbcD4wxXMidpX30sFd37Fv/GtwwhzhxGVAprjbg0gCAEeIgwCZyTV2Z1REEW8O4py0wsjeloKoMr6iCY6dP92H6Vw/oTyICIthibxjm/DfN9lVz8IqtqKYLUXfoKVMVQVVJOElGjrnnUt9T9wbgp8AyYKaGlqingHZU/uG2NTZSVqwHQTWkx9hxjkpWDaCg6Ckj5qebgBVbT3V3NNXMSiWSDdGV3hrtzla7J+duwPOToIg42ChPQOQjspnSlp1V+Gjdged7+8UN5CRAV7a5EdFNwCjEaBR27b3W890TE7g24NAP/mMDXRWrGoFPQI9ls/MWO2dWFAar/xcOIImbbpA3zgAAAABJRU5ErkJggg==);\n",
       "        }\n",
       "    </style>\n",
       "    <div>\n",
       "        <a href=\"https://bokeh.org\" target=\"_blank\" class=\"bk-notebook-logo\"></a>\n",
       "        <span id=\"a180ed9d-a1b6-4a99-8e2c-e1ebe377c9e5\">Loading BokehJS ...</span>\n",
       "    </div>\n"
      ]
     },
     "metadata": {},
     "output_type": "display_data"
    },
    {
     "data": {
      "application/javascript": "(function(root) {\n  function now() {\n    return new Date();\n  }\n\n  const force = true;\n\n  if (typeof root._bokeh_onload_callbacks === \"undefined\" || force === true) {\n    root._bokeh_onload_callbacks = [];\n    root._bokeh_is_loading = undefined;\n  }\n\nconst JS_MIME_TYPE = 'application/javascript';\n  const HTML_MIME_TYPE = 'text/html';\n  const EXEC_MIME_TYPE = 'application/vnd.bokehjs_exec.v0+json';\n  const CLASS_NAME = 'output_bokeh rendered_html';\n\n  /**\n   * Render data to the DOM node\n   */\n  function render(props, node) {\n    const script = document.createElement(\"script\");\n    node.appendChild(script);\n  }\n\n  /**\n   * Handle when an output is cleared or removed\n   */\n  function handleClearOutput(event, handle) {\n    const cell = handle.cell;\n\n    const id = cell.output_area._bokeh_element_id;\n    const server_id = cell.output_area._bokeh_server_id;\n    // Clean up Bokeh references\n    if (id != null && id in Bokeh.index) {\n      Bokeh.index[id].model.document.clear();\n      delete Bokeh.index[id];\n    }\n\n    if (server_id !== undefined) {\n      // Clean up Bokeh references\n      const cmd_clean = \"from bokeh.io.state import curstate; print(curstate().uuid_to_server['\" + server_id + \"'].get_sessions()[0].document.roots[0]._id)\";\n      cell.notebook.kernel.execute(cmd_clean, {\n        iopub: {\n          output: function(msg) {\n            const id = msg.content.text.trim();\n            if (id in Bokeh.index) {\n              Bokeh.index[id].model.document.clear();\n              delete Bokeh.index[id];\n            }\n          }\n        }\n      });\n      // Destroy server and session\n      const cmd_destroy = \"import bokeh.io.notebook as ion; ion.destroy_server('\" + server_id + \"')\";\n      cell.notebook.kernel.execute(cmd_destroy);\n    }\n  }\n\n  /**\n   * Handle when a new output is added\n   */\n  function handleAddOutput(event, handle) {\n    const output_area = handle.output_area;\n    const output = handle.output;\n\n    // limit handleAddOutput to display_data with EXEC_MIME_TYPE content only\n    if ((output.output_type != \"display_data\") || (!Object.prototype.hasOwnProperty.call(output.data, EXEC_MIME_TYPE))) {\n      return\n    }\n\n    const toinsert = output_area.element.find(\".\" + CLASS_NAME.split(' ')[0]);\n\n    if (output.metadata[EXEC_MIME_TYPE][\"id\"] !== undefined) {\n      toinsert[toinsert.length - 1].firstChild.textContent = output.data[JS_MIME_TYPE];\n      // store reference to embed id on output_area\n      output_area._bokeh_element_id = output.metadata[EXEC_MIME_TYPE][\"id\"];\n    }\n    if (output.metadata[EXEC_MIME_TYPE][\"server_id\"] !== undefined) {\n      const bk_div = document.createElement(\"div\");\n      bk_div.innerHTML = output.data[HTML_MIME_TYPE];\n      const script_attrs = bk_div.children[0].attributes;\n      for (let i = 0; i < script_attrs.length; i++) {\n        toinsert[toinsert.length - 1].firstChild.setAttribute(script_attrs[i].name, script_attrs[i].value);\n        toinsert[toinsert.length - 1].firstChild.textContent = bk_div.children[0].textContent\n      }\n      // store reference to server id on output_area\n      output_area._bokeh_server_id = output.metadata[EXEC_MIME_TYPE][\"server_id\"];\n    }\n  }\n\n  function register_renderer(events, OutputArea) {\n\n    function append_mime(data, metadata, element) {\n      // create a DOM node to render to\n      const toinsert = this.create_output_subarea(\n        metadata,\n        CLASS_NAME,\n        EXEC_MIME_TYPE\n      );\n      this.keyboard_manager.register_events(toinsert);\n      // Render to node\n      const props = {data: data, metadata: metadata[EXEC_MIME_TYPE]};\n      render(props, toinsert[toinsert.length - 1]);\n      element.append(toinsert);\n      return toinsert\n    }\n\n    /* Handle when an output is cleared or removed */\n    events.on('clear_output.CodeCell', handleClearOutput);\n    events.on('delete.Cell', handleClearOutput);\n\n    /* Handle when a new output is added */\n    events.on('output_added.OutputArea', handleAddOutput);\n\n    /**\n     * Register the mime type and append_mime function with output_area\n     */\n    OutputArea.prototype.register_mime_type(EXEC_MIME_TYPE, append_mime, {\n      /* Is output safe? */\n      safe: true,\n      /* Index of renderer in `output_area.display_order` */\n      index: 0\n    });\n  }\n\n  // register the mime type if in Jupyter Notebook environment and previously unregistered\n  if (root.Jupyter !== undefined) {\n    const events = require('base/js/events');\n    const OutputArea = require('notebook/js/outputarea').OutputArea;\n\n    if (OutputArea.prototype.mime_types().indexOf(EXEC_MIME_TYPE) == -1) {\n      register_renderer(events, OutputArea);\n    }\n  }\n  if (typeof (root._bokeh_timeout) === \"undefined\" || force === true) {\n    root._bokeh_timeout = Date.now() + 5000;\n    root._bokeh_failed_load = false;\n  }\n\n  const NB_LOAD_WARNING = {'data': {'text/html':\n     \"<div style='background-color: #fdd'>\\n\"+\n     \"<p>\\n\"+\n     \"BokehJS does not appear to have successfully loaded. If loading BokehJS from CDN, this \\n\"+\n     \"may be due to a slow or bad network connection. Possible fixes:\\n\"+\n     \"</p>\\n\"+\n     \"<ul>\\n\"+\n     \"<li>re-rerun `output_notebook()` to attempt to load from CDN again, or</li>\\n\"+\n     \"<li>use INLINE resources instead, as so:</li>\\n\"+\n     \"</ul>\\n\"+\n     \"<code>\\n\"+\n     \"from bokeh.resources import INLINE\\n\"+\n     \"output_notebook(resources=INLINE)\\n\"+\n     \"</code>\\n\"+\n     \"</div>\"}};\n\n  function display_loaded() {\n    const el = document.getElementById(\"a180ed9d-a1b6-4a99-8e2c-e1ebe377c9e5\");\n    if (el != null) {\n      el.textContent = \"BokehJS is loading...\";\n    }\n    if (root.Bokeh !== undefined) {\n      if (el != null) {\n        el.textContent = \"BokehJS \" + root.Bokeh.version + \" successfully loaded.\";\n      }\n    } else if (Date.now() < root._bokeh_timeout) {\n      setTimeout(display_loaded, 100)\n    }\n  }\n\n  function run_callbacks() {\n    try {\n      root._bokeh_onload_callbacks.forEach(function(callback) {\n        if (callback != null)\n          callback();\n      });\n    } finally {\n      delete root._bokeh_onload_callbacks\n    }\n    console.debug(\"Bokeh: all callbacks have finished\");\n  }\n\n  function load_libs(css_urls, js_urls, callback) {\n    if (css_urls == null) css_urls = [];\n    if (js_urls == null) js_urls = [];\n\n    root._bokeh_onload_callbacks.push(callback);\n    if (root._bokeh_is_loading > 0) {\n      console.debug(\"Bokeh: BokehJS is being loaded, scheduling callback at\", now());\n      return null;\n    }\n    if (js_urls == null || js_urls.length === 0) {\n      run_callbacks();\n      return null;\n    }\n    console.debug(\"Bokeh: BokehJS not loaded, scheduling load and callback at\", now());\n    root._bokeh_is_loading = css_urls.length + js_urls.length;\n\n    function on_load() {\n      root._bokeh_is_loading--;\n      if (root._bokeh_is_loading === 0) {\n        console.debug(\"Bokeh: all BokehJS libraries/stylesheets loaded\");\n        run_callbacks()\n      }\n    }\n\n    function on_error(url) {\n      console.error(\"failed to load \" + url);\n    }\n\n    for (let i = 0; i < css_urls.length; i++) {\n      const url = css_urls[i];\n      const element = document.createElement(\"link\");\n      element.onload = on_load;\n      element.onerror = on_error.bind(null, url);\n      element.rel = \"stylesheet\";\n      element.type = \"text/css\";\n      element.href = url;\n      console.debug(\"Bokeh: injecting link tag for BokehJS stylesheet: \", url);\n      document.body.appendChild(element);\n    }\n\n    for (let i = 0; i < js_urls.length; i++) {\n      const url = js_urls[i];\n      const element = document.createElement('script');\n      element.onload = on_load;\n      element.onerror = on_error.bind(null, url);\n      element.async = false;\n      element.src = url;\n      console.debug(\"Bokeh: injecting script tag for BokehJS library: \", url);\n      document.head.appendChild(element);\n    }\n  };\n\n  function inject_raw_css(css) {\n    const element = document.createElement(\"style\");\n    element.appendChild(document.createTextNode(css));\n    document.body.appendChild(element);\n  }\n\n  const js_urls = [\"https://cdn.bokeh.org/bokeh/release/bokeh-3.1.1.min.js\", \"https://cdn.bokeh.org/bokeh/release/bokeh-gl-3.1.1.min.js\", \"https://cdn.bokeh.org/bokeh/release/bokeh-widgets-3.1.1.min.js\", \"https://cdn.bokeh.org/bokeh/release/bokeh-tables-3.1.1.min.js\", \"https://cdn.bokeh.org/bokeh/release/bokeh-mathjax-3.1.1.min.js\"];\n  const css_urls = [];\n\n  const inline_js = [    function(Bokeh) {\n      Bokeh.set_log_level(\"info\");\n    },\nfunction(Bokeh) {\n    }\n  ];\n\n  function run_inline_js() {\n    if (root.Bokeh !== undefined || force === true) {\n          for (let i = 0; i < inline_js.length; i++) {\n      inline_js[i].call(root, root.Bokeh);\n    }\nif (force === true) {\n        display_loaded();\n      }} else if (Date.now() < root._bokeh_timeout) {\n      setTimeout(run_inline_js, 100);\n    } else if (!root._bokeh_failed_load) {\n      console.log(\"Bokeh: BokehJS failed to load within specified timeout.\");\n      root._bokeh_failed_load = true;\n    } else if (force !== true) {\n      const cell = $(document.getElementById(\"a180ed9d-a1b6-4a99-8e2c-e1ebe377c9e5\")).parents('.cell').data().cell;\n      cell.output_area.append_execute_result(NB_LOAD_WARNING)\n    }\n  }\n\n  if (root._bokeh_is_loading === 0) {\n    console.debug(\"Bokeh: BokehJS loaded, going straight to plotting\");\n    run_inline_js();\n  } else {\n    load_libs(css_urls, js_urls, function() {\n      console.debug(\"Bokeh: BokehJS plotting callback run at\", now());\n      run_inline_js();\n    });\n  }\n}(window));",
      "application/vnd.bokehjs_load.v0+json": ""
     },
     "metadata": {},
     "output_type": "display_data"
    },
    {
     "data": {
      "text/html": [
       "\n",
       "  <div id=\"aa95e645-457b-4b0c-8765-5da797f65d11\" data-root-id=\"p2103\" style=\"display: contents;\"></div>\n"
      ]
     },
     "metadata": {},
     "output_type": "display_data"
    },
    {
     "data": {
      "application/javascript": "(function(root) {\n  function embed_document(root) {\n  const docs_json = {\"830f8be5-90c5-4d85-b83c-6459d4e3b2bc\":{\"version\":\"3.1.1\",\"title\":\"Bokeh Application\",\"defs\":[],\"roots\":[{\"type\":\"object\",\"name\":\"Figure\",\"id\":\"p2103\",\"attributes\":{\"tags\":[{\"type\":\"map\",\"entries\":[[\"PanTool\",{\"type\":\"object\",\"name\":\"PanTool\",\"id\":\"p2134\"}],[\"WheelZoomTool\",{\"type\":\"object\",\"name\":\"WheelZoomTool\",\"id\":\"p2135\"}],[\"BoxZoomTool\",{\"type\":\"object\",\"name\":\"BoxZoomTool\",\"id\":\"p2136\",\"attributes\":{\"overlay\":{\"type\":\"object\",\"name\":\"BoxAnnotation\",\"id\":\"p2137\",\"attributes\":{\"syncable\":false,\"level\":\"overlay\",\"visible\":false,\"left_units\":\"canvas\",\"right_units\":\"canvas\",\"bottom_units\":\"canvas\",\"top_units\":\"canvas\",\"line_color\":\"black\",\"line_alpha\":1.0,\"line_width\":2,\"line_dash\":[4,4],\"fill_color\":\"lightgrey\",\"fill_alpha\":0.5}}}}],[\"SaveTool\",{\"type\":\"object\",\"name\":\"SaveTool\",\"id\":\"p2138\"}],[\"ResetTool\",{\"type\":\"object\",\"name\":\"ResetTool\",\"id\":\"p2139\"}],[\"HelpTool\",{\"type\":\"object\",\"name\":\"HelpTool\",\"id\":\"p2140\"}],[\"BoxSelectTool\",{\"type\":\"object\",\"name\":\"BoxSelectTool\",\"id\":\"p2149\",\"attributes\":{\"renderers\":\"auto\",\"persistent\":true,\"dimensions\":\"width\",\"overlay\":{\"type\":\"object\",\"name\":\"BoxAnnotation\",\"id\":\"p2150\",\"attributes\":{\"syncable\":false,\"level\":\"overlay\",\"visible\":false,\"editable\":true,\"resizable\":\"none\",\"line_color\":\"black\",\"line_alpha\":1.0,\"line_width\":2,\"line_dash\":[4,4],\"fill_color\":\"lightgrey\",\"fill_alpha\":0.5}}}}],[\"PolySelectTool\",{\"type\":\"object\",\"name\":\"PolySelectTool\",\"id\":\"p2151\",\"attributes\":{\"renderers\":\"auto\",\"persistent\":true,\"overlay\":{\"type\":\"object\",\"name\":\"PolyAnnotation\",\"id\":\"p2152\",\"attributes\":{\"syncable\":false,\"level\":\"overlay\",\"visible\":false,\"xs\":[],\"ys\":[],\"editable\":true,\"line_color\":\"black\",\"line_alpha\":1.0,\"line_width\":2,\"line_dash\":[4,4],\"fill_color\":\"lightgrey\",\"fill_alpha\":0.5}}}}],[\"LassoSelectTool\",{\"type\":\"object\",\"name\":\"LassoSelectTool\",\"id\":\"p2153\",\"attributes\":{\"renderers\":\"auto\",\"persistent\":true,\"overlay\":{\"type\":\"object\",\"name\":\"PolyAnnotation\",\"id\":\"p2154\",\"attributes\":{\"syncable\":false,\"level\":\"overlay\",\"visible\":false,\"xs\":[],\"ys\":[],\"editable\":true,\"line_color\":\"black\",\"line_alpha\":1.0,\"line_width\":2,\"line_dash\":[4,4],\"fill_color\":\"lightgrey\",\"fill_alpha\":0.5}}}}],[\"CrosshairTool\",{\"type\":\"object\",\"name\":\"CrosshairTool\",\"id\":\"p2158\"}],[\"HoverTool\",{\"type\":\"object\",\"name\":\"HoverTool\",\"id\":\"p2160\",\"attributes\":{\"renderers\":\"auto\"}}],[\"ZoomInTool\",{\"type\":\"object\",\"name\":\"ZoomInTool\",\"id\":\"p2162\"}],[\"ZoomOutTool\",{\"type\":\"object\",\"name\":\"ZoomOutTool\",\"id\":\"p2164\"}],[\"UndoTool\",{\"type\":\"object\",\"name\":\"UndoTool\",\"id\":\"p2166\"}],[\"RedoTool\",{\"type\":\"object\",\"name\":\"RedoTool\",\"id\":\"p2168\"}]]}],\"x_range\":{\"type\":\"object\",\"name\":\"DataRange1d\",\"id\":\"p2104\"},\"y_range\":{\"type\":\"object\",\"name\":\"DataRange1d\",\"id\":\"p2105\"},\"x_scale\":{\"type\":\"object\",\"name\":\"LinearScale\",\"id\":\"p2116\"},\"y_scale\":{\"type\":\"object\",\"name\":\"LinearScale\",\"id\":\"p2118\"},\"title\":{\"type\":\"object\",\"name\":\"Title\",\"id\":\"p2107\"},\"renderers\":[{\"type\":\"object\",\"name\":\"GlyphRenderer\",\"id\":\"p2176\",\"attributes\":{\"data_source\":{\"type\":\"object\",\"name\":\"ColumnDataSource\",\"id\":\"p2170\",\"attributes\":{\"selected\":{\"type\":\"object\",\"name\":\"Selection\",\"id\":\"p2171\",\"attributes\":{\"indices\":[],\"line_indices\":[]}},\"selection_policy\":{\"type\":\"object\",\"name\":\"UnionRenderers\",\"id\":\"p2172\"},\"data\":{\"type\":\"map\",\"entries\":[[\"radius\",{\"type\":\"ndarray\",\"array\":{\"type\":\"bytes\",\"data\":\"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\"},\"shape\":[2000],\"dtype\":\"float64\",\"order\":\"little\"}],[\"x\",{\"type\":\"ndarray\",\"array\":{\"type\":\"bytes\",\"data\":\"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\"},\"shape\":[2000],\"dtype\":\"float64\",\"order\":\"little\"}],[\"y\",{\"type\":\"ndarray\",\"array\":{\"type\":\"bytes\",\"data\":\"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\"},\"shape\":[2000],\"dtype\":\"float64\",\"order\":\"little\"}],[\"fill_color\",{\"type\":\"ndarray\",\"array\":{\"type\":\"bytes\",\"data\":\"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\"},\"shape\":[2000,3],\"dtype\":\"uint8\",\"order\":\"little\"}]]}}},\"view\":{\"type\":\"object\",\"name\":\"CDSView\",\"id\":\"p2177\",\"attributes\":{\"filter\":{\"type\":\"object\",\"name\":\"AllIndices\",\"id\":\"p2178\"}}},\"glyph\":{\"type\":\"object\",\"name\":\"Circle\",\"id\":\"p2173\",\"attributes\":{\"x\":{\"type\":\"field\",\"field\":\"x\"},\"y\":{\"type\":\"field\",\"field\":\"y\"},\"line_color\":{\"type\":\"value\",\"value\":null},\"fill_color\":{\"type\":\"field\",\"field\":\"fill_color\"},\"fill_alpha\":{\"type\":\"value\",\"value\":0.6},\"radius\":{\"type\":\"field\",\"field\":\"radius\"}}},\"nonselection_glyph\":{\"type\":\"object\",\"name\":\"Circle\",\"id\":\"p2174\",\"attributes\":{\"x\":{\"type\":\"field\",\"field\":\"x\"},\"y\":{\"type\":\"field\",\"field\":\"y\"},\"line_color\":{\"type\":\"value\",\"value\":null},\"line_alpha\":{\"type\":\"value\",\"value\":0.1},\"fill_color\":{\"type\":\"field\",\"field\":\"fill_color\"},\"fill_alpha\":{\"type\":\"value\",\"value\":0.1},\"hatch_alpha\":{\"type\":\"value\",\"value\":0.1},\"radius\":{\"type\":\"field\",\"field\":\"radius\"}}},\"muted_glyph\":{\"type\":\"object\",\"name\":\"Circle\",\"id\":\"p2175\",\"attributes\":{\"x\":{\"type\":\"field\",\"field\":\"x\"},\"y\":{\"type\":\"field\",\"field\":\"y\"},\"line_color\":{\"type\":\"value\",\"value\":null},\"line_alpha\":{\"type\":\"value\",\"value\":0.2},\"fill_color\":{\"type\":\"field\",\"field\":\"fill_color\"},\"fill_alpha\":{\"type\":\"value\",\"value\":0.2},\"hatch_alpha\":{\"type\":\"value\",\"value\":0.2},\"radius\":{\"type\":\"field\",\"field\":\"radius\"}}}}}],\"toolbar\":{\"type\":\"object\",\"name\":\"Toolbar\",\"id\":\"p2106\",\"attributes\":{\"tools\":[{\"id\":\"p2134\"},{\"id\":\"p2135\"},{\"id\":\"p2136\"},{\"id\":\"p2138\"},{\"id\":\"p2139\"},{\"id\":\"p2140\"},{\"id\":\"p2149\"},{\"id\":\"p2151\"},{\"id\":\"p2153\"},{\"id\":\"p2158\"},{\"id\":\"p2160\"},{\"id\":\"p2162\"},{\"id\":\"p2164\"},{\"id\":\"p2166\"},{\"id\":\"p2168\"}]}},\"left\":[{\"type\":\"object\",\"name\":\"LinearAxis\",\"id\":\"p2127\",\"attributes\":{\"ticker\":{\"type\":\"object\",\"name\":\"BasicTicker\",\"id\":\"p2129\",\"attributes\":{\"mantissas\":[1,2,5]}},\"formatter\":{\"type\":\"object\",\"name\":\"BasicTickFormatter\",\"id\":\"p2128\"},\"major_label_policy\":{\"type\":\"object\",\"name\":\"AllLabels\",\"id\":\"p2130\"}}}],\"below\":[{\"type\":\"object\",\"name\":\"LinearAxis\",\"id\":\"p2120\",\"attributes\":{\"ticker\":{\"type\":\"object\",\"name\":\"BasicTicker\",\"id\":\"p2122\",\"attributes\":{\"mantissas\":[1,2,5]}},\"formatter\":{\"type\":\"object\",\"name\":\"BasicTickFormatter\",\"id\":\"p2121\"},\"major_label_policy\":{\"type\":\"object\",\"name\":\"AllLabels\",\"id\":\"p2123\"}}}],\"center\":[{\"type\":\"object\",\"name\":\"Grid\",\"id\":\"p2126\",\"attributes\":{\"axis\":{\"id\":\"p2120\"}}},{\"type\":\"object\",\"name\":\"Grid\",\"id\":\"p2133\",\"attributes\":{\"dimension\":1,\"axis\":{\"id\":\"p2127\"}}}]}}],\"callbacks\":{\"type\":\"map\"}}};\n  const render_items = [{\"docid\":\"830f8be5-90c5-4d85-b83c-6459d4e3b2bc\",\"roots\":{\"p2103\":\"aa95e645-457b-4b0c-8765-5da797f65d11\"},\"root_ids\":[\"p2103\"]}];\n  root.Bokeh.embed.embed_items_notebook(docs_json, render_items);\n  }\n  if (root.Bokeh !== undefined) {\n    embed_document(root);\n  } else {\n    let attempts = 0;\n    const timer = setInterval(function(root) {\n      if (root.Bokeh !== undefined) {\n        clearInterval(timer);\n        embed_document(root);\n      } else {\n        attempts++;\n        if (attempts > 100) {\n          clearInterval(timer);\n          console.log(\"Bokeh: ERROR: Unable to run BokehJS code because BokehJS library is missing\");\n        }\n      }\n    }, 10, root)\n  }\n})(window);",
      "application/vnd.bokehjs_exec.v0+json": ""
     },
     "metadata": {
      "application/vnd.bokehjs_exec.v0+json": {
       "id": "p2103"
      }
     },
     "output_type": "display_data"
    }
   ],
   "source": [
    "import numpy as np\n",
    "\n",
    "from bokeh.models import BoxSelectTool, LassoSelectTool, PolySelectTool\n",
    "from bokeh.plotting import figure, show\n",
    "\n",
    "N = 2000\n",
    "x = np.random.random(size=N) * 100\n",
    "y = np.random.random(size=N) * 100\n",
    "radii = np.random.random(size=N) * 1.5\n",
    "colors = np.array([[r, g, 150] for r, g in zip(50 + 2*x, 30 + 2*y)], dtype=\"uint8\")\n",
    "\n",
    "p = figure()\n",
    "\n",
    "box_select = BoxSelectTool(persistent=True)\n",
    "poly_select = PolySelectTool(persistent=True)\n",
    "lasso_select = LassoSelectTool(persistent=True)\n",
    "\n",
    "p.add_tools(box_select, poly_select, lasso_select)\n",
    "p.add_tools(\"crosshair\", \"hover\", \"zoom_in\", \"zoom_out\", \"undo\", \"redo\")\n",
    "\n",
    "p.scatter(\n",
    "    x, y, radius=radii,\n",
    "    fill_color=colors, fill_alpha=0.6,\n",
    "    line_color=None,\n",
    ")\n",
    "\n",
    "p.tags = [{str(type(t)).split('.')[-1].split('\\'')[0]:t for t in p.tools}]\n",
    "p.tags[0]\n",
    "\n",
    "p.tags[0]['BoxSelectTool'].update(dimensions='width',persistent=True)\n",
    "p.tags[0]['BoxSelectTool'].overlay.update(resizable='none')\n",
    "\n",
    "output_notebook()\n",
    "show(p)"
   ]
  },
  {
   "cell_type": "code",
   "execution_count": null,
   "metadata": {},
   "outputs": [],
   "source": [
    "# import panel as pn\n",
    "from bokeh.events import RangesUpdate, Event\n",
    "from bokeh.models import Range1d, RangeTool\n",
    "from bokeh.plotting import figure\n",
    "\n",
    "output_notebook()\n",
    "\n",
    "class App():\n",
    "    def __init__(self):\n",
    "        plot = figure(x_range=[0,5])\n",
    "        range_tool = RangeTool(x_range=Range1d(1,2))\n",
    "        range_tool.overlay.fill_color = \"navy\"\n",
    "        range_tool.overlay.fill_alpha = 0.2\n",
    "        range_tool.x_range.on_change('start', self._xrange_changed_callback)\n",
    "        range_tool.x_range.on_change('end', self._xrange_changed_callback)\n",
    "        range_tool.x_range.on_event(RangesUpdate, self._xrange_update_callback) # Never fires\n",
    "        plot.add_tools(range_tool)\n",
    "        # plot.toolbar.active_multi = range_tool\n",
    "        \n",
    "        \n",
    "        self.bokeh = plot\n",
    "        # self.msg = pn.widgets.StaticText(name='on_change callback')\n",
    "        # self.msg_event = pn.widgets.StaticText(name='on_event callback')\n",
    "\n",
    "    def _xrange_changed_callback(self, attr:str, old:float, new:float):\n",
    "        # In case the range_tool is moved, it will fire two events: one for 'start' and one for 'end'. This needs to\n",
    "        # be handled in the callback or just accept a redundant execution of the callback\n",
    "        self.msg.value = f'{attr=}, {old=}, {new=}'\n",
    "\n",
    "    def _xrange_update_callback(self, event:Event):\n",
    "        # Unfortunately Range1d never fires RangesUpdate event and this callback is never called :-(\n",
    "        self.msg_event.value = f'{event.x0=}, {event.x1=}'\n",
    "\n",
    "    def __panel__(self):\n",
    "        return self.bokeh\n",
    "\n",
    "if __name__ == '__main__':\n",
    "    app = App()\n",
    "    show(app.__panel__())"
   ]
  },
  {
   "cell_type": "code",
   "execution_count": null,
   "metadata": {},
   "outputs": [],
   "source": [
    "import bokeh.plotting\n",
    "import bokeh.io\n",
    "import bokeh.layouts\n",
    "\n",
    "import bokeh.plotting as bk\n",
    "from bokeh.models import TapTool, HoverTool\n",
    "from bokeh.models import ColumnDataSource, CustomJS\n",
    "import pandas as pd\n",
    "\n",
    "# Data for plot\n",
    "data = pd.DataFrame({'x': [[1, 2, 3],[1,2,3]], 'y': [[3, 4, 6], [5, 3, 1]]})\n",
    "s1 = ColumnDataSource(data)\n",
    "s2 = ColumnDataSource(data)\n",
    "# make plot\n",
    "p3 = bokeh.plotting.figure()\n",
    "\n",
    "r1 = p3.multi_line(xs='x', ys='y', width=2, source=s1, line_alpha=0.5)\n",
    "\n",
    "r2 = p3.multi_line(xs='x', ys='y', width=2, source=s2)\n",
    "\n",
    "# Add tools\n",
    "hover = HoverTool(renderers=[r2])\n",
    "hover.tooltips = ([('x', '@x}'), ('y', '@y')])\n",
    "tap = TapTool(renderers=[r1]\n",
    "              ,callback = CustomJS(args=dict(s1=s1,s2=s2)\n",
    "                                   ,code='''\n",
    "                                   var i = s1.selected.indices[0];\n",
    "                                   s2.data.index=[0]\n",
    "                                   s2.data.x = [s1.data.x[i]];\n",
    "                                   s2.data.y = [s1.data.y[i]];\n",
    "                                   s2.change.emit();\n",
    "                                   '''              ))\n",
    "\n",
    "p3.add_tools(tap)\n",
    "p3.add_tools(hover)\n",
    "# Plot\n",
    "# # Display figure\n",
    "# #=====================================\n",
    "bk.output_notebook()\n",
    "# bk.show(fig)\n",
    "# #=====================================\n",
    "layout = bokeh.layouts.layout(p3)\n",
    "bk.show(layout)"
   ]
  },
  {
   "cell_type": "code",
   "execution_count": null,
   "metadata": {},
   "outputs": [],
   "source": [
    "import pandas as pd\n",
    "from bokeh.layouts import column\n",
    "from bokeh.models import ColumnDataSource, CustomJS, Select \n",
    "from bokeh.plotting import figure, show,output_notebook\n",
    "\n",
    "df = pd.DataFrame(data={\"A\": [1, 2, 3, 4, 5],\n",
    "                        \"B\": [-6, -7, -8, -9, -10],\n",
    "                        \"C\": [11, 12, 13, 14, 15],\n",
    "                        \"D\": [16, 17, 18, 19, 20],\n",
    "                        \"day\": [100, 101, 102, 103, 104]})\n",
    "\n",
    "source = ColumnDataSource({c: v.values for c, v in df.items()})\n",
    "\n",
    "initial_value = \"A\"\n",
    "dropdown = Select(title=\"Variable\", value=initial_value, options=[\"A\", \"B\", \"C\", \"D\"])\n",
    "\n",
    "p = figure()\n",
    "l = p.line(\"day\", initial_value, source=source)\n",
    "\n",
    "dropdown.js_on_change(\"value\", CustomJS(args=dict(line=l),\n",
    "                                        code=\"line.glyph.y = {field: cb_obj.value};\"))\n",
    "\n",
    "output_notebook()\n",
    "show(column(p, dropdown))"
   ]
  },
  {
   "cell_type": "code",
   "execution_count": null,
   "metadata": {},
   "outputs": [],
   "source": [
    "import numpy as np\n",
    "import pandas as pd\n",
    "from bokeh.io import show\n",
    "from bokeh.layouts import row, column\n",
    "from bokeh.models import ColumnDataSource, Select, CDSView, GroupFilter, CustomJS\n",
    "from bokeh.plotting import figure\n",
    "\n",
    "df = pd.DataFrame({'Country': ['A', 'A', 'A', 'A', 'A', 'A', 'B', 'B', 'B', 'B', 'B', 'B'],\n",
    "                   'Date': ['01-01-2020', '01-02-2020', '01-03-2020', '01-01-2020', '01-02-2020', '01-03-2020',\n",
    "                            '01-01-2020', '01-02-2020', '01-03-2020', '01-01-2020', '01-02-2020', '01-03-2020'],\n",
    "                   'Type': ['X', 'X', 'X', 'Y', 'Y', 'Y', 'X', 'X', 'X', 'Y', 'Y', 'Y'],\n",
    "                   'Value': [1, 2, 3, 4, 5, 6, 7, 8, 9, 10, 11, 12]})\n",
    "df['Date'] = pd.to_datetime(df['Date'])\n",
    "\n",
    "source = ColumnDataSource(df)\n",
    "\n",
    "country_filter = GroupFilter(column_name='Country', group='A')\n",
    "type_filter = GroupFilter(column_name='Type', group='X')\n",
    "view = CDSView(source=source, filters=[country_filter, type_filter])\n",
    "\n",
    "# Alas, we need this manual step to make the view know about the filters' changes.\n",
    "for f in view.filters:\n",
    "    f.js_on_change('group', CustomJS(args=dict(view=view),\n",
    "                                     code=\"view.properties.filters.change.emit();\"))\n",
    "\n",
    "country_select = Select(title=\"Country:\", value=\"A\", options=np.unique(source.data['Country']).tolist())\n",
    "country_select.js_link('value', country_filter, 'group')\n",
    "\n",
    "type_select = Select(title=\"Type:\", value=\"X\", options=np.unique(source.data['Type']).tolist())\n",
    "type_select.js_link('value', type_filter, 'group')\n",
    "\n",
    "p = figure()\n",
    "p.line(x='Date', y='Value', source=source, view=view)\n",
    "\n",
    "\n",
    "\n",
    "output_notebook()\n",
    "show(p)"
   ]
  },
  {
   "cell_type": "code",
   "execution_count": null,
   "metadata": {},
   "outputs": [],
   "source": []
  },
  {
   "cell_type": "code",
   "execution_count": null,
   "metadata": {},
   "outputs": [],
   "source": []
  },
  {
   "cell_type": "code",
   "execution_count": null,
   "metadata": {},
   "outputs": [],
   "source": [
    "from pandas import *\n",
    "from bokeh.io import show\n",
    "from bokeh.layouts import column\n",
    "from bokeh.models import LinearColorMapper, CustomJS, Slider, ColumnDataSource, CDSView, GroupFilter\n",
    "from bokeh.palettes import Viridis256\n",
    "from bokeh.plotting import figure\n",
    "\n",
    "df = DataFrame({'attribute': ['Y', 'Y', 'Y', 'Y', 'Z', 'Z', 'Z', 'Z']\n",
    "                   , 'period': [100, 200, 300, 400, 100, 200, 300, 400]\n",
    "                   , '1': [1, 37, 44, 13, 41, 51, 18, 14]\n",
    "                   , '2': [10, 3, 44, 53, 20, 9, 18, 14]\n",
    "                   , '3': [80, 37, 22, 13, 13, 44, 18, 14]})\n",
    "\n",
    "df['period'] = df['period'].astype(str)\n",
    "periods = df.period.unique().tolist()\n",
    "attributes = df.attribute.unique().tolist()\n",
    "selectable_columns = ['1', '2', '3']\n",
    "\n",
    "source = ColumnDataSource(df)\n",
    "\n",
    "active = 1\n",
    "values_select = Slider(title=\"Values\", start=1, end=3, step=1, value=active)\n",
    "color_mapper = LinearColorMapper(palette=Viridis256, low=df[str(active)].min(), high=df[str(active)].max())\n",
    "heatmap_fig = figure(x_range=periods, y_range=attributes)\n",
    "heatmap_renderer = heatmap_fig.rect(x=\"period\", y=\"attribute\", width=1, height=1, line_color=None, source=source,\n",
    "                                    name=str(active),\n",
    "                                    fill_color={'field': str(active), 'transform': color_mapper})\n",
    "\n",
    "line_fig = figure()\n",
    "\n",
    "line_renderers = []\n",
    "for a in attributes:\n",
    "    r = line_fig.line(x='period'\n",
    "                      , y=str(active)\n",
    "                      , legend_label=str(a)\n",
    "                      , view=CDSView(source=source,\n",
    "                                     filters=[GroupFilter(column_name='attribute',\n",
    "                                                          group=a)])\n",
    "                      , source=source)\n",
    "    line_renderers.append(r)\n",
    "\n",
    "values_select.js_on_change('value',\n",
    "                           CustomJS(args=dict(heatmap_renderer=heatmap_renderer,\n",
    "                                              line_renderers=line_renderers,\n",
    "                                              heatmap_fig=heatmap_fig, line_fig=line_fig), code=\"\"\"\\\n",
    "    const active = cb_obj.value.toString();\n",
    "    const data = heatmap_renderer.data_source.data[active];\n",
    "    heatmap_renderer.name = active;\n",
    "    const {transform} = heatmap_renderer.glyph.fill_color;\n",
    "    heatmap_renderer.glyph.fill_color = {field: cb_obj.value, transform: transform};\n",
    "    heatmap_fig.reset.emit();\n",
    "    \n",
    "    for (const lr of line_renderers) {\n",
    "        lr.glyph.y = {field: active};\n",
    "    }\n",
    "    line_fig.reset.emit();\n",
    "\"\"\"))\n",
    "\n",
    "show(column(values_select, heatmap_fig, line_fig))"
   ]
  },
  {
   "cell_type": "code",
   "execution_count": null,
   "metadata": {},
   "outputs": [],
   "source": [
    "toy_df"
   ]
  },
  {
   "cell_type": "code",
   "execution_count": null,
   "metadata": {},
   "outputs": [],
   "source": [
    "toy_df"
   ]
  },
  {
   "cell_type": "code",
   "execution_count": null,
   "metadata": {},
   "outputs": [],
   "source": [
    "source.data"
   ]
  },
  {
   "cell_type": "code",
   "execution_count": null,
   "metadata": {},
   "outputs": [],
   "source": [
    "toy_df = pd.DataFrame(data=np.random.rand(5,3), columns = ('a', 'b' ,'c'))  "
   ]
  },
  {
   "cell_type": "code",
   "execution_count": null,
   "metadata": {},
   "outputs": [],
   "source": [
    "\n",
    "toy_df = pd.DataFrame({time:[1,2,3,4,5]})\n",
    "\n",
    "\n"
   ]
  },
  {
   "cell_type": "code",
   "execution_count": null,
   "metadata": {},
   "outputs": [],
   "source": [
    "from collections import defaultdict"
   ]
  },
  {
   "cell_type": "code",
   "execution_count": null,
   "metadata": {},
   "outputs": [],
   "source": [
    "test = defaultdict(list)"
   ]
  },
  {
   "cell_type": "code",
   "execution_count": null,
   "metadata": {},
   "outputs": [],
   "source": [
    "test['a'].append([1,2,3])"
   ]
  },
  {
   "cell_type": "code",
   "execution_count": null,
   "metadata": {},
   "outputs": [],
   "source": [
    "np.random.rand(3,5)"
   ]
  },
  {
   "cell_type": "code",
   "execution_count": null,
   "metadata": {},
   "outputs": [],
   "source": []
  },
  {
   "cell_type": "code",
   "execution_count": null,
   "metadata": {},
   "outputs": [],
   "source": [
    "toy_df"
   ]
  },
  {
   "cell_type": "code",
   "execution_count": null,
   "metadata": {},
   "outputs": [],
   "source": [
    "from bokeh.layouts import row,column#,£ widgetbox\n",
    "from bokeh.models import Slider, Span, CustomJS\n",
    "from bokeh.plotting import figure, output_file, show\n",
    "\n",
    "slider = Slider(start=0, end=10, value=3, step=0.1,show_value=True,width=640,align='center')\n",
    "\n",
    "plot = figure(width=700, height=250, x_range=(0,10), y_range=(-1, 1))\n",
    "span = Span(location=slider.value, dimension='height')\n",
    "plot.add_layout(span)\n",
    "\n",
    "callback = CustomJS(args=dict(span=span,xr=plot.x_range,slider=slider), code=\"\"\"\n",
    "    span.location = cb_obj.value;\n",
    "    slider.start = xr.start;\n",
    "    slider.end   = xr.end;\n",
    "\"\"\")\n",
    "slider.js_on_change('value', callback)\n",
    "\n",
    "output_file('span_slider.html')\n",
    "\n",
    "show(column(plot,slider))"
   ]
  },
  {
   "cell_type": "code",
   "execution_count": null,
   "metadata": {},
   "outputs": [],
   "source": [
    "plot.x_range.start,plot.x_range.end"
   ]
  },
  {
   "cell_type": "code",
   "execution_count": null,
   "metadata": {},
   "outputs": [],
   "source": [
    "slider.x_range"
   ]
  },
  {
   "attachments": {},
   "cell_type": "markdown",
   "metadata": {},
   "source": []
  },
  {
   "cell_type": "code",
   "execution_count": 35,
   "metadata": {},
   "outputs": [
    {
     "data": {
      "text/plain": [
       "[[0.0,\n",
       "  0.3731262969115864,\n",
       "  0.29717291767521303,\n",
       "  0.8751874780215707,\n",
       "  0.9296486813688902,\n",
       "  0.3207365973998024],\n",
       " [0.3333333333333333,\n",
       "  0.24486671972693674,\n",
       "  0.335928909293436,\n",
       "  0.28993153625054213,\n",
       "  0.646961138445447,\n",
       "  0.22601289040335792],\n",
       " [0.6666666666666666,\n",
       "  0.4340913674156144,\n",
       "  0.3875500777884341,\n",
       "  0.31263840961508915,\n",
       "  0.24778265442871072,\n",
       "  0.9306798529119574]]"
      ]
     },
     "execution_count": 35,
     "metadata": {},
     "output_type": "execute_result"
    }
   ],
   "source": [
    "[[i/3] + list(np.random.rand(5)) for i in range(3)]"
   ]
  },
  {
   "cell_type": "code",
   "execution_count": 257,
   "metadata": {},
   "outputs": [
    {
     "data": {
      "text/html": [
       "<style>\n",
       "        .bk-notebook-logo {\n",
       "            display: block;\n",
       "            width: 20px;\n",
       "            height: 20px;\n",
       "            background-image: url(data:image/png;base64,iVBORw0KGgoAAAANSUhEUgAAABQAAAAUCAYAAACNiR0NAAAABHNCSVQICAgIfAhkiAAAAAlwSFlzAAALEgAACxIB0t1+/AAAABx0RVh0U29mdHdhcmUAQWRvYmUgRmlyZXdvcmtzIENTNui8sowAAAOkSURBVDiNjZRtaJVlGMd/1/08zzln5zjP1LWcU9N0NkN8m2CYjpgQYQXqSs0I84OLIC0hkEKoPtiH3gmKoiJDU7QpLgoLjLIQCpEsNJ1vqUOdO7ppbuec5+V+rj4ctwzd8IIbbi6u+8f1539dt3A78eXC7QizUF7gyV1fD1Yqg4JWz84yffhm0qkFqBogB9rM8tZdtwVsPUhWhGcFJngGeWrPzHm5oaMmkfEg1usvLFyc8jLRqDOMru7AyC8saQr7GG7f5fvDeH7Ej8CM66nIF+8yngt6HWaKh7k49Soy9nXurCi1o3qUbS3zWfrYeQDTB/Qj6kX6Ybhw4B+bOYoLKCC9H3Nu/leUTZ1JdRWkkn2ldcCamzrcf47KKXdAJllSlxAOkRgyHsGC/zRday5Qld9DyoM4/q/rUoy/CXh3jzOu3bHUVZeU+DEn8FInkPBFlu3+nW3Nw0mk6vCDiWg8CeJaxEwuHS3+z5RgY+YBR6V1Z1nxSOfoaPa4LASWxxdNp+VWTk7+4vzaou8v8PN+xo+KY2xsw6une2frhw05CTYOmQvsEhjhWjn0bmXPjpE1+kplmmkP3suftwTubK9Vq22qKmrBhpY4jvd5afdRA3wGjFAgcnTK2s4hY0/GPNIb0nErGMCRxWOOX64Z8RAC4oCXdklmEvcL8o0BfkNK4lUg9HTl+oPlQxdNo3Mg4Nv175e/1LDGzZen30MEjRUtmXSfiTVu1kK8W4txyV6BMKlbgk3lMwYCiusNy9fVfvvwMxv8Ynl6vxoByANLTWplvuj/nF9m2+PDtt1eiHPBr1oIfhCChQMBw6Aw0UulqTKZdfVvfG7VcfIqLG9bcldL/+pdWTLxLUy8Qq38heUIjh4XlzZxzQm19lLFlr8vdQ97rjZVOLf8nclzckbcD4wxXMidpX30sFd37Fv/GtwwhzhxGVAprjbg0gCAEeIgwCZyTV2Z1REEW8O4py0wsjeloKoMr6iCY6dP92H6Vw/oTyICIthibxjm/DfN9lVz8IqtqKYLUXfoKVMVQVVJOElGjrnnUt9T9wbgp8AyYKaGlqingHZU/uG2NTZSVqwHQTWkx9hxjkpWDaCg6Ckj5qebgBVbT3V3NNXMSiWSDdGV3hrtzla7J+duwPOToIg42ChPQOQjspnSlp1V+Gjdged7+8UN5CRAV7a5EdFNwCjEaBR27b3W890TE7g24NAP/mMDXRWrGoFPQI9ls/MWO2dWFAar/xcOIImbbpA3zgAAAABJRU5ErkJggg==);\n",
       "        }\n",
       "    </style>\n",
       "    <div>\n",
       "        <a href=\"https://bokeh.org\" target=\"_blank\" class=\"bk-notebook-logo\"></a>\n",
       "        <span id=\"d062b751-d3af-4600-a4ea-9f33be595eb5\">Loading BokehJS ...</span>\n",
       "    </div>\n"
      ]
     },
     "metadata": {},
     "output_type": "display_data"
    },
    {
     "data": {
      "application/javascript": "(function(root) {\n  function now() {\n    return new Date();\n  }\n\n  const force = true;\n\n  if (typeof root._bokeh_onload_callbacks === \"undefined\" || force === true) {\n    root._bokeh_onload_callbacks = [];\n    root._bokeh_is_loading = undefined;\n  }\n\nconst JS_MIME_TYPE = 'application/javascript';\n  const HTML_MIME_TYPE = 'text/html';\n  const EXEC_MIME_TYPE = 'application/vnd.bokehjs_exec.v0+json';\n  const CLASS_NAME = 'output_bokeh rendered_html';\n\n  /**\n   * Render data to the DOM node\n   */\n  function render(props, node) {\n    const script = document.createElement(\"script\");\n    node.appendChild(script);\n  }\n\n  /**\n   * Handle when an output is cleared or removed\n   */\n  function handleClearOutput(event, handle) {\n    const cell = handle.cell;\n\n    const id = cell.output_area._bokeh_element_id;\n    const server_id = cell.output_area._bokeh_server_id;\n    // Clean up Bokeh references\n    if (id != null && id in Bokeh.index) {\n      Bokeh.index[id].model.document.clear();\n      delete Bokeh.index[id];\n    }\n\n    if (server_id !== undefined) {\n      // Clean up Bokeh references\n      const cmd_clean = \"from bokeh.io.state import curstate; print(curstate().uuid_to_server['\" + server_id + \"'].get_sessions()[0].document.roots[0]._id)\";\n      cell.notebook.kernel.execute(cmd_clean, {\n        iopub: {\n          output: function(msg) {\n            const id = msg.content.text.trim();\n            if (id in Bokeh.index) {\n              Bokeh.index[id].model.document.clear();\n              delete Bokeh.index[id];\n            }\n          }\n        }\n      });\n      // Destroy server and session\n      const cmd_destroy = \"import bokeh.io.notebook as ion; ion.destroy_server('\" + server_id + \"')\";\n      cell.notebook.kernel.execute(cmd_destroy);\n    }\n  }\n\n  /**\n   * Handle when a new output is added\n   */\n  function handleAddOutput(event, handle) {\n    const output_area = handle.output_area;\n    const output = handle.output;\n\n    // limit handleAddOutput to display_data with EXEC_MIME_TYPE content only\n    if ((output.output_type != \"display_data\") || (!Object.prototype.hasOwnProperty.call(output.data, EXEC_MIME_TYPE))) {\n      return\n    }\n\n    const toinsert = output_area.element.find(\".\" + CLASS_NAME.split(' ')[0]);\n\n    if (output.metadata[EXEC_MIME_TYPE][\"id\"] !== undefined) {\n      toinsert[toinsert.length - 1].firstChild.textContent = output.data[JS_MIME_TYPE];\n      // store reference to embed id on output_area\n      output_area._bokeh_element_id = output.metadata[EXEC_MIME_TYPE][\"id\"];\n    }\n    if (output.metadata[EXEC_MIME_TYPE][\"server_id\"] !== undefined) {\n      const bk_div = document.createElement(\"div\");\n      bk_div.innerHTML = output.data[HTML_MIME_TYPE];\n      const script_attrs = bk_div.children[0].attributes;\n      for (let i = 0; i < script_attrs.length; i++) {\n        toinsert[toinsert.length - 1].firstChild.setAttribute(script_attrs[i].name, script_attrs[i].value);\n        toinsert[toinsert.length - 1].firstChild.textContent = bk_div.children[0].textContent\n      }\n      // store reference to server id on output_area\n      output_area._bokeh_server_id = output.metadata[EXEC_MIME_TYPE][\"server_id\"];\n    }\n  }\n\n  function register_renderer(events, OutputArea) {\n\n    function append_mime(data, metadata, element) {\n      // create a DOM node to render to\n      const toinsert = this.create_output_subarea(\n        metadata,\n        CLASS_NAME,\n        EXEC_MIME_TYPE\n      );\n      this.keyboard_manager.register_events(toinsert);\n      // Render to node\n      const props = {data: data, metadata: metadata[EXEC_MIME_TYPE]};\n      render(props, toinsert[toinsert.length - 1]);\n      element.append(toinsert);\n      return toinsert\n    }\n\n    /* Handle when an output is cleared or removed */\n    events.on('clear_output.CodeCell', handleClearOutput);\n    events.on('delete.Cell', handleClearOutput);\n\n    /* Handle when a new output is added */\n    events.on('output_added.OutputArea', handleAddOutput);\n\n    /**\n     * Register the mime type and append_mime function with output_area\n     */\n    OutputArea.prototype.register_mime_type(EXEC_MIME_TYPE, append_mime, {\n      /* Is output safe? */\n      safe: true,\n      /* Index of renderer in `output_area.display_order` */\n      index: 0\n    });\n  }\n\n  // register the mime type if in Jupyter Notebook environment and previously unregistered\n  if (root.Jupyter !== undefined) {\n    const events = require('base/js/events');\n    const OutputArea = require('notebook/js/outputarea').OutputArea;\n\n    if (OutputArea.prototype.mime_types().indexOf(EXEC_MIME_TYPE) == -1) {\n      register_renderer(events, OutputArea);\n    }\n  }\n  if (typeof (root._bokeh_timeout) === \"undefined\" || force === true) {\n    root._bokeh_timeout = Date.now() + 5000;\n    root._bokeh_failed_load = false;\n  }\n\n  const NB_LOAD_WARNING = {'data': {'text/html':\n     \"<div style='background-color: #fdd'>\\n\"+\n     \"<p>\\n\"+\n     \"BokehJS does not appear to have successfully loaded. If loading BokehJS from CDN, this \\n\"+\n     \"may be due to a slow or bad network connection. Possible fixes:\\n\"+\n     \"</p>\\n\"+\n     \"<ul>\\n\"+\n     \"<li>re-rerun `output_notebook()` to attempt to load from CDN again, or</li>\\n\"+\n     \"<li>use INLINE resources instead, as so:</li>\\n\"+\n     \"</ul>\\n\"+\n     \"<code>\\n\"+\n     \"from bokeh.resources import INLINE\\n\"+\n     \"output_notebook(resources=INLINE)\\n\"+\n     \"</code>\\n\"+\n     \"</div>\"}};\n\n  function display_loaded() {\n    const el = document.getElementById(\"d062b751-d3af-4600-a4ea-9f33be595eb5\");\n    if (el != null) {\n      el.textContent = \"BokehJS is loading...\";\n    }\n    if (root.Bokeh !== undefined) {\n      if (el != null) {\n        el.textContent = \"BokehJS \" + root.Bokeh.version + \" successfully loaded.\";\n      }\n    } else if (Date.now() < root._bokeh_timeout) {\n      setTimeout(display_loaded, 100)\n    }\n  }\n\n  function run_callbacks() {\n    try {\n      root._bokeh_onload_callbacks.forEach(function(callback) {\n        if (callback != null)\n          callback();\n      });\n    } finally {\n      delete root._bokeh_onload_callbacks\n    }\n    console.debug(\"Bokeh: all callbacks have finished\");\n  }\n\n  function load_libs(css_urls, js_urls, callback) {\n    if (css_urls == null) css_urls = [];\n    if (js_urls == null) js_urls = [];\n\n    root._bokeh_onload_callbacks.push(callback);\n    if (root._bokeh_is_loading > 0) {\n      console.debug(\"Bokeh: BokehJS is being loaded, scheduling callback at\", now());\n      return null;\n    }\n    if (js_urls == null || js_urls.length === 0) {\n      run_callbacks();\n      return null;\n    }\n    console.debug(\"Bokeh: BokehJS not loaded, scheduling load and callback at\", now());\n    root._bokeh_is_loading = css_urls.length + js_urls.length;\n\n    function on_load() {\n      root._bokeh_is_loading--;\n      if (root._bokeh_is_loading === 0) {\n        console.debug(\"Bokeh: all BokehJS libraries/stylesheets loaded\");\n        run_callbacks()\n      }\n    }\n\n    function on_error(url) {\n      console.error(\"failed to load \" + url);\n    }\n\n    for (let i = 0; i < css_urls.length; i++) {\n      const url = css_urls[i];\n      const element = document.createElement(\"link\");\n      element.onload = on_load;\n      element.onerror = on_error.bind(null, url);\n      element.rel = \"stylesheet\";\n      element.type = \"text/css\";\n      element.href = url;\n      console.debug(\"Bokeh: injecting link tag for BokehJS stylesheet: \", url);\n      document.body.appendChild(element);\n    }\n\n    for (let i = 0; i < js_urls.length; i++) {\n      const url = js_urls[i];\n      const element = document.createElement('script');\n      element.onload = on_load;\n      element.onerror = on_error.bind(null, url);\n      element.async = false;\n      element.src = url;\n      console.debug(\"Bokeh: injecting script tag for BokehJS library: \", url);\n      document.head.appendChild(element);\n    }\n  };\n\n  function inject_raw_css(css) {\n    const element = document.createElement(\"style\");\n    element.appendChild(document.createTextNode(css));\n    document.body.appendChild(element);\n  }\n\n  const js_urls = [\"https://cdn.bokeh.org/bokeh/release/bokeh-3.1.1.min.js\", \"https://cdn.bokeh.org/bokeh/release/bokeh-gl-3.1.1.min.js\", \"https://cdn.bokeh.org/bokeh/release/bokeh-widgets-3.1.1.min.js\", \"https://cdn.bokeh.org/bokeh/release/bokeh-tables-3.1.1.min.js\", \"https://cdn.bokeh.org/bokeh/release/bokeh-mathjax-3.1.1.min.js\"];\n  const css_urls = [];\n\n  const inline_js = [    function(Bokeh) {\n      Bokeh.set_log_level(\"info\");\n    },\nfunction(Bokeh) {\n    }\n  ];\n\n  function run_inline_js() {\n    if (root.Bokeh !== undefined || force === true) {\n          for (let i = 0; i < inline_js.length; i++) {\n      inline_js[i].call(root, root.Bokeh);\n    }\nif (force === true) {\n        display_loaded();\n      }} else if (Date.now() < root._bokeh_timeout) {\n      setTimeout(run_inline_js, 100);\n    } else if (!root._bokeh_failed_load) {\n      console.log(\"Bokeh: BokehJS failed to load within specified timeout.\");\n      root._bokeh_failed_load = true;\n    } else if (force !== true) {\n      const cell = $(document.getElementById(\"d062b751-d3af-4600-a4ea-9f33be595eb5\")).parents('.cell').data().cell;\n      cell.output_area.append_execute_result(NB_LOAD_WARNING)\n    }\n  }\n\n  if (root._bokeh_is_loading === 0) {\n    console.debug(\"Bokeh: BokehJS loaded, going straight to plotting\");\n    run_inline_js();\n  } else {\n    load_libs(css_urls, js_urls, function() {\n      console.debug(\"Bokeh: BokehJS plotting callback run at\", now());\n      run_inline_js();\n    });\n  }\n}(window));",
      "application/vnd.bokehjs_load.v0+json": ""
     },
     "metadata": {},
     "output_type": "display_data"
    },
    {
     "data": {
      "text/html": [
       "\n",
       "  <div id=\"d1cfa74a-28d5-4232-80b5-56d222bf479a\" data-root-id=\"p101732\" style=\"display: contents;\"></div>\n"
      ]
     },
     "metadata": {},
     "output_type": "display_data"
    },
    {
     "data": {
      "application/javascript": "(function(root) {\n  function embed_document(root) {\n  const docs_json = {\"f4494c14-9071-4b8a-9600-114fee54317b\":{\"version\":\"3.1.1\",\"title\":\"Bokeh Application\",\"defs\":[],\"roots\":[{\"type\":\"object\",\"name\":\"GridPlot\",\"id\":\"p101732\",\"attributes\":{\"rows\":null,\"cols\":null,\"toolbar\":{\"type\":\"object\",\"name\":\"Toolbar\",\"id\":\"p101731\",\"attributes\":{\"tools\":[{\"type\":\"object\",\"name\":\"ToolProxy\",\"id\":\"p101730\",\"attributes\":{\"tools\":[{\"type\":\"object\",\"name\":\"ResetTool\",\"id\":\"p101631\"},{\"type\":\"object\",\"name\":\"ResetTool\",\"id\":\"p101679\"}]}},{\"type\":\"object\",\"name\":\"BoxSelectTool\",\"id\":\"p101634\",\"attributes\":{\"renderers\":\"auto\",\"persistent\":true,\"dimensions\":\"height\",\"overlay\":{\"type\":\"object\",\"name\":\"BoxAnnotation\",\"id\":\"p101635\",\"attributes\":{\"syncable\":false,\"level\":\"overlay\",\"visible\":false,\"editable\":true,\"line_color\":\"black\",\"line_alpha\":1.0,\"line_width\":2,\"line_dash\":[4,4],\"fill_color\":\"lightgrey\",\"fill_alpha\":0.5}}}},{\"type\":\"object\",\"name\":\"HoverTool\",\"id\":\"p101678\",\"attributes\":{\"renderers\":\"auto\",\"muted_policy\":\"ignore\"}},{\"type\":\"object\",\"name\":\"BoxZoomTool\",\"id\":\"p101680\",\"attributes\":{\"overlay\":{\"type\":\"object\",\"name\":\"BoxAnnotation\",\"id\":\"p101681\",\"attributes\":{\"syncable\":false,\"level\":\"overlay\",\"visible\":false,\"left_units\":\"canvas\",\"right_units\":\"canvas\",\"bottom_units\":\"canvas\",\"top_units\":\"canvas\",\"line_color\":\"black\",\"line_alpha\":1.0,\"line_width\":2,\"line_dash\":[4,4],\"fill_color\":\"lightgrey\",\"fill_alpha\":0.5}}}}]}},\"children\":[[{\"type\":\"object\",\"name\":\"Figure\",\"id\":\"p101600\",\"attributes\":{\"width\":300,\"height\":300,\"x_range\":{\"type\":\"object\",\"name\":\"DataRange1d\",\"id\":\"p101601\"},\"y_range\":{\"type\":\"object\",\"name\":\"DataRange1d\",\"id\":\"p101649\"},\"x_scale\":{\"type\":\"object\",\"name\":\"LinearScale\",\"id\":\"p101613\"},\"y_scale\":{\"type\":\"object\",\"name\":\"LinearScale\",\"id\":\"p101615\"},\"title\":{\"type\":\"object\",\"name\":\"Title\",\"id\":\"p101605\"},\"renderers\":[{\"type\":\"object\",\"name\":\"GlyphRenderer\",\"id\":\"p101644\",\"attributes\":{\"data_source\":{\"type\":\"object\",\"name\":\"ColumnDataSource\",\"id\":\"p101591\",\"attributes\":{\"js_property_callbacks\":{\"type\":\"map\",\"entries\":[[\"change:selected\",[{\"type\":\"object\",\"name\":\"CustomJS\",\"id\":\"p101599\",\"attributes\":{\"args\":{\"type\":\"map\",\"entries\":[[\"source\",{\"id\":\"p101591\"}],[\"filter\",{\"type\":\"object\",\"name\":\"IndexFilter\",\"id\":\"p101596\",\"attributes\":{\"indices\":[0,1]}}]]},\"code\":\" \\nfilter['indices'] = [1];\\nfilter.change.emit();\\n\"}}]]]},\"selected\":{\"type\":\"object\",\"name\":\"Selection\",\"id\":\"p101593\",\"attributes\":{\"indices\":{\"type\":\"ndarray\",\"array\":{\"type\":\"bytes\",\"data\":\"AAAAAAEAAAA=\"},\"shape\":[2],\"dtype\":\"int32\",\"order\":\"little\"},\"line_indices\":[]}},\"selection_policy\":{\"type\":\"object\",\"name\":\"UnionRenderers\",\"id\":\"p101592\"},\"data\":{\"type\":\"map\",\"entries\":[[\"index\",{\"type\":\"ndarray\",\"array\":{\"type\":\"bytes\",\"data\":\"AAAAAAEAAAACAAAA\"},\"shape\":[3],\"dtype\":\"int32\",\"order\":\"little\"}],[\"times\",{\"type\":\"ndarray\",\"array\":[[1,2,3,4,5],[1,2,3,4,5],[1,2,3,4,5]],\"shape\":[3],\"dtype\":\"object\",\"order\":\"little\"}],[\"x0\",{\"type\":\"ndarray\",\"array\":{\"type\":\"bytes\",\"data\":\"AAAAAAAAAAAAAAAA\"},\"shape\":[3],\"dtype\":\"int32\",\"order\":\"little\"}],[\"y0\",{\"type\":\"ndarray\",\"array\":{\"type\":\"bytes\",\"data\":\"AAAAAAAAAABVVVVVVVXVP1VVVVVVVeU/\"},\"shape\":[3],\"dtype\":\"float64\",\"order\":\"little\"}],[\"y_val\",{\"type\":\"ndarray\",\"array\":[[0.0,0.40975512047806495,0.9239721901273399,0.48581782195485446,0.13141474609099923,0.6724850926842425],[0.3333333333333333,0.35705331610025703,0.8996235669193112,0.347956807602707,0.5955407801150606,0.028388385528561377],[0.6666666666666666,0.7386676076493053,0.6763776978398385,0.767237220732783,0.5150041712913965,0.4293323815283425]],\"shape\":[3],\"dtype\":\"object\",\"order\":\"little\"}],[\"y_hid\",{\"type\":\"ndarray\",\"array\":[[0.0,-0.6094688017437072,-0.033841206653283495,-0.9194229608455537,-0.9592063409745196,-0.9002367029739423],[-0.3333333333333333,-0.9234542782382649,-0.11771424434422761,-0.9798655847723398,-0.2812727104379409,-0.05113064061689854],[-0.6666666666666666,-0.09413352530364039,-0.38474606563026126,-0.9604699244006201,-0.1898328517165696,-0.5494701282935747]],\"shape\":[3],\"dtype\":\"object\",\"order\":\"little\"}]]}}},\"view\":{\"type\":\"object\",\"name\":\"CDSView\",\"id\":\"p101645\",\"attributes\":{\"filter\":{\"type\":\"object\",\"name\":\"AllIndices\",\"id\":\"p101646\"}}},\"glyph\":{\"type\":\"object\",\"name\":\"Circle\",\"id\":\"p101640\",\"attributes\":{\"x\":{\"type\":\"field\",\"field\":\"index\"},\"y\":{\"type\":\"field\",\"field\":\"y0\"},\"size\":{\"type\":\"value\",\"value\":10},\"line_color\":{\"type\":\"value\",\"value\":\"#1f77b4\"},\"fill_color\":{\"type\":\"value\",\"value\":\"#1f77b4\"}}},\"selection_glyph\":{\"type\":\"object\",\"name\":\"Circle\",\"id\":\"p101700\",\"attributes\":{\"line_color\":{\"type\":\"value\",\"value\":null},\"fill_color\":{\"type\":\"value\",\"value\":\"orange\"}}},\"nonselection_glyph\":{\"type\":\"object\",\"name\":\"Circle\",\"id\":\"p101641\",\"attributes\":{\"x\":{\"type\":\"field\",\"field\":\"index\"},\"y\":{\"type\":\"field\",\"field\":\"y0\"},\"size\":{\"type\":\"value\",\"value\":10},\"line_color\":{\"type\":\"value\",\"value\":\"#1f77b4\"},\"line_alpha\":{\"type\":\"value\",\"value\":0.1},\"fill_color\":{\"type\":\"value\",\"value\":\"#1f77b4\"},\"fill_alpha\":{\"type\":\"value\",\"value\":0.1},\"hatch_alpha\":{\"type\":\"value\",\"value\":0.1}}},\"hover_glyph\":{\"type\":\"object\",\"name\":\"Circle\",\"id\":\"p101642\",\"attributes\":{\"x\":{\"type\":\"field\",\"field\":\"index\"},\"y\":{\"type\":\"field\",\"field\":\"y0\"},\"size\":{\"type\":\"value\",\"value\":10},\"line_color\":{\"type\":\"value\",\"value\":\"red\"},\"fill_color\":{\"type\":\"value\",\"value\":\"red\"},\"hatch_color\":{\"type\":\"value\",\"value\":\"red\"}}},\"muted_glyph\":{\"type\":\"object\",\"name\":\"Circle\",\"id\":\"p101643\",\"attributes\":{\"x\":{\"type\":\"field\",\"field\":\"index\"},\"y\":{\"type\":\"field\",\"field\":\"y0\"},\"size\":{\"type\":\"value\",\"value\":10},\"line_color\":{\"type\":\"value\",\"value\":\"#1f77b4\"},\"line_alpha\":{\"type\":\"value\",\"value\":0.2},\"fill_color\":{\"type\":\"value\",\"value\":\"#1f77b4\"},\"fill_alpha\":{\"type\":\"value\",\"value\":0.2},\"hatch_alpha\":{\"type\":\"value\",\"value\":0.2}}}}}],\"toolbar\":{\"type\":\"object\",\"name\":\"Toolbar\",\"id\":\"p101603\",\"attributes\":{\"tools\":[{\"id\":\"p101631\"},{\"id\":\"p101634\"}]}},\"toolbar_location\":null,\"left\":[{\"type\":\"object\",\"name\":\"LinearAxis\",\"id\":\"p101624\",\"attributes\":{\"ticker\":{\"type\":\"object\",\"name\":\"BasicTicker\",\"id\":\"p101627\",\"attributes\":{\"mantissas\":[1,2,5]}},\"formatter\":{\"type\":\"object\",\"name\":\"BasicTickFormatter\",\"id\":\"p101626\"},\"major_label_policy\":{\"type\":\"object\",\"name\":\"AllLabels\",\"id\":\"p101625\"}}}],\"below\":[{\"type\":\"object\",\"name\":\"LinearAxis\",\"id\":\"p101617\",\"attributes\":{\"ticker\":{\"type\":\"object\",\"name\":\"BasicTicker\",\"id\":\"p101620\",\"attributes\":{\"mantissas\":[1,2,5]}},\"formatter\":{\"type\":\"object\",\"name\":\"BasicTickFormatter\",\"id\":\"p101619\"},\"major_label_policy\":{\"type\":\"object\",\"name\":\"AllLabels\",\"id\":\"p101618\"}}}],\"center\":[{\"type\":\"object\",\"name\":\"Grid\",\"id\":\"p101623\",\"attributes\":{\"axis\":{\"id\":\"p101617\"}}},{\"type\":\"object\",\"name\":\"Grid\",\"id\":\"p101630\",\"attributes\":{\"dimension\":1,\"axis\":{\"id\":\"p101624\"}}}]}},0,0],[{\"type\":\"object\",\"name\":\"Figure\",\"id\":\"p101647\",\"attributes\":{\"tags\":[{\"type\":\"map\",\"entries\":[[\"HoverTool\",{\"id\":\"p101678\"}],[\"ResetTool\",{\"id\":\"p101679\"}],[\"BoxZoomTool\",{\"id\":\"p101680\"}]]}],\"width\":300,\"height\":300,\"x_range\":{\"type\":\"object\",\"name\":\"DataRange1d\",\"id\":\"p101648\"},\"y_range\":{\"id\":\"p101649\"},\"x_scale\":{\"type\":\"object\",\"name\":\"LinearScale\",\"id\":\"p101660\"},\"y_scale\":{\"type\":\"object\",\"name\":\"LinearScale\",\"id\":\"p101662\"},\"title\":{\"type\":\"object\",\"name\":\"Title\",\"id\":\"p101652\"},\"renderers\":[{\"type\":\"object\",\"name\":\"GlyphRenderer\",\"id\":\"p101694\",\"attributes\":{\"data_source\":{\"id\":\"p101591\"},\"view\":{\"type\":\"object\",\"name\":\"CDSView\",\"id\":\"p101597\",\"attributes\":{\"filter\":{\"id\":\"p101596\"}}},\"glyph\":{\"type\":\"object\",\"name\":\"MultiLine\",\"id\":\"p101691\",\"attributes\":{\"xs\":{\"type\":\"field\",\"field\":\"times\"},\"ys\":{\"type\":\"field\",\"field\":\"y_val\"},\"line_color\":{\"type\":\"value\",\"value\":\"#1f77b4\"},\"line_width\":{\"type\":\"value\",\"value\":3}}},\"nonselection_glyph\":{\"type\":\"object\",\"name\":\"MultiLine\",\"id\":\"p101697\",\"attributes\":{\"ys\":{\"type\":\"field\",\"field\":\"0\"},\"line_width\":{\"type\":\"value\",\"value\":3}}},\"muted_glyph\":{\"type\":\"object\",\"name\":\"MultiLine\",\"id\":\"p101693\",\"attributes\":{\"xs\":{\"type\":\"field\",\"field\":\"times\"},\"ys\":{\"type\":\"field\",\"field\":\"y_val\"},\"line_color\":{\"type\":\"value\",\"value\":\"#1f77b4\"},\"line_alpha\":{\"type\":\"value\",\"value\":0.2},\"line_width\":{\"type\":\"value\",\"value\":3}}}}}],\"toolbar\":{\"type\":\"object\",\"name\":\"Toolbar\",\"id\":\"p101650\",\"attributes\":{\"tools\":[{\"id\":\"p101678\"},{\"id\":\"p101679\"},{\"id\":\"p101680\"}]}},\"toolbar_location\":null,\"left\":[{\"type\":\"object\",\"name\":\"LinearAxis\",\"id\":\"p101671\",\"attributes\":{\"ticker\":{\"type\":\"object\",\"name\":\"BasicTicker\",\"id\":\"p101674\",\"attributes\":{\"mantissas\":[1,2,5]}},\"formatter\":{\"type\":\"object\",\"name\":\"BasicTickFormatter\",\"id\":\"p101673\"},\"major_label_policy\":{\"type\":\"object\",\"name\":\"AllLabels\",\"id\":\"p101672\"}}}],\"below\":[{\"type\":\"object\",\"name\":\"LinearAxis\",\"id\":\"p101664\",\"attributes\":{\"ticker\":{\"type\":\"object\",\"name\":\"BasicTicker\",\"id\":\"p101667\",\"attributes\":{\"mantissas\":[1,2,5]}},\"formatter\":{\"type\":\"object\",\"name\":\"BasicTickFormatter\",\"id\":\"p101666\"},\"major_label_policy\":{\"type\":\"object\",\"name\":\"AllLabels\",\"id\":\"p101665\"}}}],\"center\":[{\"type\":\"object\",\"name\":\"Grid\",\"id\":\"p101670\",\"attributes\":{\"axis\":{\"id\":\"p101664\"}}},{\"type\":\"object\",\"name\":\"Grid\",\"id\":\"p101677\",\"attributes\":{\"dimension\":1,\"axis\":{\"id\":\"p101671\"}}}]}},0,1]]}}],\"callbacks\":{\"type\":\"map\"}}};\n  const render_items = [{\"docid\":\"f4494c14-9071-4b8a-9600-114fee54317b\",\"roots\":{\"p101732\":\"d1cfa74a-28d5-4232-80b5-56d222bf479a\"},\"root_ids\":[\"p101732\"]}];\n  root.Bokeh.embed.embed_items_notebook(docs_json, render_items);\n  }\n  if (root.Bokeh !== undefined) {\n    embed_document(root);\n  } else {\n    let attempts = 0;\n    const timer = setInterval(function(root) {\n      if (root.Bokeh !== undefined) {\n        clearInterval(timer);\n        embed_document(root);\n      } else {\n        attempts++;\n        if (attempts > 100) {\n          clearInterval(timer);\n          console.log(\"Bokeh: ERROR: Unable to run BokehJS code because BokehJS library is missing\");\n        }\n      }\n    }, 10, root)\n  }\n})(window);",
      "application/vnd.bokehjs_exec.v0+json": ""
     },
     "metadata": {
      "application/vnd.bokehjs_exec.v0+json": {
       "id": "p101732"
      }
     },
     "output_type": "display_data"
    }
   ],
   "source": [
    "import pandas as pd\n",
    "import numpy as np\n",
    "from bokeh.palettes import Spectral11\n",
    "from bokeh.plotting import figure, show, output_file\n",
    "from bokeh.models.tools import BoxSelectTool\n",
    "\n",
    "\n",
    "toy_df = pd.DataFrame({'times':[[1,2,3,4,5] for i in range(3)],'y_val':[[i/3] + list(np.random.rand(5)) for i in range(3)],'y_hid':[[-i/3] + list(-np.random.rand(5)) for i in range(3)]})\n",
    "toy_df.insert(1,'y0',toy_df[\"y_val\"].apply(lambda x: x[0]))\n",
    "toy_df.insert(1,'x0',[0,0,0])\n",
    "\n",
    "\n",
    "# create ColumnDataSource from a dict\n",
    "source = ColumnDataSource(toy_df)\n",
    "# from bokeh.core.properties import Seq\n",
    "# source.selected.indices = Seq(None)\n",
    "source.selected.update(indices=toy_df.index[:2])\n",
    "\n",
    "view = bkmod.CDSView(filter=bkmod.IndexFilter(list(source.selected.indices)))\n",
    "# source.selected.set_selected([1])\n",
    "# create a view using an IndexFilter with the index positions [0, 2, 4]\n",
    "# view = CDSView(source=source, filters=[IndexFilter([0, 2, 4])])\n",
    "\n",
    "# setup tools\n",
    "select_callback = bkmod.CustomJS(args=dict(source=source,filter=view.filter), code=\"\"\" \n",
    "filter['indices'] = [1];\n",
    "filter.change.emit();\n",
    "\"\"\")\n",
    "                                 \n",
    "# source.js_on_change('selected',select_callback)\n",
    "source.js_on_change('selected',select_callback)\n",
    "\n",
    "# create a first plot with all data in the ColumnDataSource\n",
    "y0 = figure(height=300, width=300, tools=[ \"reset\"])\n",
    "y0.add_tools(BoxSelectTool(dimensions='height',persistent=True))\n",
    "# y0.tools[2].select(Index=[0])\n",
    "\n",
    "\n",
    "c = y0.circle(x='index', y=\"y0\", size=10, hover_color=\"red\", source=source)\n",
    "\n",
    "# create a second plot with a subset of ColumnDataSource, based on view\n",
    "tools2 = [\"hover\", \"reset\",'box_zoom']\n",
    "linefig = figure(height=300, width=300,tools=tools2)\n",
    "fig = linefig\n",
    "fig.tags = [{str(type(t)).split('.')[-1].split('\\'')[0]:t for t in fig.tools}]\n",
    "fig.tags[0]['HoverTool'].update(muted_policy='ignore')\n",
    "\n",
    "# from bokeh.models import CDSView, ColumnDataSource, IndexFilterq\n",
    "\n",
    "mlines = linefig.multi_line(xs='times', ys='y_val',source=source,view=view, line_width=3)\n",
    "# mlines.update(propagate_hover=True)\n",
    "\n",
    "# source.js_on_change('selected', bkmod.CustomJS(args=dict(source=source, view=view), code=\"\"\"\n",
    "# view.filter.indices = [0];\n",
    "# view.change.emit();\n",
    "# \"\"\"))\n",
    "\n",
    "\n",
    "\n",
    "mlines.muted = False\n",
    "# mlines.nonselection_glyph.visible = False\n",
    "mlines.nonselection_glyph = MultiLine(line_color='black', line_width=3,ys='0')\n",
    "\n",
    "# update(line_width=10,line_alpha=0,ys='y_hid')\n",
    "\n",
    "all_lines = [el for el in mlines.references() if type(el)==bkmod.MultiLine]\n",
    "# fig.tags[0]['HoverTool'].renderers = all_lines[:1]\n",
    "# show both plots next to each other in a gridplot layout\n",
    "\n",
    "y0.y_range = linefig.y_range\n",
    "# c.nonselection_glyph.visible = False\n",
    "\n",
    "\n",
    "\n",
    "# mlines.add_layout(bkmod.Legend())\n",
    "\n",
    "from bokeh.models.glyphs import Circle, MultiLine\n",
    "c.selection_glyph = Circle(fill_color='orange', line_color=None)\n",
    "# c.nonselection_glyph = Circle(fill_color=None, line_color=None)\n",
    "\n",
    "# mlines.nonselection_glyph = MultiLine(line_color=None, line_width=3)\n",
    "\n",
    "# view.filter.indices = [1]\n",
    "bk.output_notebook()\n",
    "\n",
    "import bokeh.layouts as mklay\n",
    "show(mklay.gridplot([[y0, linefig]]))\n",
    "\n"
   ]
  },
  {
   "cell_type": "code",
   "execution_count": 256,
   "metadata": {},
   "outputs": [
    {
     "data": {
      "text/plain": [
       "[0, 1]"
      ]
     },
     "execution_count": 256,
     "metadata": {},
     "output_type": "execute_result"
    }
   ],
   "source": [
    "view.filter.indices"
   ]
  },
  {
   "cell_type": "code",
   "execution_count": 249,
   "metadata": {},
   "outputs": [
    {
     "ename": "AttributeError",
     "evalue": "unexpected attribute 'on' to Selection, possible attributes are image_indices, indices, js_event_callbacks, js_property_callbacks, line_indices, multiline_indices, name, subscribed_events, syncable or tags",
     "output_type": "error",
     "traceback": [
      "\u001b[0;31m---------------------------------------------------------------------------\u001b[0m",
      "\u001b[0;31mAttributeError\u001b[0m                            Traceback (most recent call last)",
      "Cell \u001b[0;32mIn[249], line 1\u001b[0m\n\u001b[0;32m----> 1\u001b[0m source\u001b[39m.\u001b[39;49mselected\u001b[39m.\u001b[39;49mon\n",
      "File \u001b[0;32m~/abp/WireDAQ/Executables/py_wireDAQ/lib/python3.10/site-packages/bokeh/core/has_props.py:360\u001b[0m, in \u001b[0;36mHasProps.__getattr__\u001b[0;34m(self, name)\u001b[0m\n\u001b[1;32m    357\u001b[0m \u001b[39mif\u001b[39;00m \u001b[39misinstance\u001b[39m(descriptor, \u001b[39mproperty\u001b[39m): \u001b[39m# Python property\u001b[39;00m\n\u001b[1;32m    358\u001b[0m     \u001b[39mreturn\u001b[39;00m \u001b[39msuper\u001b[39m()\u001b[39m.\u001b[39m\u001b[39m__getattribute__\u001b[39m(name)\n\u001b[0;32m--> 360\u001b[0m \u001b[39mself\u001b[39;49m\u001b[39m.\u001b[39;49m_raise_attribute_error_with_matches(name, properties)\n",
      "File \u001b[0;32m~/abp/WireDAQ/Executables/py_wireDAQ/lib/python3.10/site-packages/bokeh/core/has_props.py:368\u001b[0m, in \u001b[0;36mHasProps._raise_attribute_error_with_matches\u001b[0;34m(self, name, properties)\u001b[0m\n\u001b[1;32m    365\u001b[0m \u001b[39mif\u001b[39;00m \u001b[39mnot\u001b[39;00m matches:\n\u001b[1;32m    366\u001b[0m     matches, text \u001b[39m=\u001b[39m \u001b[39msorted\u001b[39m(properties), \u001b[39m\"\u001b[39m\u001b[39mpossible\u001b[39m\u001b[39m\"\u001b[39m\n\u001b[0;32m--> 368\u001b[0m \u001b[39mraise\u001b[39;00m \u001b[39mAttributeError\u001b[39;00m(\u001b[39mf\u001b[39m\u001b[39m\"\u001b[39m\u001b[39munexpected attribute \u001b[39m\u001b[39m{\u001b[39;00mname\u001b[39m!r}\u001b[39;00m\u001b[39m to \u001b[39m\u001b[39m{\u001b[39;00m\u001b[39mself\u001b[39m\u001b[39m.\u001b[39m\u001b[39m__class__\u001b[39m\u001b[39m.\u001b[39m\u001b[39m__name__\u001b[39m\u001b[39m}\u001b[39;00m\u001b[39m, \u001b[39m\u001b[39m{\u001b[39;00mtext\u001b[39m}\u001b[39;00m\u001b[39m attributes are \u001b[39m\u001b[39m{\u001b[39;00mnice_join(matches)\u001b[39m}\u001b[39;00m\u001b[39m\"\u001b[39m)\n",
      "\u001b[0;31mAttributeError\u001b[0m: unexpected attribute 'on' to Selection, possible attributes are image_indices, indices, js_event_callbacks, js_property_callbacks, line_indices, multiline_indices, name, subscribed_events, syncable or tags"
     ]
    }
   ],
   "source": [
    "source.js_on_change"
   ]
  },
  {
   "cell_type": "code",
   "execution_count": 187,
   "metadata": {},
   "outputs": [
    {
     "data": {
      "text/plain": [
       "[0, 1]"
      ]
     },
     "execution_count": 187,
     "metadata": {},
     "output_type": "execute_result"
    }
   ],
   "source": [
    "view.filter.indices"
   ]
  },
  {
   "cell_type": "code",
   "execution_count": 151,
   "metadata": {},
   "outputs": [
    {
     "data": {
      "text/plain": [
       "'times'"
      ]
     },
     "execution_count": 151,
     "metadata": {},
     "output_type": "execute_result"
    }
   ],
   "source": [
    "mlines.nonselection_glyph.ys = [-1,-1,-1,-1,-1]"
   ]
  },
  {
   "cell_type": "code",
   "execution_count": 142,
   "metadata": {},
   "outputs": [
    {
     "data": {
      "text/plain": [
       "'y_val'"
      ]
     },
     "execution_count": 142,
     "metadata": {},
     "output_type": "execute_result"
    }
   ],
   "source": [
    "mlines.nonselection_glyph.ys"
   ]
  },
  {
   "cell_type": "code",
   "execution_count": 55,
   "metadata": {},
   "outputs": [
    {
     "data": {
      "text/html": [
       "<div style=\"display: table;\"><div style=\"display: table-row;\"><div style=\"display: table-cell;\"><b title=\"bokeh.models.selections.Selection\">Selection</b>(</div><div style=\"display: table-cell;\">id&nbsp;=&nbsp;'p13774', <span id=\"p14795\" style=\"cursor: pointer;\">&hellip;)</span></div></div><div class=\"p14794\" style=\"display: none;\"><div style=\"display: table-cell;\"></div><div style=\"display: table-cell;\">image_indices&nbsp;=&nbsp;[],</div></div><div class=\"p14794\" style=\"display: none;\"><div style=\"display: table-cell;\"></div><div style=\"display: table-cell;\">indices&nbsp;=&nbsp;RangeIndex(start=0, stop=2, step=1),</div></div><div class=\"p14794\" style=\"display: none;\"><div style=\"display: table-cell;\"></div><div style=\"display: table-cell;\">js_event_callbacks&nbsp;=&nbsp;{},</div></div><div class=\"p14794\" style=\"display: none;\"><div style=\"display: table-cell;\"></div><div style=\"display: table-cell;\">js_property_callbacks&nbsp;=&nbsp;{},</div></div><div class=\"p14794\" style=\"display: none;\"><div style=\"display: table-cell;\"></div><div style=\"display: table-cell;\">line_indices&nbsp;=&nbsp;[],</div></div><div class=\"p14794\" style=\"display: none;\"><div style=\"display: table-cell;\"></div><div style=\"display: table-cell;\">multiline_indices&nbsp;=&nbsp;{},</div></div><div class=\"p14794\" style=\"display: none;\"><div style=\"display: table-cell;\"></div><div style=\"display: table-cell;\">name&nbsp;=&nbsp;None,</div></div><div class=\"p14794\" style=\"display: none;\"><div style=\"display: table-cell;\"></div><div style=\"display: table-cell;\">subscribed_events&nbsp;=&nbsp;PropertyValueSet(),</div></div><div class=\"p14794\" style=\"display: none;\"><div style=\"display: table-cell;\"></div><div style=\"display: table-cell;\">syncable&nbsp;=&nbsp;True,</div></div><div class=\"p14794\" style=\"display: none;\"><div style=\"display: table-cell;\"></div><div style=\"display: table-cell;\">tags&nbsp;=&nbsp;[])</div></div></div>\n",
       "<script>\n",
       "(function() {\n",
       "  let expanded = false;\n",
       "  const ellipsis = document.getElementById(\"p14795\");\n",
       "  ellipsis.addEventListener(\"click\", function() {\n",
       "    const rows = document.getElementsByClassName(\"p14794\");\n",
       "    for (let i = 0; i < rows.length; i++) {\n",
       "      const el = rows[i];\n",
       "      el.style.display = expanded ? \"none\" : \"table-row\";\n",
       "    }\n",
       "    ellipsis.innerHTML = expanded ? \"&hellip;)\" : \"&lsaquo;&lsaquo;&lsaquo;\";\n",
       "    expanded = !expanded;\n",
       "  });\n",
       "})();\n",
       "</script>\n"
      ],
      "text/plain": [
       "Selection(id='p13774', ...)"
      ]
     },
     "execution_count": 55,
     "metadata": {},
     "output_type": "execute_result"
    }
   ],
   "source": [
    "source.selected"
   ]
  },
  {
   "cell_type": "code",
   "execution_count": 74,
   "metadata": {},
   "outputs": [],
   "source": [
    "mlines.update(propagate_hover=True)"
   ]
  },
  {
   "cell_type": "code",
   "execution_count": 69,
   "metadata": {},
   "outputs": [
    {
     "data": {
      "text/plain": [
       "RangeIndex(start=0, stop=2, step=1)"
      ]
     },
     "execution_count": 69,
     "metadata": {},
     "output_type": "execute_result"
    }
   ],
   "source": [
    "source.selected.indices"
   ]
  },
  {
   "cell_type": "code",
   "execution_count": 63,
   "metadata": {},
   "outputs": [
    {
     "ename": "ValueError",
     "evalue": "failed to validate HoverTool(id='p13854', ...).renderers: expected an element of either Auto or List(Instance(DataRenderer)), got Selection(id='p13774', ...)",
     "output_type": "error",
     "traceback": [
      "\u001b[0;31m---------------------------------------------------------------------------\u001b[0m",
      "\u001b[0;31mValueError\u001b[0m                                Traceback (most recent call last)",
      "Cell \u001b[0;32mIn[63], line 1\u001b[0m\n\u001b[0;32m----> 1\u001b[0m fig\u001b[39m.\u001b[39;49mtags[\u001b[39m0\u001b[39;49m][\u001b[39m'\u001b[39;49m\u001b[39mHoverTool\u001b[39;49m\u001b[39m'\u001b[39;49m]\u001b[39m.\u001b[39;49mrenderers \u001b[39m=\u001b[39m source\u001b[39m.\u001b[39mselected\n",
      "File \u001b[0;32m~/abp/WireDAQ/Executables/py_wireDAQ/lib/python3.10/site-packages/bokeh/core/has_props.py:327\u001b[0m, in \u001b[0;36mHasProps.__setattr__\u001b[0;34m(self, name, value)\u001b[0m\n\u001b[1;32m    325\u001b[0m properties \u001b[39m=\u001b[39m \u001b[39mself\u001b[39m\u001b[39m.\u001b[39mproperties(_with_props\u001b[39m=\u001b[39m\u001b[39mTrue\u001b[39;00m)\n\u001b[1;32m    326\u001b[0m \u001b[39mif\u001b[39;00m name \u001b[39min\u001b[39;00m properties:\n\u001b[0;32m--> 327\u001b[0m     \u001b[39mreturn\u001b[39;00m \u001b[39msuper\u001b[39;49m()\u001b[39m.\u001b[39;49m\u001b[39m__setattr__\u001b[39;49m(name, value)\n\u001b[1;32m    329\u001b[0m descriptor \u001b[39m=\u001b[39m \u001b[39mgetattr\u001b[39m(\u001b[39mself\u001b[39m\u001b[39m.\u001b[39m\u001b[39m__class__\u001b[39m, name, \u001b[39mNone\u001b[39;00m)\n\u001b[1;32m    330\u001b[0m \u001b[39mif\u001b[39;00m \u001b[39misinstance\u001b[39m(descriptor, \u001b[39mproperty\u001b[39m): \u001b[39m# Python property\u001b[39;00m\n",
      "File \u001b[0;32m~/abp/WireDAQ/Executables/py_wireDAQ/lib/python3.10/site-packages/bokeh/core/property/descriptors.py:332\u001b[0m, in \u001b[0;36mPropertyDescriptor.__set__\u001b[0;34m(self, obj, value, setter)\u001b[0m\n\u001b[1;32m    329\u001b[0m     class_name \u001b[39m=\u001b[39m obj\u001b[39m.\u001b[39m\u001b[39m__class__\u001b[39m\u001b[39m.\u001b[39m\u001b[39m__name__\u001b[39m\n\u001b[1;32m    330\u001b[0m     \u001b[39mraise\u001b[39;00m \u001b[39mRuntimeError\u001b[39;00m(\u001b[39mf\u001b[39m\u001b[39m\"\u001b[39m\u001b[39m{\u001b[39;00mclass_name\u001b[39m}\u001b[39;00m\u001b[39m.\u001b[39m\u001b[39m{\u001b[39;00m\u001b[39mself\u001b[39m\u001b[39m.\u001b[39mname\u001b[39m}\u001b[39;00m\u001b[39m is a readonly property\u001b[39m\u001b[39m\"\u001b[39m)\n\u001b[0;32m--> 332\u001b[0m value \u001b[39m=\u001b[39m \u001b[39mself\u001b[39;49m\u001b[39m.\u001b[39;49mproperty\u001b[39m.\u001b[39;49mprepare_value(obj, \u001b[39mself\u001b[39;49m\u001b[39m.\u001b[39;49mname, value)\n\u001b[1;32m    333\u001b[0m old \u001b[39m=\u001b[39m \u001b[39mself\u001b[39m\u001b[39m.\u001b[39m_get(obj)\n\u001b[1;32m    334\u001b[0m \u001b[39mself\u001b[39m\u001b[39m.\u001b[39m_set(obj, old, value, setter\u001b[39m=\u001b[39msetter)\n",
      "File \u001b[0;32m~/abp/WireDAQ/Executables/py_wireDAQ/lib/python3.10/site-packages/bokeh/core/property/bases.py:365\u001b[0m, in \u001b[0;36mProperty.prepare_value\u001b[0;34m(self, owner, name, value, hint)\u001b[0m\n\u001b[1;32m    363\u001b[0m \u001b[39melse\u001b[39;00m:\n\u001b[1;32m    364\u001b[0m     obj_repr \u001b[39m=\u001b[39m owner \u001b[39mif\u001b[39;00m \u001b[39misinstance\u001b[39m(owner, HasProps) \u001b[39melse\u001b[39;00m owner\u001b[39m.\u001b[39m\u001b[39m__name__\u001b[39m\n\u001b[0;32m--> 365\u001b[0m     \u001b[39mraise\u001b[39;00m \u001b[39mValueError\u001b[39;00m(\u001b[39mf\u001b[39m\u001b[39m\"\u001b[39m\u001b[39mfailed to validate \u001b[39m\u001b[39m{\u001b[39;00mobj_repr\u001b[39m}\u001b[39;00m\u001b[39m.\u001b[39m\u001b[39m{\u001b[39;00mname\u001b[39m}\u001b[39;00m\u001b[39m: \u001b[39m\u001b[39m{\u001b[39;00merror\u001b[39m}\u001b[39;00m\u001b[39m\"\u001b[39m)\n\u001b[1;32m    367\u001b[0m \u001b[39mif\u001b[39;00m \u001b[39misinstance\u001b[39m(owner, HasProps):\n\u001b[1;32m    368\u001b[0m     obj \u001b[39m=\u001b[39m owner\n",
      "\u001b[0;31mValueError\u001b[0m: failed to validate HoverTool(id='p13854', ...).renderers: expected an element of either Auto or List(Instance(DataRenderer)), got Selection(id='p13774', ...)"
     ]
    }
   ],
   "source": [
    "fig.tags[0]['HoverTool'].renderers = source.selected"
   ]
  },
  {
   "cell_type": "code",
   "execution_count": 88,
   "metadata": {},
   "outputs": [
    {
     "data": {
      "text/plain": [
       "[MultiLine(id='p14929', ...),\n",
       " MultiLine(id='p14934', ...),\n",
       " MultiLine(id='p14927', ...)]"
      ]
     },
     "execution_count": 88,
     "metadata": {},
     "output_type": "execute_result"
    }
   ],
   "source": [
    "[el for el in mlines.references() if type(el)==bkmod.MultiLine]"
   ]
  },
  {
   "cell_type": "code",
   "execution_count": 80,
   "metadata": {},
   "outputs": [
    {
     "data": {
      "text/plain": [
       "{AllIndices(id='p14932', ...),\n",
       " CDSView(id='p14931', ...),\n",
       " ColumnDataSource(id='p14832', ...),\n",
       " GlyphRenderer(id='p14930', ...),\n",
       " MultiLine(id='p14927', ...),\n",
       " MultiLine(id='p14929', ...),\n",
       " MultiLine(id='p14934', ...),\n",
       " Selection(id='p14834', ...),\n",
       " UnionRenderers(id='p14833', ...)}"
      ]
     },
     "execution_count": 80,
     "metadata": {},
     "output_type": "execute_result"
    }
   ],
   "source": [
    "for mlines.references()"
   ]
  },
  {
   "cell_type": "code",
   "execution_count": null,
   "metadata": {},
   "outputs": [],
   "source": [
    "[toy_df[name].values[0] for name in toy_df]a"
   ]
  },
  {
   "cell_type": "code",
   "execution_count": null,
   "metadata": {},
   "outputs": [],
   "source": [
    "from bokeh.layouts import gridplot\n",
    "from bokeh.models import CDSView, ColumnDataSource, IndexFilter\n",
    "from bokeh.plotting import figure, show\n",
    "\n",
    "# create ColumnDataSource from a dict\n",
    "source = ColumnDataSource(data=dict(x=[1, 2, 3, 4, 5], y=[1, 2, 3, 4, 5]))\n",
    "\n",
    "# create a view using an IndexFilter with the index positions [0, 2, 4]\n",
    "view = CDSView(filter=IndexFilter([0, 2, 4]))\n",
    "\n",
    "# setup tools\n",
    "tools = [\"box_select\", \"hover\", \"reset\"]\n",
    "\n",
    "# create a first plot with all data in the ColumnDataSource\n",
    "p = figure(height=300, width=300, tools=tools)\n",
    "p.circle(x=\"x\", y=\"y\", size=10, hover_color=\"red\", source=source)\n",
    "\n",
    "# create a second plot with a subset of ColumnDataSource, based on view\n",
    "p_filtered = figure(height=300, width=300, tools=tools)\n",
    "p_filtered.circle(x=\"x\", y=\"y\", size=10, hover_color=\"red\", source=source, view=view)\n",
    "\n",
    "# show both plots next to each other in a gridplot layout\n",
    "show(gridplot([[p, p_filtered]]))"
   ]
  },
  {
   "cell_type": "code",
   "execution_count": null,
   "metadata": {},
   "outputs": [],
   "source": [
    "import pandas as pd\n",
    "from bokeh.core.properties import value\n",
    "from bokeh.plotting import figure, show\n",
    "from bokeh.io import output_notebook\n",
    "from bokeh.models import ColumnDataSource\n",
    "\n",
    "bokeh_test=pd.read_excel(data, 'bokeh')\n",
    "display(bokeh_test)\n",
    "\n",
    "\n",
    "\n",
    "output_notebook()\n",
    "source=ColumnDataSource(data=bokeh_test)\n",
    "\n",
    "p = figure(plot_height=400, \n",
    "            plot_width=400,\n",
    "            x_axis_label='x', \n",
    "            y_axis_label='y'\n",
    "           )\n",
    "\n",
    "p.multi_line(xs='x', \n",
    "        ys='y',\n",
    "        source=source\n",
    "       )\n",
    "\n",
    "show(p)"
   ]
  }
 ],
 "metadata": {
  "kernelspec": {
   "display_name": "py_wireDAQ",
   "language": "python",
   "name": "py_wiredaq"
  },
  "language_info": {
   "codemirror_mode": {
    "name": "ipython",
    "version": 3
   },
   "file_extension": ".py",
   "mimetype": "text/x-python",
   "name": "python",
   "nbconvert_exporter": "python",
   "pygments_lexer": "ipython3",
   "version": "3.10.10"
  },
  "orig_nbformat": 4
 },
 "nbformat": 4,
 "nbformat_minor": 2
}

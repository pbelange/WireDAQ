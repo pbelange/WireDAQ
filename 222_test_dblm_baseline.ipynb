{
 "cells": [
  {
   "cell_type": "code",
   "execution_count": null,
   "metadata": {},
   "outputs": [],
   "source": [
    "import numpy as np\n",
    "import pandas as pd\n",
    "from pathlib import Path\n",
    "import gc\n",
    "\n",
    "# BOKEH\n",
    "import matplotlib.pyplot as plt\n",
    "\n",
    "# Local imports\n",
    "#------------------------------------------------\n",
    "import WireDAQ.PandasPlus           # Make sure this import is after pandas\n",
    "import WireDAQ.Constants as cst\n",
    "import WireDAQ.NXCALS as nx\n",
    "import WireDAQ.Parser as parser\n",
    "import WireDAQ.Efficiency as eff\n",
    "\n",
    "\n",
    "# Creating NXCALS variable containers\n",
    "#------------------------------------------------\n",
    "wires     = {'B1': [nx.NXCALSWire(loc = loc) for loc in ['L1B1','L5B1']],\n",
    "             'B2': [nx.NXCALSWire(loc = loc) for loc in ['R1B2','R5B2']]}\n",
    "beams     = [nx.NXCALSBeam(name) for name in ['B1','B2']]\n",
    "LHC       = nx.NXCALSLHC()\n",
    "b_slots   = np.arange(3564)\n",
    "#------------------------------------------------\n",
    "\n",
    "\n",
    "# Setting default values\n",
    "#------------------------------------------------\n",
    "_default_fig_width  = 2000\n",
    "_default_fig_height = 400\n",
    "_default_fig_pad    = 100\n",
    "\n",
    "_default_device = 'DBLM'\n",
    "\n",
    "_default_path     = '/eos/project/l/lhc-lumimod/LuminosityFollowUp/2023/'\n",
    "_default_out      = '/eos/user/p/phbelang/www/Monitoring_BBCW/DBLM'\n"
   ]
  },
  {
   "cell_type": "code",
   "execution_count": null,
   "metadata": {},
   "outputs": [],
   "source": [
    "FILL = 8786\n",
    "data_path = _default_path\n",
    "# Fixing data path\n",
    "raw_data    = data_path + '/rawdata/'\n",
    "\n",
    "\n",
    "# Finding filling pattern\n",
    "#-------------------------------------------------\n",
    "bb_df_b1,bb_df_b2 = parser.fill_filling_pattern(fill=FILL,data_path= raw_data,n_LR = 21)\n",
    "#-------------------------------------------------\n",
    "\n",
    "# Declaring master bin times\n",
    "#-------------------------------------------------\n",
    "dt = 60\n",
    "unix_s,unix_e = parser.fill_unix_times(FILL,data_path=raw_data )\n",
    "unix_bins     = np.arange(unix_s,unix_e,dt/1e-9)\n",
    "#-------------------------------------------------\n",
    "\n",
    "# Import and bin dBLM \n",
    "#-------------------------------------------------\n",
    "variables = []\n",
    "for beam in beams:\n",
    "    variables += beam['dBLM_Amp'].values()\n",
    "\n",
    "dblm = parser.from_parquet2bin(fill=FILL,variables = variables,bins=unix_bins,beamMode = None,data_path= raw_data )\n",
    "    "
   ]
  },
  {
   "cell_type": "code",
   "execution_count": null,
   "metadata": {},
   "outputs": [],
   "source": [
    "crop_by   = 10\n",
    "data_dblm = {}\n",
    "for beam in beams:\n",
    "    for dblmType in ['V','H-V-S']:\n",
    "        observable       = beam.dBLM_Amp[dblmType]\n",
    "        times_dblm,_data = dblm[observable].dropna().to_2D()\n",
    "        \n",
    "        data_dblm[f'{beam.name}:' + dblmType] = _data[crop_by:-crop_by]\n",
    "\n",
    "times = times_dblm[crop_by:-crop_by]\n",
    "\n",
    "\n",
    "per_beam_results = {}\n",
    "for beam in beams:\n",
    "    dblmTypes = [f'{beam.name}:' + dblmType for dblmType in ['V','H-V-S']]\n",
    "\n",
    "    # Substracting baseline\n",
    "    #---------------------------------\n",
    "    baseline = {}\n",
    "    for dblmType in dblmTypes:\n",
    "        baseline[dblmType] = np.min(data_dblm[dblmType],axis=0)\n",
    "        # baseline[dblmType] = np.mean(np.sort(data_dblm[dblmType][:200,:],axis=0)[:100,:],axis=0).astype('int32')\n",
    "\n",
    "    for dblmType in dblmTypes:\n",
    "        data_dblm[dblmType] -= baseline[dblmType]\n",
    "    #---------------------------------\n",
    "\n",
    "    per_beam_results[f'{beam.name}:V']     = list(data_dblm[f'{beam.name}:V'])\n",
    "    per_beam_results[f'{beam.name}:H-V-S'] = list(data_dblm[f'{beam.name}:H-V-S'])\n",
    "    per_beam_results[f'{beam.name}:tot']   = list(data_dblm[f'{beam.name}:V']+data_dblm[f'{beam.name}:H-V-S'])\n",
    "old = pd.DataFrame(per_beam_results,index=times)"
   ]
  },
  {
   "cell_type": "code",
   "execution_count": null,
   "metadata": {},
   "outputs": [],
   "source": [
    "crop_by   = 10\n",
    "data_dblm = {}\n",
    "for beam in beams:\n",
    "    for dblmType in ['V','H-V-S']:\n",
    "        observable       = beam.dBLM_Amp[dblmType]\n",
    "        times_dblm,_data = dblm[observable].dropna().to_2D()\n",
    "        \n",
    "        data_dblm[f'{beam.name}:' + dblmType] = _data[crop_by:-crop_by]\n",
    "\n",
    "times = times_dblm[crop_by:-crop_by]\n",
    "\n",
    "\n",
    "per_beam_results = {}\n",
    "for beam in beams:\n",
    "    dblmTypes = [f'{beam.name}:' + dblmType for dblmType in ['V','H-V-S']]\n",
    "\n",
    "    # Substracting baseline\n",
    "    #---------------------------------\n",
    "    baseline = {}\n",
    "    for dblmType in dblmTypes:\n",
    "        # baseline[dblmType] = np.min(data_dblm[dblmType],axis=0)\n",
    "        baseline[dblmType] = np.mean(np.sort(data_dblm[dblmType][:200,:],axis=0)[50:100,:],axis=0).astype('int32')\n",
    "\n",
    "    for dblmType in dblmTypes:\n",
    "        data_dblm[dblmType] -= baseline[dblmType]\n",
    "        data_dblm[dblmType][data_dblm[dblmType]<= 0] = 0\n",
    "    #---------------------------------\n",
    "\n",
    "    per_beam_results[f'{beam.name}:V']     = list(data_dblm[f'{beam.name}:V'])\n",
    "    per_beam_results[f'{beam.name}:H-V-S'] = list(data_dblm[f'{beam.name}:H-V-S'])\n",
    "    per_beam_results[f'{beam.name}:tot']   = list(data_dblm[f'{beam.name}:V']+data_dblm[f'{beam.name}:H-V-S'])\n",
    "processed = pd.DataFrame(per_beam_results,index=times)"
   ]
  },
  {
   "cell_type": "code",
   "execution_count": null,
   "metadata": {},
   "outputs": [],
   "source": [
    "np.min(data_dblm[dblmType],axis=0)"
   ]
  },
  {
   "cell_type": "code",
   "execution_count": null,
   "metadata": {},
   "outputs": [],
   "source": [
    "np.shape(np.mean(np.sort(data_dblm[dblmType][:200,:],axis=0)[:100,:],axis=0))"
   ]
  },
  {
   "cell_type": "code",
   "execution_count": null,
   "metadata": {},
   "outputs": [],
   "source": [
    "np.min(data_dblm[dblmType],axis=0)"
   ]
  },
  {
   "cell_type": "code",
   "execution_count": null,
   "metadata": {},
   "outputs": [],
   "source": [
    "np.mean(np.sort(data_dblm[dblmType][:200,:],axis=0)[:100,:],axis=0).astype('int32')"
   ]
  },
  {
   "cell_type": "code",
   "execution_count": null,
   "metadata": {},
   "outputs": [],
   "source": [
    "np.shape(np.min(data_dblm[dblmType],axis=0))"
   ]
  },
  {
   "cell_type": "code",
   "execution_count": null,
   "metadata": {},
   "outputs": [],
   "source": [
    "np.shape(data_dblm[dblmType])"
   ]
  },
  {
   "cell_type": "code",
   "execution_count": null,
   "metadata": {},
   "outputs": [],
   "source": [
    "np.shape(data_dblm[dblmType][:200,:])\n"
   ]
  },
  {
   "cell_type": "code",
   "execution_count": null,
   "metadata": {},
   "outputs": [],
   "source": [
    "data_dblm[dblmType][:200,:]"
   ]
  },
  {
   "cell_type": "code",
   "execution_count": null,
   "metadata": {},
   "outputs": [],
   "source": [
    "np.sort(data_dblm[dblmType][:200,0])"
   ]
  },
  {
   "cell_type": "code",
   "execution_count": null,
   "metadata": {},
   "outputs": [],
   "source": [
    "np.shape(np.mean(np.sort(data_dblm[dblmType][:200,:],axis=0)[:100,:],axis=0))"
   ]
  },
  {
   "cell_type": "code",
   "execution_count": null,
   "metadata": {},
   "outputs": [],
   "source": [
    "processed"
   ]
  },
  {
   "cell_type": "code",
   "execution_count": null,
   "metadata": {},
   "outputs": [],
   "source": [
    "dblm"
   ]
  },
  {
   "cell_type": "code",
   "execution_count": null,
   "metadata": {},
   "outputs": [],
   "source": [
    "beam = beams[1]\n",
    "dblmType = 'V'\n",
    "observable = beam.dBLM_Amp[dblmType]\n",
    "dblm[observable].dropna().apply(lambda line:line[1335])"
   ]
  },
  {
   "cell_type": "code",
   "execution_count": null,
   "metadata": {},
   "outputs": [],
   "source": [
    "beam.dBLM_Amp['V'],beam.dBLM_Amp['H-V-S']"
   ]
  },
  {
   "cell_type": "code",
   "execution_count": 88,
   "metadata": {},
   "outputs": [
    {
     "data": {
      "text/plain": [
       "'HC.TZ76.BLMDIAMOND3.5:AcquisitionIntegral:intSumBuf1'"
      ]
     },
     "execution_count": 88,
     "metadata": {},
     "output_type": "execute_result"
    }
   ],
   "source": [
    "observable"
   ]
  },
  {
   "cell_type": "code",
   "execution_count": 91,
   "metadata": {},
   "outputs": [
    {
     "data": {
      "text/plain": [
       "14256"
      ]
     },
     "execution_count": 91,
     "metadata": {},
     "output_type": "execute_result"
    }
   ],
   "source": [
    "processed['B2:V'].iloc[0].nbytes"
   ]
  },
  {
   "cell_type": "code",
   "execution_count": 92,
   "metadata": {},
   "outputs": [
    {
     "data": {
      "text/plain": [
       "14256"
      ]
     },
     "execution_count": 92,
     "metadata": {},
     "output_type": "execute_result"
    }
   ],
   "source": [
    "dblm[observable].iloc[0].nbytes"
   ]
  },
  {
   "cell_type": "code",
   "execution_count": 85,
   "metadata": {},
   "outputs": [
    {
     "data": {
      "application/vnd.jupyter.widget-view+json": {
       "model_id": "e71d073c9b1f45168ed6dcf6683b1285",
       "version_major": 2,
       "version_minor": 0
      },
      "image/png": "[encoded data removed]",
      "text/html": [
       "\n",
       "            <div style=\"display: inline-block;\">\n",
       "                <div class=\"jupyter-widgets widget-label\" style=\"text-align: center;\">\n",
       "                    Figure\n",
       "                </div>\n",
       "                <img src='data:image/png;base64,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' width=640.0/>\n",
       "            </div>\n",
       "        "
      ],
      "text/plain": [
       "Canvas(toolbar=Toolbar(toolitems=[('Home', 'Reset original view', 'home', 'home'), ('Back', 'Back to previous …"
      ]
     },
     "metadata": {},
     "output_type": "display_data"
    }
   ],
   "source": [
    "beam = beams[1]\n",
    "bunches = [1334,1335]\n",
    "\n",
    "plt.figure()\n",
    "for bunch,ls in zip(bunches,['-','--']):\n",
    "    for dblmType,color in zip(['V','H-V-S'],['C0','C2']):\n",
    "        observable = beam.dBLM_Amp[dblmType]\n",
    "        data = dblm[observable].dropna().apply(lambda line:line[bunch])\n",
    "        plt.plot(data.index/1e9,data.values,ls=ls,color=color)\n",
    "# plt.plot()"
   ]
  },
  {
   "cell_type": "code",
   "execution_count": null,
   "metadata": {},
   "outputs": [],
   "source": [
    "beam = beams[1]\n",
    "bunches = [1334,1335]\n",
    "\n",
    "plt.figure()\n",
    "for bunch,ls in zip(bunches,['-','--']):\n",
    "    for dblmType,color in zip(['V'],['C0','C2']):#zip(['V','H-V-S'],['C0','C2']):\n",
    "        observable = f'{beam.name}:{dblmType}'\n",
    "        data = processed[observable].dropna().apply(lambda line:line[bunch])\n",
    "        plt.plot(data.index/1e9,data.values,ls=ls,color=color)\n",
    "\n",
    "plt.axvline(data.index[200]/1e9)"
   ]
  },
  {
   "cell_type": "code",
   "execution_count": null,
   "metadata": {},
   "outputs": [],
   "source": [
    "beam.dBLM_Amp['V']"
   ]
  },
  {
   "cell_type": "code",
   "execution_count": null,
   "metadata": {},
   "outputs": [],
   "source": [
    "beam = beams[1]\n",
    "bunches = [1334,1335]\n",
    "\n",
    "plt.figure()\n",
    "for bunch,ls in zip(bunches,['-','--']):\n",
    "    for dblmType,color in zip(['V'],['C0','C2']):#zip(['V','H-V-S'],['C0','C2']):\n",
    "        observable = f'{beam.name}:{dblmType}'\n",
    "        data = old[observable].dropna().apply(lambda line:line[bunch])\n",
    "        plt.plot(data.index/1e9,data.values,ls=ls,color=color)\n",
    "\n",
    "plt.axvline(data.index[200]/1e9)"
   ]
  }
 ],
 "metadata": {
  "kernelspec": {
   "display_name": "py_wireDAQ",
   "language": "python",
   "name": "py_wiredaq"
  },
  "language_info": {
   "codemirror_mode": {
    "name": "ipython",
    "version": 3
   },
   "file_extension": ".py",
   "mimetype": "text/x-python",
   "name": "python",
   "nbconvert_exporter": "python",
   "pygments_lexer": "ipython3",
   "version": "3.10.10"
  },
  "orig_nbformat": 4
 },
 "nbformat": 4,
 "nbformat_minor": 2
}
